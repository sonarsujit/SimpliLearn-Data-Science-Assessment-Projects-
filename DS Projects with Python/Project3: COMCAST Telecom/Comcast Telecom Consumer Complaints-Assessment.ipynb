{
 "cells": [
  {
   "cell_type": "markdown",
   "metadata": {},
   "source": [
    "# Comcast Telecom Consumer Complaints"
   ]
  },
  {
   "cell_type": "code",
   "execution_count": 70,
   "metadata": {},
   "outputs": [],
   "source": [
    "#Importing libraries\n",
    "\n",
    "import pandas as pd\n",
    "import numpy as np\n",
    "\n",
    "#from sorted_months_weekdays import *\n",
    "#from sort_dataframeby_monthorweek import *\n",
    "\n",
    "from matplotlib import pyplot as plt\n",
    "%matplotlib inline\n",
    "import seaborn as sns\n",
    "\n",
    "#import plotly.express as px\n",
    "#import plotly.graph_objects as go\n"
   ]
  },
  {
   "cell_type": "code",
   "execution_count": 71,
   "metadata": {},
   "outputs": [],
   "source": [
    "# reading data to data frame\n",
    "df = pd.read_csv('Comcast_telecom_complaints_data.csv')"
   ]
  },
  {
   "cell_type": "markdown",
   "metadata": {},
   "source": [
    "## Basic data check"
   ]
  },
  {
   "cell_type": "code",
   "execution_count": 72,
   "metadata": {},
   "outputs": [
    {
     "data": {
      "text/plain": [
       "(2224, 11)"
      ]
     },
     "execution_count": 72,
     "metadata": {},
     "output_type": "execute_result"
    }
   ],
   "source": [
    "df.shape"
   ]
  },
  {
   "cell_type": "code",
   "execution_count": 73,
   "metadata": {},
   "outputs": [
    {
     "data": {
      "text/plain": [
       "Ticket #                       object\n",
       "Customer Complaint             object\n",
       "Date                           object\n",
       "Date_month_year                object\n",
       "Time                           object\n",
       "Received Via                   object\n",
       "City                           object\n",
       "State                          object\n",
       "Zip code                        int64\n",
       "Status                         object\n",
       "Filing on Behalf of Someone    object\n",
       "dtype: object"
      ]
     },
     "execution_count": 73,
     "metadata": {},
     "output_type": "execute_result"
    }
   ],
   "source": [
    "df.dtypes"
   ]
  },
  {
   "cell_type": "code",
   "execution_count": 74,
   "metadata": {},
   "outputs": [
    {
     "data": {
      "text/html": [
       "<div>\n",
       "<style scoped>\n",
       "    .dataframe tbody tr th:only-of-type {\n",
       "        vertical-align: middle;\n",
       "    }\n",
       "\n",
       "    .dataframe tbody tr th {\n",
       "        vertical-align: top;\n",
       "    }\n",
       "\n",
       "    .dataframe thead th {\n",
       "        text-align: right;\n",
       "    }\n",
       "</style>\n",
       "<table border=\"1\" class=\"dataframe\">\n",
       "  <thead>\n",
       "    <tr style=\"text-align: right;\">\n",
       "      <th></th>\n",
       "      <th>Ticket #</th>\n",
       "      <th>Customer Complaint</th>\n",
       "      <th>Date</th>\n",
       "      <th>Date_month_year</th>\n",
       "      <th>Time</th>\n",
       "      <th>Received Via</th>\n",
       "      <th>City</th>\n",
       "      <th>State</th>\n",
       "      <th>Zip code</th>\n",
       "      <th>Status</th>\n",
       "      <th>Filing on Behalf of Someone</th>\n",
       "    </tr>\n",
       "  </thead>\n",
       "  <tbody>\n",
       "    <tr>\n",
       "      <th>0</th>\n",
       "      <td>250635</td>\n",
       "      <td>Comcast Cable Internet Speeds</td>\n",
       "      <td>22-04-15</td>\n",
       "      <td>22-Apr-15</td>\n",
       "      <td>3:53:50 PM</td>\n",
       "      <td>Customer Care Call</td>\n",
       "      <td>Abingdon</td>\n",
       "      <td>Maryland</td>\n",
       "      <td>21009</td>\n",
       "      <td>Closed</td>\n",
       "      <td>No</td>\n",
       "    </tr>\n",
       "    <tr>\n",
       "      <th>1</th>\n",
       "      <td>223441</td>\n",
       "      <td>Payment disappear - service got disconnected</td>\n",
       "      <td>04-08-15</td>\n",
       "      <td>04-Aug-15</td>\n",
       "      <td>10:22:56 AM</td>\n",
       "      <td>Internet</td>\n",
       "      <td>Acworth</td>\n",
       "      <td>Georgia</td>\n",
       "      <td>30102</td>\n",
       "      <td>Closed</td>\n",
       "      <td>No</td>\n",
       "    </tr>\n",
       "    <tr>\n",
       "      <th>2</th>\n",
       "      <td>242732</td>\n",
       "      <td>Speed and Service</td>\n",
       "      <td>18-04-15</td>\n",
       "      <td>18-Apr-15</td>\n",
       "      <td>9:55:47 AM</td>\n",
       "      <td>Internet</td>\n",
       "      <td>Acworth</td>\n",
       "      <td>Georgia</td>\n",
       "      <td>30101</td>\n",
       "      <td>Closed</td>\n",
       "      <td>Yes</td>\n",
       "    </tr>\n",
       "    <tr>\n",
       "      <th>3</th>\n",
       "      <td>277946</td>\n",
       "      <td>Comcast Imposed a New Usage Cap of 300GB that ...</td>\n",
       "      <td>05-07-15</td>\n",
       "      <td>05-Jul-15</td>\n",
       "      <td>11:59:35 AM</td>\n",
       "      <td>Internet</td>\n",
       "      <td>Acworth</td>\n",
       "      <td>Georgia</td>\n",
       "      <td>30101</td>\n",
       "      <td>Open</td>\n",
       "      <td>Yes</td>\n",
       "    </tr>\n",
       "    <tr>\n",
       "      <th>4</th>\n",
       "      <td>307175</td>\n",
       "      <td>Comcast not working and no service to boot</td>\n",
       "      <td>26-05-15</td>\n",
       "      <td>26-May-15</td>\n",
       "      <td>1:25:26 PM</td>\n",
       "      <td>Internet</td>\n",
       "      <td>Acworth</td>\n",
       "      <td>Georgia</td>\n",
       "      <td>30101</td>\n",
       "      <td>Solved</td>\n",
       "      <td>No</td>\n",
       "    </tr>\n",
       "  </tbody>\n",
       "</table>\n",
       "</div>"
      ],
      "text/plain": [
       "  Ticket #                                 Customer Complaint      Date  \\\n",
       "0   250635                      Comcast Cable Internet Speeds  22-04-15   \n",
       "1   223441       Payment disappear - service got disconnected  04-08-15   \n",
       "2   242732                                  Speed and Service  18-04-15   \n",
       "3   277946  Comcast Imposed a New Usage Cap of 300GB that ...  05-07-15   \n",
       "4   307175         Comcast not working and no service to boot  26-05-15   \n",
       "\n",
       "  Date_month_year         Time        Received Via      City     State  \\\n",
       "0       22-Apr-15   3:53:50 PM  Customer Care Call  Abingdon  Maryland   \n",
       "1       04-Aug-15  10:22:56 AM            Internet   Acworth   Georgia   \n",
       "2       18-Apr-15   9:55:47 AM            Internet   Acworth   Georgia   \n",
       "3       05-Jul-15  11:59:35 AM            Internet   Acworth   Georgia   \n",
       "4       26-May-15   1:25:26 PM            Internet   Acworth   Georgia   \n",
       "\n",
       "   Zip code  Status Filing on Behalf of Someone  \n",
       "0     21009  Closed                          No  \n",
       "1     30102  Closed                          No  \n",
       "2     30101  Closed                         Yes  \n",
       "3     30101    Open                         Yes  \n",
       "4     30101  Solved                          No  "
      ]
     },
     "execution_count": 74,
     "metadata": {},
     "output_type": "execute_result"
    }
   ],
   "source": [
    "df.head()\n",
    "#df.tail()"
   ]
  },
  {
   "cell_type": "code",
   "execution_count": 75,
   "metadata": {},
   "outputs": [
    {
     "data": {
      "text/html": [
       "<div>\n",
       "<style scoped>\n",
       "    .dataframe tbody tr th:only-of-type {\n",
       "        vertical-align: middle;\n",
       "    }\n",
       "\n",
       "    .dataframe tbody tr th {\n",
       "        vertical-align: top;\n",
       "    }\n",
       "\n",
       "    .dataframe thead th {\n",
       "        text-align: right;\n",
       "    }\n",
       "</style>\n",
       "<table border=\"1\" class=\"dataframe\">\n",
       "  <thead>\n",
       "    <tr style=\"text-align: right;\">\n",
       "      <th></th>\n",
       "      <th>Ticket #</th>\n",
       "      <th>Customer Complaint</th>\n",
       "      <th>Date</th>\n",
       "      <th>Date_month_year</th>\n",
       "      <th>Time</th>\n",
       "      <th>Received Via</th>\n",
       "      <th>City</th>\n",
       "      <th>State</th>\n",
       "      <th>Zip code</th>\n",
       "      <th>Status</th>\n",
       "      <th>Filing on Behalf of Someone</th>\n",
       "    </tr>\n",
       "  </thead>\n",
       "  <tbody>\n",
       "  </tbody>\n",
       "</table>\n",
       "</div>"
      ],
      "text/plain": [
       "Empty DataFrame\n",
       "Columns: [Ticket #, Customer Complaint, Date, Date_month_year, Time, Received Via, City, State, Zip code, Status, Filing on Behalf of Someone]\n",
       "Index: []"
      ]
     },
     "execution_count": 75,
     "metadata": {},
     "output_type": "execute_result"
    }
   ],
   "source": [
    "#Checking duplicate rows based on all columns\n",
    "dup_df = df[df.duplicated()]\n",
    "dup_df"
   ]
  },
  {
   "cell_type": "code",
   "execution_count": null,
   "metadata": {},
   "outputs": [],
   "source": [
    "# based on the results we see that thare are no duplicate row entrys based on all the columns"
   ]
  },
  {
   "cell_type": "code",
   "execution_count": 76,
   "metadata": {},
   "outputs": [
    {
     "data": {
      "text/plain": [
       "Ticket #                       0\n",
       "Customer Complaint             0\n",
       "Date                           0\n",
       "Date_month_year                0\n",
       "Time                           0\n",
       "Received Via                   0\n",
       "City                           0\n",
       "State                          0\n",
       "Zip code                       0\n",
       "Status                         0\n",
       "Filing on Behalf of Someone    0\n",
       "dtype: int64"
      ]
     },
     "execution_count": 76,
     "metadata": {},
     "output_type": "execute_result"
    }
   ],
   "source": [
    "#checking missing values\n",
    "df.isnull().sum()"
   ]
  },
  {
   "cell_type": "code",
   "execution_count": null,
   "metadata": {},
   "outputs": [],
   "source": [
    "# we see that there is no missing values in the data set."
   ]
  },
  {
   "cell_type": "code",
   "execution_count": 77,
   "metadata": {},
   "outputs": [
    {
     "data": {
      "text/html": [
       "<div>\n",
       "<style scoped>\n",
       "    .dataframe tbody tr th:only-of-type {\n",
       "        vertical-align: middle;\n",
       "    }\n",
       "\n",
       "    .dataframe tbody tr th {\n",
       "        vertical-align: top;\n",
       "    }\n",
       "\n",
       "    .dataframe thead th {\n",
       "        text-align: right;\n",
       "    }\n",
       "</style>\n",
       "<table border=\"1\" class=\"dataframe\">\n",
       "  <thead>\n",
       "    <tr style=\"text-align: right;\">\n",
       "      <th></th>\n",
       "      <th>Ticket #</th>\n",
       "      <th>Customer Complaint</th>\n",
       "      <th>Date</th>\n",
       "      <th>Date_month_year</th>\n",
       "      <th>Time</th>\n",
       "      <th>Received Via</th>\n",
       "      <th>City</th>\n",
       "      <th>State</th>\n",
       "      <th>Zip code</th>\n",
       "      <th>Status</th>\n",
       "      <th>Filing on Behalf of Someone</th>\n",
       "    </tr>\n",
       "  </thead>\n",
       "  <tbody>\n",
       "    <tr>\n",
       "      <th>count</th>\n",
       "      <td>2224</td>\n",
       "      <td>2224</td>\n",
       "      <td>2224</td>\n",
       "      <td>2224</td>\n",
       "      <td>2224</td>\n",
       "      <td>2224</td>\n",
       "      <td>2224</td>\n",
       "      <td>2224</td>\n",
       "      <td>2224.000000</td>\n",
       "      <td>2224</td>\n",
       "      <td>2224</td>\n",
       "    </tr>\n",
       "    <tr>\n",
       "      <th>unique</th>\n",
       "      <td>2224</td>\n",
       "      <td>1841</td>\n",
       "      <td>91</td>\n",
       "      <td>91</td>\n",
       "      <td>2190</td>\n",
       "      <td>2</td>\n",
       "      <td>928</td>\n",
       "      <td>43</td>\n",
       "      <td>NaN</td>\n",
       "      <td>4</td>\n",
       "      <td>2</td>\n",
       "    </tr>\n",
       "    <tr>\n",
       "      <th>top</th>\n",
       "      <td>317911</td>\n",
       "      <td>Comcast</td>\n",
       "      <td>24-06-15</td>\n",
       "      <td>24-Jun-15</td>\n",
       "      <td>3:25:33 PM</td>\n",
       "      <td>Customer Care Call</td>\n",
       "      <td>Atlanta</td>\n",
       "      <td>Georgia</td>\n",
       "      <td>NaN</td>\n",
       "      <td>Solved</td>\n",
       "      <td>No</td>\n",
       "    </tr>\n",
       "    <tr>\n",
       "      <th>freq</th>\n",
       "      <td>1</td>\n",
       "      <td>83</td>\n",
       "      <td>218</td>\n",
       "      <td>218</td>\n",
       "      <td>2</td>\n",
       "      <td>1119</td>\n",
       "      <td>63</td>\n",
       "      <td>288</td>\n",
       "      <td>NaN</td>\n",
       "      <td>973</td>\n",
       "      <td>2021</td>\n",
       "    </tr>\n",
       "    <tr>\n",
       "      <th>mean</th>\n",
       "      <td>NaN</td>\n",
       "      <td>NaN</td>\n",
       "      <td>NaN</td>\n",
       "      <td>NaN</td>\n",
       "      <td>NaN</td>\n",
       "      <td>NaN</td>\n",
       "      <td>NaN</td>\n",
       "      <td>NaN</td>\n",
       "      <td>47994.393435</td>\n",
       "      <td>NaN</td>\n",
       "      <td>NaN</td>\n",
       "    </tr>\n",
       "    <tr>\n",
       "      <th>std</th>\n",
       "      <td>NaN</td>\n",
       "      <td>NaN</td>\n",
       "      <td>NaN</td>\n",
       "      <td>NaN</td>\n",
       "      <td>NaN</td>\n",
       "      <td>NaN</td>\n",
       "      <td>NaN</td>\n",
       "      <td>NaN</td>\n",
       "      <td>28885.279427</td>\n",
       "      <td>NaN</td>\n",
       "      <td>NaN</td>\n",
       "    </tr>\n",
       "    <tr>\n",
       "      <th>min</th>\n",
       "      <td>NaN</td>\n",
       "      <td>NaN</td>\n",
       "      <td>NaN</td>\n",
       "      <td>NaN</td>\n",
       "      <td>NaN</td>\n",
       "      <td>NaN</td>\n",
       "      <td>NaN</td>\n",
       "      <td>NaN</td>\n",
       "      <td>1075.000000</td>\n",
       "      <td>NaN</td>\n",
       "      <td>NaN</td>\n",
       "    </tr>\n",
       "    <tr>\n",
       "      <th>25%</th>\n",
       "      <td>NaN</td>\n",
       "      <td>NaN</td>\n",
       "      <td>NaN</td>\n",
       "      <td>NaN</td>\n",
       "      <td>NaN</td>\n",
       "      <td>NaN</td>\n",
       "      <td>NaN</td>\n",
       "      <td>NaN</td>\n",
       "      <td>30056.500000</td>\n",
       "      <td>NaN</td>\n",
       "      <td>NaN</td>\n",
       "    </tr>\n",
       "    <tr>\n",
       "      <th>50%</th>\n",
       "      <td>NaN</td>\n",
       "      <td>NaN</td>\n",
       "      <td>NaN</td>\n",
       "      <td>NaN</td>\n",
       "      <td>NaN</td>\n",
       "      <td>NaN</td>\n",
       "      <td>NaN</td>\n",
       "      <td>NaN</td>\n",
       "      <td>37211.000000</td>\n",
       "      <td>NaN</td>\n",
       "      <td>NaN</td>\n",
       "    </tr>\n",
       "    <tr>\n",
       "      <th>75%</th>\n",
       "      <td>NaN</td>\n",
       "      <td>NaN</td>\n",
       "      <td>NaN</td>\n",
       "      <td>NaN</td>\n",
       "      <td>NaN</td>\n",
       "      <td>NaN</td>\n",
       "      <td>NaN</td>\n",
       "      <td>NaN</td>\n",
       "      <td>77058.750000</td>\n",
       "      <td>NaN</td>\n",
       "      <td>NaN</td>\n",
       "    </tr>\n",
       "    <tr>\n",
       "      <th>max</th>\n",
       "      <td>NaN</td>\n",
       "      <td>NaN</td>\n",
       "      <td>NaN</td>\n",
       "      <td>NaN</td>\n",
       "      <td>NaN</td>\n",
       "      <td>NaN</td>\n",
       "      <td>NaN</td>\n",
       "      <td>NaN</td>\n",
       "      <td>99223.000000</td>\n",
       "      <td>NaN</td>\n",
       "      <td>NaN</td>\n",
       "    </tr>\n",
       "  </tbody>\n",
       "</table>\n",
       "</div>"
      ],
      "text/plain": [
       "       Ticket # Customer Complaint      Date Date_month_year        Time  \\\n",
       "count      2224               2224      2224            2224        2224   \n",
       "unique     2224               1841        91              91        2190   \n",
       "top      317911            Comcast  24-06-15       24-Jun-15  3:25:33 PM   \n",
       "freq          1                 83       218             218           2   \n",
       "mean        NaN                NaN       NaN             NaN         NaN   \n",
       "std         NaN                NaN       NaN             NaN         NaN   \n",
       "min         NaN                NaN       NaN             NaN         NaN   \n",
       "25%         NaN                NaN       NaN             NaN         NaN   \n",
       "50%         NaN                NaN       NaN             NaN         NaN   \n",
       "75%         NaN                NaN       NaN             NaN         NaN   \n",
       "max         NaN                NaN       NaN             NaN         NaN   \n",
       "\n",
       "              Received Via     City    State      Zip code  Status  \\\n",
       "count                 2224     2224     2224   2224.000000    2224   \n",
       "unique                   2      928       43           NaN       4   \n",
       "top     Customer Care Call  Atlanta  Georgia           NaN  Solved   \n",
       "freq                  1119       63      288           NaN     973   \n",
       "mean                   NaN      NaN      NaN  47994.393435     NaN   \n",
       "std                    NaN      NaN      NaN  28885.279427     NaN   \n",
       "min                    NaN      NaN      NaN   1075.000000     NaN   \n",
       "25%                    NaN      NaN      NaN  30056.500000     NaN   \n",
       "50%                    NaN      NaN      NaN  37211.000000     NaN   \n",
       "75%                    NaN      NaN      NaN  77058.750000     NaN   \n",
       "max                    NaN      NaN      NaN  99223.000000     NaN   \n",
       "\n",
       "       Filing on Behalf of Someone  \n",
       "count                         2224  \n",
       "unique                           2  \n",
       "top                             No  \n",
       "freq                          2021  \n",
       "mean                           NaN  \n",
       "std                            NaN  \n",
       "min                            NaN  \n",
       "25%                            NaN  \n",
       "50%                            NaN  \n",
       "75%                            NaN  \n",
       "max                            NaN  "
      ]
     },
     "execution_count": 77,
     "metadata": {},
     "output_type": "execute_result"
    }
   ],
   "source": [
    "df.describe(include='all')"
   ]
  },
  {
   "cell_type": "markdown",
   "metadata": {},
   "source": [
    "### Observations 1:\n",
    "* We have 2224 rows and 11 columns\n",
    "* We see date and date_month_year and time are of type object and we may need to format it to correct data type for further analysis\n",
    "* There are no duplicates records based on all columns\n",
    "* There are no missing values in the given dataset"
   ]
  },
  {
   "cell_type": "markdown",
   "metadata": {},
   "source": [
    "## to Analyze:\n",
    "- Provide the trend chart for the number of complaints at monthly and daily granularity levels.\n",
    "- Provide a table with the frequency of complaint types.\n",
    "    * Which complaint types are maximum i.e., around internet, network issues, or across any other domains.\n",
    "\n",
    "- Create a new categorical variable with value as Open and Closed. Open & Pending is to be categorized as Open and Closed & Solved is to be categorized as Closed.\n",
    "- Provide state wise status of complaints in a stacked bar chart. Use the categorized variable from Q3. Provide insights on:\n",
    "    * Which state has the maximum complaints\n",
    "    * Which state has the highest percentage of unresolved complaints\n",
    "\n",
    "- Provide the percentage of complaints resolved till date, which were received through the Internet and customer care calls."
   ]
  },
  {
   "cell_type": "markdown",
   "metadata": {},
   "source": [
    "### Data Preparation & Approach\n",
    "\n",
    "Looking at the above set of details to analyse, we need to first prep the given data\n",
    "\n",
    "* for checking the trend of number of complaint,s we need to format the given date and time data which is currently in string/object into correct datetime fromat so that we can apply datetime funcstions to the data to summarise or create plots correctly\n",
    "\n",
    "\n",
    "* To find out the complaint types, we need to create a custom Complaint Types category based on the customer complaints\n",
    "   * Since there is no complaint types or category provided, we can use pandas methods to find the key word frequency ( example, internet, billing, etc) using the Customer Complaints data to get the general sense on what type of issues/complaints are being reported\n",
    "   * using these key word frequency, we can create a custome category of Coustomer complalints\n",
    "   \n",
    "   \n",
    "* Using this newly created Complaint Types category we can create afrequency table of complaint types\n",
    "\n",
    "\n",
    "* We need to create a new  Status Category column in the data frame using the Status column ( Open, Closed, Pending and solved , such that Open & Pending is to be categorized as Open and Closed & Solved is to be categorized as Closed.\n",
    "\n",
    "\n",
    "* any additional helper columns can be added to the dataframe to help make analysis easy"
   ]
  },
  {
   "cell_type": "markdown",
   "metadata": {},
   "source": [
    "### Formatting date and time"
   ]
  },
  {
   "cell_type": "code",
   "execution_count": 78,
   "metadata": {},
   "outputs": [],
   "source": [
    "df_comcast=df.copy()"
   ]
  },
  {
   "cell_type": "code",
   "execution_count": 79,
   "metadata": {},
   "outputs": [
    {
     "data": {
      "text/html": [
       "<div>\n",
       "<style scoped>\n",
       "    .dataframe tbody tr th:only-of-type {\n",
       "        vertical-align: middle;\n",
       "    }\n",
       "\n",
       "    .dataframe tbody tr th {\n",
       "        vertical-align: top;\n",
       "    }\n",
       "\n",
       "    .dataframe thead th {\n",
       "        text-align: right;\n",
       "    }\n",
       "</style>\n",
       "<table border=\"1\" class=\"dataframe\">\n",
       "  <thead>\n",
       "    <tr style=\"text-align: right;\">\n",
       "      <th></th>\n",
       "      <th>Ticket #</th>\n",
       "      <th>Customer Complaint</th>\n",
       "      <th>Date</th>\n",
       "      <th>Date_month_year</th>\n",
       "      <th>Time</th>\n",
       "      <th>Received Via</th>\n",
       "      <th>City</th>\n",
       "      <th>State</th>\n",
       "      <th>Zip code</th>\n",
       "      <th>Status</th>\n",
       "      <th>Filing on Behalf of Someone</th>\n",
       "    </tr>\n",
       "  </thead>\n",
       "  <tbody>\n",
       "    <tr>\n",
       "      <th>0</th>\n",
       "      <td>250635</td>\n",
       "      <td>Comcast Cable Internet Speeds</td>\n",
       "      <td>22-04-15</td>\n",
       "      <td>22-Apr-15</td>\n",
       "      <td>3:53:50 PM</td>\n",
       "      <td>Customer Care Call</td>\n",
       "      <td>Abingdon</td>\n",
       "      <td>Maryland</td>\n",
       "      <td>21009</td>\n",
       "      <td>Closed</td>\n",
       "      <td>No</td>\n",
       "    </tr>\n",
       "    <tr>\n",
       "      <th>1</th>\n",
       "      <td>223441</td>\n",
       "      <td>Payment disappear - service got disconnected</td>\n",
       "      <td>04-08-15</td>\n",
       "      <td>04-Aug-15</td>\n",
       "      <td>10:22:56 AM</td>\n",
       "      <td>Internet</td>\n",
       "      <td>Acworth</td>\n",
       "      <td>Georgia</td>\n",
       "      <td>30102</td>\n",
       "      <td>Closed</td>\n",
       "      <td>No</td>\n",
       "    </tr>\n",
       "    <tr>\n",
       "      <th>2</th>\n",
       "      <td>242732</td>\n",
       "      <td>Speed and Service</td>\n",
       "      <td>18-04-15</td>\n",
       "      <td>18-Apr-15</td>\n",
       "      <td>9:55:47 AM</td>\n",
       "      <td>Internet</td>\n",
       "      <td>Acworth</td>\n",
       "      <td>Georgia</td>\n",
       "      <td>30101</td>\n",
       "      <td>Closed</td>\n",
       "      <td>Yes</td>\n",
       "    </tr>\n",
       "    <tr>\n",
       "      <th>3</th>\n",
       "      <td>277946</td>\n",
       "      <td>Comcast Imposed a New Usage Cap of 300GB that ...</td>\n",
       "      <td>05-07-15</td>\n",
       "      <td>05-Jul-15</td>\n",
       "      <td>11:59:35 AM</td>\n",
       "      <td>Internet</td>\n",
       "      <td>Acworth</td>\n",
       "      <td>Georgia</td>\n",
       "      <td>30101</td>\n",
       "      <td>Open</td>\n",
       "      <td>Yes</td>\n",
       "    </tr>\n",
       "    <tr>\n",
       "      <th>4</th>\n",
       "      <td>307175</td>\n",
       "      <td>Comcast not working and no service to boot</td>\n",
       "      <td>26-05-15</td>\n",
       "      <td>26-May-15</td>\n",
       "      <td>1:25:26 PM</td>\n",
       "      <td>Internet</td>\n",
       "      <td>Acworth</td>\n",
       "      <td>Georgia</td>\n",
       "      <td>30101</td>\n",
       "      <td>Solved</td>\n",
       "      <td>No</td>\n",
       "    </tr>\n",
       "  </tbody>\n",
       "</table>\n",
       "</div>"
      ],
      "text/plain": [
       "  Ticket #                                 Customer Complaint      Date  \\\n",
       "0   250635                      Comcast Cable Internet Speeds  22-04-15   \n",
       "1   223441       Payment disappear - service got disconnected  04-08-15   \n",
       "2   242732                                  Speed and Service  18-04-15   \n",
       "3   277946  Comcast Imposed a New Usage Cap of 300GB that ...  05-07-15   \n",
       "4   307175         Comcast not working and no service to boot  26-05-15   \n",
       "\n",
       "  Date_month_year         Time        Received Via      City     State  \\\n",
       "0       22-Apr-15   3:53:50 PM  Customer Care Call  Abingdon  Maryland   \n",
       "1       04-Aug-15  10:22:56 AM            Internet   Acworth   Georgia   \n",
       "2       18-Apr-15   9:55:47 AM            Internet   Acworth   Georgia   \n",
       "3       05-Jul-15  11:59:35 AM            Internet   Acworth   Georgia   \n",
       "4       26-May-15   1:25:26 PM            Internet   Acworth   Georgia   \n",
       "\n",
       "   Zip code  Status Filing on Behalf of Someone  \n",
       "0     21009  Closed                          No  \n",
       "1     30102  Closed                          No  \n",
       "2     30101  Closed                         Yes  \n",
       "3     30101    Open                         Yes  \n",
       "4     30101  Solved                          No  "
      ]
     },
     "execution_count": 79,
     "metadata": {},
     "output_type": "execute_result"
    }
   ],
   "source": [
    "df_comcast.head()"
   ]
  },
  {
   "cell_type": "code",
   "execution_count": 80,
   "metadata": {},
   "outputs": [
    {
     "data": {
      "text/html": [
       "<div>\n",
       "<style scoped>\n",
       "    .dataframe tbody tr th:only-of-type {\n",
       "        vertical-align: middle;\n",
       "    }\n",
       "\n",
       "    .dataframe tbody tr th {\n",
       "        vertical-align: top;\n",
       "    }\n",
       "\n",
       "    .dataframe thead th {\n",
       "        text-align: right;\n",
       "    }\n",
       "</style>\n",
       "<table border=\"1\" class=\"dataframe\">\n",
       "  <thead>\n",
       "    <tr style=\"text-align: right;\">\n",
       "      <th></th>\n",
       "      <th>Ticket #</th>\n",
       "      <th>Customer Complaint</th>\n",
       "      <th>Date</th>\n",
       "      <th>Date_month_year</th>\n",
       "      <th>Time</th>\n",
       "      <th>Received Via</th>\n",
       "      <th>City</th>\n",
       "      <th>State</th>\n",
       "      <th>Zip code</th>\n",
       "      <th>Status</th>\n",
       "      <th>Filing on Behalf of Someone</th>\n",
       "    </tr>\n",
       "  </thead>\n",
       "  <tbody>\n",
       "    <tr>\n",
       "      <th>1416</th>\n",
       "      <td>218108</td>\n",
       "      <td>Comcast Business Phone/Internet Contract Disag...</td>\n",
       "      <td>04-04-15</td>\n",
       "      <td>04-Apr-15</td>\n",
       "      <td>6:39:55 PM</td>\n",
       "      <td>Internet</td>\n",
       "      <td>Newnan</td>\n",
       "      <td>Georgia</td>\n",
       "      <td>30265</td>\n",
       "      <td>Closed</td>\n",
       "      <td>No</td>\n",
       "    </tr>\n",
       "    <tr>\n",
       "      <th>1483</th>\n",
       "      <td>217985</td>\n",
       "      <td>bait and switch services for monetary gain</td>\n",
       "      <td>04-04-15</td>\n",
       "      <td>04-Apr-15</td>\n",
       "      <td>4:07:36 PM</td>\n",
       "      <td>Internet</td>\n",
       "      <td>Orcutt</td>\n",
       "      <td>California</td>\n",
       "      <td>93455</td>\n",
       "      <td>Closed</td>\n",
       "      <td>No</td>\n",
       "    </tr>\n",
       "    <tr>\n",
       "      <th>584</th>\n",
       "      <td>217999</td>\n",
       "      <td>Misleading information given</td>\n",
       "      <td>04-04-15</td>\n",
       "      <td>04-Apr-15</td>\n",
       "      <td>4:21:46 PM</td>\n",
       "      <td>Internet</td>\n",
       "      <td>Des Moines</td>\n",
       "      <td>Washington</td>\n",
       "      <td>98148</td>\n",
       "      <td>Closed</td>\n",
       "      <td>Yes</td>\n",
       "    </tr>\n",
       "    <tr>\n",
       "      <th>561</th>\n",
       "      <td>218043</td>\n",
       "      <td>comcast services</td>\n",
       "      <td>04-04-15</td>\n",
       "      <td>04-Apr-15</td>\n",
       "      <td>5:32:05 PM</td>\n",
       "      <td>Internet</td>\n",
       "      <td>Denver</td>\n",
       "      <td>Colorado</td>\n",
       "      <td>80227</td>\n",
       "      <td>Closed</td>\n",
       "      <td>No</td>\n",
       "    </tr>\n",
       "    <tr>\n",
       "      <th>1892</th>\n",
       "      <td>218168</td>\n",
       "      <td>Multiple Unauthorized and Unwarranted Credit C...</td>\n",
       "      <td>04-04-15</td>\n",
       "      <td>04-Apr-15</td>\n",
       "      <td>8:10:35 PM</td>\n",
       "      <td>Customer Care Call</td>\n",
       "      <td>Shoreview</td>\n",
       "      <td>Minnesota</td>\n",
       "      <td>55126</td>\n",
       "      <td>Closed</td>\n",
       "      <td>No</td>\n",
       "    </tr>\n",
       "  </tbody>\n",
       "</table>\n",
       "</div>"
      ],
      "text/plain": [
       "     Ticket #                                 Customer Complaint      Date  \\\n",
       "1416   218108  Comcast Business Phone/Internet Contract Disag...  04-04-15   \n",
       "1483   217985         bait and switch services for monetary gain  04-04-15   \n",
       "584    217999                       Misleading information given  04-04-15   \n",
       "561    218043                                   comcast services  04-04-15   \n",
       "1892   218168  Multiple Unauthorized and Unwarranted Credit C...  04-04-15   \n",
       "\n",
       "     Date_month_year        Time        Received Via        City       State  \\\n",
       "1416       04-Apr-15  6:39:55 PM            Internet      Newnan     Georgia   \n",
       "1483       04-Apr-15  4:07:36 PM            Internet      Orcutt  California   \n",
       "584        04-Apr-15  4:21:46 PM            Internet  Des Moines  Washington   \n",
       "561        04-Apr-15  5:32:05 PM            Internet      Denver    Colorado   \n",
       "1892       04-Apr-15  8:10:35 PM  Customer Care Call   Shoreview   Minnesota   \n",
       "\n",
       "      Zip code  Status Filing on Behalf of Someone  \n",
       "1416     30265  Closed                          No  \n",
       "1483     93455  Closed                          No  \n",
       "584      98148  Closed                         Yes  \n",
       "561      80227  Closed                          No  \n",
       "1892     55126  Closed                          No  "
      ]
     },
     "execution_count": 80,
     "metadata": {},
     "output_type": "execute_result"
    }
   ],
   "source": [
    "#sorting all data by col = Date \tDate_month_year in ascending order of Date \tDate_month_year\n",
    "df_comcast.sort_values(by='Date_month_year',ascending=True,inplace=True)\n",
    "df_comcast.head()"
   ]
  },
  {
   "cell_type": "code",
   "execution_count": 81,
   "metadata": {},
   "outputs": [
    {
     "data": {
      "text/html": [
       "<div>\n",
       "<style scoped>\n",
       "    .dataframe tbody tr th:only-of-type {\n",
       "        vertical-align: middle;\n",
       "    }\n",
       "\n",
       "    .dataframe tbody tr th {\n",
       "        vertical-align: top;\n",
       "    }\n",
       "\n",
       "    .dataframe thead th {\n",
       "        text-align: right;\n",
       "    }\n",
       "</style>\n",
       "<table border=\"1\" class=\"dataframe\">\n",
       "  <thead>\n",
       "    <tr style=\"text-align: right;\">\n",
       "      <th></th>\n",
       "      <th>Ticket #</th>\n",
       "      <th>Customer Complaint</th>\n",
       "      <th>Date</th>\n",
       "      <th>Date_month_year</th>\n",
       "      <th>Time</th>\n",
       "      <th>Received Via</th>\n",
       "      <th>City</th>\n",
       "      <th>State</th>\n",
       "      <th>Zip code</th>\n",
       "      <th>Status</th>\n",
       "      <th>Filing on Behalf of Someone</th>\n",
       "      <th>datetime</th>\n",
       "    </tr>\n",
       "  </thead>\n",
       "  <tbody>\n",
       "    <tr>\n",
       "      <th>1416</th>\n",
       "      <td>218108</td>\n",
       "      <td>Comcast Business Phone/Internet Contract Disag...</td>\n",
       "      <td>04-04-15</td>\n",
       "      <td>04-Apr-15</td>\n",
       "      <td>6:39:55 PM</td>\n",
       "      <td>Internet</td>\n",
       "      <td>Newnan</td>\n",
       "      <td>Georgia</td>\n",
       "      <td>30265</td>\n",
       "      <td>Closed</td>\n",
       "      <td>No</td>\n",
       "      <td>04-04-15 6:39:55 PM</td>\n",
       "    </tr>\n",
       "    <tr>\n",
       "      <th>1483</th>\n",
       "      <td>217985</td>\n",
       "      <td>bait and switch services for monetary gain</td>\n",
       "      <td>04-04-15</td>\n",
       "      <td>04-Apr-15</td>\n",
       "      <td>4:07:36 PM</td>\n",
       "      <td>Internet</td>\n",
       "      <td>Orcutt</td>\n",
       "      <td>California</td>\n",
       "      <td>93455</td>\n",
       "      <td>Closed</td>\n",
       "      <td>No</td>\n",
       "      <td>04-04-15 4:07:36 PM</td>\n",
       "    </tr>\n",
       "    <tr>\n",
       "      <th>584</th>\n",
       "      <td>217999</td>\n",
       "      <td>Misleading information given</td>\n",
       "      <td>04-04-15</td>\n",
       "      <td>04-Apr-15</td>\n",
       "      <td>4:21:46 PM</td>\n",
       "      <td>Internet</td>\n",
       "      <td>Des Moines</td>\n",
       "      <td>Washington</td>\n",
       "      <td>98148</td>\n",
       "      <td>Closed</td>\n",
       "      <td>Yes</td>\n",
       "      <td>04-04-15 4:21:46 PM</td>\n",
       "    </tr>\n",
       "    <tr>\n",
       "      <th>561</th>\n",
       "      <td>218043</td>\n",
       "      <td>comcast services</td>\n",
       "      <td>04-04-15</td>\n",
       "      <td>04-Apr-15</td>\n",
       "      <td>5:32:05 PM</td>\n",
       "      <td>Internet</td>\n",
       "      <td>Denver</td>\n",
       "      <td>Colorado</td>\n",
       "      <td>80227</td>\n",
       "      <td>Closed</td>\n",
       "      <td>No</td>\n",
       "      <td>04-04-15 5:32:05 PM</td>\n",
       "    </tr>\n",
       "    <tr>\n",
       "      <th>1892</th>\n",
       "      <td>218168</td>\n",
       "      <td>Multiple Unauthorized and Unwarranted Credit C...</td>\n",
       "      <td>04-04-15</td>\n",
       "      <td>04-Apr-15</td>\n",
       "      <td>8:10:35 PM</td>\n",
       "      <td>Customer Care Call</td>\n",
       "      <td>Shoreview</td>\n",
       "      <td>Minnesota</td>\n",
       "      <td>55126</td>\n",
       "      <td>Closed</td>\n",
       "      <td>No</td>\n",
       "      <td>04-04-15 8:10:35 PM</td>\n",
       "    </tr>\n",
       "  </tbody>\n",
       "</table>\n",
       "</div>"
      ],
      "text/plain": [
       "     Ticket #                                 Customer Complaint      Date  \\\n",
       "1416   218108  Comcast Business Phone/Internet Contract Disag...  04-04-15   \n",
       "1483   217985         bait and switch services for monetary gain  04-04-15   \n",
       "584    217999                       Misleading information given  04-04-15   \n",
       "561    218043                                   comcast services  04-04-15   \n",
       "1892   218168  Multiple Unauthorized and Unwarranted Credit C...  04-04-15   \n",
       "\n",
       "     Date_month_year        Time        Received Via        City       State  \\\n",
       "1416       04-Apr-15  6:39:55 PM            Internet      Newnan     Georgia   \n",
       "1483       04-Apr-15  4:07:36 PM            Internet      Orcutt  California   \n",
       "584        04-Apr-15  4:21:46 PM            Internet  Des Moines  Washington   \n",
       "561        04-Apr-15  5:32:05 PM            Internet      Denver    Colorado   \n",
       "1892       04-Apr-15  8:10:35 PM  Customer Care Call   Shoreview   Minnesota   \n",
       "\n",
       "      Zip code  Status Filing on Behalf of Someone             datetime  \n",
       "1416     30265  Closed                          No  04-04-15 6:39:55 PM  \n",
       "1483     93455  Closed                          No  04-04-15 4:07:36 PM  \n",
       "584      98148  Closed                         Yes  04-04-15 4:21:46 PM  \n",
       "561      80227  Closed                          No  04-04-15 5:32:05 PM  \n",
       "1892     55126  Closed                          No  04-04-15 8:10:35 PM  "
      ]
     },
     "execution_count": 81,
     "metadata": {},
     "output_type": "execute_result"
    }
   ],
   "source": [
    "#combing date and Time and creating a new col\n",
    "df_comcast['datetime']= df_comcast['Date']+' '+df_comcast['Time']\n",
    "df_comcast.head()"
   ]
  },
  {
   "cell_type": "code",
   "execution_count": 82,
   "metadata": {},
   "outputs": [
    {
     "name": "stdout",
     "output_type": "stream",
     "text": [
      "<class 'pandas.core.frame.DataFrame'>\n",
      "Int64Index: 2224 entries, 1416 to 464\n",
      "Data columns (total 1 columns):\n",
      "datetime    2224 non-null object\n",
      "dtypes: object(1)\n",
      "memory usage: 34.8+ KB\n"
     ]
    }
   ],
   "source": [
    "df_comcast[['datetime']].info()"
   ]
  },
  {
   "cell_type": "code",
   "execution_count": 83,
   "metadata": {},
   "outputs": [
    {
     "name": "stdout",
     "output_type": "stream",
     "text": [
      "<class 'pandas.core.frame.DataFrame'>\n",
      "Int64Index: 2224 entries, 1416 to 464\n",
      "Data columns (total 1 columns):\n",
      "datetime    2224 non-null datetime64[ns]\n",
      "dtypes: datetime64[ns](1)\n",
      "memory usage: 34.8 KB\n"
     ]
    }
   ],
   "source": [
    "#Converting datetime which is in string/object format to datetime format\n",
    "df_comcast['datetime'] = pd.to_datetime(df_comcast['datetime'],format='%d-%m-%y %I:%M:%S %p')\n",
    "df_comcast[['datetime']].info()"
   ]
  },
  {
   "cell_type": "code",
   "execution_count": 84,
   "metadata": {},
   "outputs": [
    {
     "data": {
      "text/plain": [
       "'Saturday'"
      ]
     },
     "execution_count": 84,
     "metadata": {},
     "output_type": "execute_result"
    }
   ],
   "source": [
    "#checking that the datetime col is formatted correctly and applying datetie methods\n",
    "df_comcast.loc[1416,'datetime'].day_name()"
   ]
  },
  {
   "cell_type": "code",
   "execution_count": 18,
   "metadata": {},
   "outputs": [
    {
     "data": {
      "text/plain": [
       "(2224, 12)"
      ]
     },
     "execution_count": 18,
     "metadata": {},
     "output_type": "execute_result"
    }
   ],
   "source": [
    "df_comcast.shape"
   ]
  },
  {
   "cell_type": "code",
   "execution_count": 85,
   "metadata": {},
   "outputs": [
    {
     "data": {
      "text/html": [
       "<div>\n",
       "<style scoped>\n",
       "    .dataframe tbody tr th:only-of-type {\n",
       "        vertical-align: middle;\n",
       "    }\n",
       "\n",
       "    .dataframe tbody tr th {\n",
       "        vertical-align: top;\n",
       "    }\n",
       "\n",
       "    .dataframe thead th {\n",
       "        text-align: right;\n",
       "    }\n",
       "</style>\n",
       "<table border=\"1\" class=\"dataframe\">\n",
       "  <thead>\n",
       "    <tr style=\"text-align: right;\">\n",
       "      <th></th>\n",
       "      <th>Ticket #</th>\n",
       "      <th>Customer Complaint</th>\n",
       "      <th>Date</th>\n",
       "      <th>Date_month_year</th>\n",
       "      <th>Time</th>\n",
       "      <th>Received Via</th>\n",
       "      <th>City</th>\n",
       "      <th>State</th>\n",
       "      <th>Zip code</th>\n",
       "      <th>Status</th>\n",
       "      <th>Filing on Behalf of Someone</th>\n",
       "      <th>datetime</th>\n",
       "    </tr>\n",
       "  </thead>\n",
       "  <tbody>\n",
       "    <tr>\n",
       "      <th>1416</th>\n",
       "      <td>218108</td>\n",
       "      <td>Comcast Business Phone/Internet Contract Disag...</td>\n",
       "      <td>04-04-15</td>\n",
       "      <td>04-Apr-15</td>\n",
       "      <td>6:39:55 PM</td>\n",
       "      <td>Internet</td>\n",
       "      <td>Newnan</td>\n",
       "      <td>Georgia</td>\n",
       "      <td>30265</td>\n",
       "      <td>Closed</td>\n",
       "      <td>No</td>\n",
       "      <td>2015-04-04 18:39:55</td>\n",
       "    </tr>\n",
       "    <tr>\n",
       "      <th>1483</th>\n",
       "      <td>217985</td>\n",
       "      <td>bait and switch services for monetary gain</td>\n",
       "      <td>04-04-15</td>\n",
       "      <td>04-Apr-15</td>\n",
       "      <td>4:07:36 PM</td>\n",
       "      <td>Internet</td>\n",
       "      <td>Orcutt</td>\n",
       "      <td>California</td>\n",
       "      <td>93455</td>\n",
       "      <td>Closed</td>\n",
       "      <td>No</td>\n",
       "      <td>2015-04-04 16:07:36</td>\n",
       "    </tr>\n",
       "  </tbody>\n",
       "</table>\n",
       "</div>"
      ],
      "text/plain": [
       "     Ticket #                                 Customer Complaint      Date  \\\n",
       "1416   218108  Comcast Business Phone/Internet Contract Disag...  04-04-15   \n",
       "1483   217985         bait and switch services for monetary gain  04-04-15   \n",
       "\n",
       "     Date_month_year        Time Received Via    City       State  Zip code  \\\n",
       "1416       04-Apr-15  6:39:55 PM     Internet  Newnan     Georgia     30265   \n",
       "1483       04-Apr-15  4:07:36 PM     Internet  Orcutt  California     93455   \n",
       "\n",
       "      Status Filing on Behalf of Someone            datetime  \n",
       "1416  Closed                          No 2015-04-04 18:39:55  \n",
       "1483  Closed                          No 2015-04-04 16:07:36  "
      ]
     },
     "execution_count": 85,
     "metadata": {},
     "output_type": "execute_result"
    }
   ],
   "source": [
    "df_comcast.head(2)"
   ]
  },
  {
   "cell_type": "code",
   "execution_count": null,
   "metadata": {},
   "outputs": [],
   "source": [
    "# sorting the dataframe by date in ascending order"
   ]
  },
  {
   "cell_type": "code",
   "execution_count": 86,
   "metadata": {},
   "outputs": [
    {
     "data": {
      "text/html": [
       "<div>\n",
       "<style scoped>\n",
       "    .dataframe tbody tr th:only-of-type {\n",
       "        vertical-align: middle;\n",
       "    }\n",
       "\n",
       "    .dataframe tbody tr th {\n",
       "        vertical-align: top;\n",
       "    }\n",
       "\n",
       "    .dataframe thead th {\n",
       "        text-align: right;\n",
       "    }\n",
       "</style>\n",
       "<table border=\"1\" class=\"dataframe\">\n",
       "  <thead>\n",
       "    <tr style=\"text-align: right;\">\n",
       "      <th></th>\n",
       "      <th>Ticket #</th>\n",
       "      <th>Customer Complaint</th>\n",
       "      <th>Date</th>\n",
       "      <th>Date_month_year</th>\n",
       "      <th>Time</th>\n",
       "      <th>Received Via</th>\n",
       "      <th>City</th>\n",
       "      <th>State</th>\n",
       "      <th>Zip code</th>\n",
       "      <th>Status</th>\n",
       "      <th>Filing on Behalf of Someone</th>\n",
       "      <th>datetime</th>\n",
       "    </tr>\n",
       "  </thead>\n",
       "  <tbody>\n",
       "    <tr>\n",
       "      <th>1852</th>\n",
       "      <td>211255</td>\n",
       "      <td>Comcast harassment</td>\n",
       "      <td>04-01-15</td>\n",
       "      <td>04-Jan-15</td>\n",
       "      <td>12:18:47 AM</td>\n",
       "      <td>Customer Care Call</td>\n",
       "      <td>Schaumburg</td>\n",
       "      <td>Illinois</td>\n",
       "      <td>60193</td>\n",
       "      <td>Closed</td>\n",
       "      <td>No</td>\n",
       "      <td>2015-01-04 00:18:47</td>\n",
       "    </tr>\n",
       "    <tr>\n",
       "      <th>1160</th>\n",
       "      <td>211472</td>\n",
       "      <td>comcast cable</td>\n",
       "      <td>04-01-15</td>\n",
       "      <td>04-Jan-15</td>\n",
       "      <td>10:43:20 AM</td>\n",
       "      <td>Customer Care Call</td>\n",
       "      <td>Lockport</td>\n",
       "      <td>Illinois</td>\n",
       "      <td>60441</td>\n",
       "      <td>Closed</td>\n",
       "      <td>No</td>\n",
       "      <td>2015-01-04 10:43:20</td>\n",
       "    </tr>\n",
       "    <tr>\n",
       "      <th>1430</th>\n",
       "      <td>211478</td>\n",
       "      <td>Comcast</td>\n",
       "      <td>04-01-15</td>\n",
       "      <td>04-Jan-15</td>\n",
       "      <td>10:47:35 AM</td>\n",
       "      <td>Internet</td>\n",
       "      <td>North Huntingdon</td>\n",
       "      <td>Pennsylvania</td>\n",
       "      <td>15642</td>\n",
       "      <td>Closed</td>\n",
       "      <td>No</td>\n",
       "      <td>2015-01-04 10:47:35</td>\n",
       "    </tr>\n",
       "    <tr>\n",
       "      <th>2144</th>\n",
       "      <td>211677</td>\n",
       "      <td>Comcast refusal of service</td>\n",
       "      <td>04-01-15</td>\n",
       "      <td>04-Jan-15</td>\n",
       "      <td>12:01:06 PM</td>\n",
       "      <td>Customer Care Call</td>\n",
       "      <td>Wayne</td>\n",
       "      <td>Pennsylvania</td>\n",
       "      <td>19087</td>\n",
       "      <td>Closed</td>\n",
       "      <td>No</td>\n",
       "      <td>2015-01-04 12:01:06</td>\n",
       "    </tr>\n",
       "    <tr>\n",
       "      <th>1237</th>\n",
       "      <td>211775</td>\n",
       "      <td>Horrible Service</td>\n",
       "      <td>04-01-15</td>\n",
       "      <td>04-Jan-15</td>\n",
       "      <td>12:28:58 PM</td>\n",
       "      <td>Customer Care Call</td>\n",
       "      <td>Mckeesport</td>\n",
       "      <td>Pennsylvania</td>\n",
       "      <td>15132</td>\n",
       "      <td>Closed</td>\n",
       "      <td>No</td>\n",
       "      <td>2015-01-04 12:28:58</td>\n",
       "    </tr>\n",
       "  </tbody>\n",
       "</table>\n",
       "</div>"
      ],
      "text/plain": [
       "     Ticket #          Customer Complaint      Date Date_month_year  \\\n",
       "1852   211255          Comcast harassment  04-01-15       04-Jan-15   \n",
       "1160   211472               comcast cable  04-01-15       04-Jan-15   \n",
       "1430   211478                     Comcast  04-01-15       04-Jan-15   \n",
       "2144   211677  Comcast refusal of service  04-01-15       04-Jan-15   \n",
       "1237   211775            Horrible Service  04-01-15       04-Jan-15   \n",
       "\n",
       "             Time        Received Via              City         State  \\\n",
       "1852  12:18:47 AM  Customer Care Call        Schaumburg      Illinois   \n",
       "1160  10:43:20 AM  Customer Care Call          Lockport      Illinois   \n",
       "1430  10:47:35 AM            Internet  North Huntingdon  Pennsylvania   \n",
       "2144  12:01:06 PM  Customer Care Call             Wayne  Pennsylvania   \n",
       "1237  12:28:58 PM  Customer Care Call        Mckeesport  Pennsylvania   \n",
       "\n",
       "      Zip code  Status Filing on Behalf of Someone            datetime  \n",
       "1852     60193  Closed                          No 2015-01-04 00:18:47  \n",
       "1160     60441  Closed                          No 2015-01-04 10:43:20  \n",
       "1430     15642  Closed                          No 2015-01-04 10:47:35  \n",
       "2144     19087  Closed                          No 2015-01-04 12:01:06  \n",
       "1237     15132  Closed                          No 2015-01-04 12:28:58  "
      ]
     },
     "execution_count": 86,
     "metadata": {},
     "output_type": "execute_result"
    }
   ],
   "source": [
    "df_comcast.sort_values('datetime',inplace=True)\n",
    "df_comcast.head()"
   ]
  },
  {
   "cell_type": "code",
   "execution_count": 63,
   "metadata": {},
   "outputs": [],
   "source": [
    "# now that we have created a col with correct datetime format, we can create additional columns for Year, Month and date\n",
    "# using the pandas datetime methods"
   ]
  },
  {
   "cell_type": "code",
   "execution_count": 25,
   "metadata": {},
   "outputs": [],
   "source": [
    "#df_comcast.drop(['date'],axis=1,inplace=True)\n",
    "#df_comcast.head(2)"
   ]
  },
  {
   "cell_type": "code",
   "execution_count": 87,
   "metadata": {},
   "outputs": [],
   "source": [
    "#df_comcast['Year'] = pd.DatetimeIndex(df_comcast['datetime']).year\n",
    "#df_comcast['Month'] = pd.DatetimeIndex(df_comcast['datetime']).month\n",
    "#df_comcast['date'] = pd.DatetimeIndex(df_comcast['datetime']).date\n",
    "\n",
    "df_comcast['Year'] = df_comcast['datetime'].dt.strftime('%Y')\n",
    "df_comcast['Month'] = df_comcast['datetime'].dt.strftime('%b')\n",
    "df_comcast['date']=df_comcast['datetime'].dt.strftime('%d-%b-%Y')\n",
    "\n",
    "# convert this date to correct date format\n",
    "df_comcast['date'] = pd.to_datetime(df_comcast['date'])"
   ]
  },
  {
   "cell_type": "code",
   "execution_count": 27,
   "metadata": {},
   "outputs": [
    {
     "data": {
      "text/html": [
       "<div>\n",
       "<style scoped>\n",
       "    .dataframe tbody tr th:only-of-type {\n",
       "        vertical-align: middle;\n",
       "    }\n",
       "\n",
       "    .dataframe tbody tr th {\n",
       "        vertical-align: top;\n",
       "    }\n",
       "\n",
       "    .dataframe thead th {\n",
       "        text-align: right;\n",
       "    }\n",
       "</style>\n",
       "<table border=\"1\" class=\"dataframe\">\n",
       "  <thead>\n",
       "    <tr style=\"text-align: right;\">\n",
       "      <th></th>\n",
       "      <th>Ticket #</th>\n",
       "      <th>Customer Complaint</th>\n",
       "      <th>Date</th>\n",
       "      <th>Date_month_year</th>\n",
       "      <th>Time</th>\n",
       "      <th>Received Via</th>\n",
       "      <th>City</th>\n",
       "      <th>State</th>\n",
       "      <th>Zip code</th>\n",
       "      <th>Status</th>\n",
       "      <th>Filing on Behalf of Someone</th>\n",
       "      <th>datetime</th>\n",
       "      <th>Year</th>\n",
       "      <th>Month</th>\n",
       "      <th>date</th>\n",
       "    </tr>\n",
       "  </thead>\n",
       "  <tbody>\n",
       "    <tr>\n",
       "      <th>1852</th>\n",
       "      <td>211255</td>\n",
       "      <td>Comcast harassment</td>\n",
       "      <td>04-01-15</td>\n",
       "      <td>04-Jan-15</td>\n",
       "      <td>12:18:47 AM</td>\n",
       "      <td>Customer Care Call</td>\n",
       "      <td>Schaumburg</td>\n",
       "      <td>Illinois</td>\n",
       "      <td>60193</td>\n",
       "      <td>Closed</td>\n",
       "      <td>No</td>\n",
       "      <td>2015-01-04 00:18:47</td>\n",
       "      <td>2015</td>\n",
       "      <td>Jan</td>\n",
       "      <td>2015-01-04</td>\n",
       "    </tr>\n",
       "    <tr>\n",
       "      <th>1160</th>\n",
       "      <td>211472</td>\n",
       "      <td>comcast cable</td>\n",
       "      <td>04-01-15</td>\n",
       "      <td>04-Jan-15</td>\n",
       "      <td>10:43:20 AM</td>\n",
       "      <td>Customer Care Call</td>\n",
       "      <td>Lockport</td>\n",
       "      <td>Illinois</td>\n",
       "      <td>60441</td>\n",
       "      <td>Closed</td>\n",
       "      <td>No</td>\n",
       "      <td>2015-01-04 10:43:20</td>\n",
       "      <td>2015</td>\n",
       "      <td>Jan</td>\n",
       "      <td>2015-01-04</td>\n",
       "    </tr>\n",
       "  </tbody>\n",
       "</table>\n",
       "</div>"
      ],
      "text/plain": [
       "     Ticket #  Customer Complaint      Date Date_month_year         Time  \\\n",
       "1852   211255  Comcast harassment  04-01-15       04-Jan-15  12:18:47 AM   \n",
       "1160   211472       comcast cable  04-01-15       04-Jan-15  10:43:20 AM   \n",
       "\n",
       "            Received Via        City     State  Zip code  Status  \\\n",
       "1852  Customer Care Call  Schaumburg  Illinois     60193  Closed   \n",
       "1160  Customer Care Call    Lockport  Illinois     60441  Closed   \n",
       "\n",
       "     Filing on Behalf of Someone            datetime  Year Month       date  \n",
       "1852                          No 2015-01-04 00:18:47  2015   Jan 2015-01-04  \n",
       "1160                          No 2015-01-04 10:43:20  2015   Jan 2015-01-04  "
      ]
     },
     "execution_count": 27,
     "metadata": {},
     "output_type": "execute_result"
    }
   ],
   "source": [
    "df_comcast.head(2)"
   ]
  },
  {
   "cell_type": "code",
   "execution_count": 88,
   "metadata": {},
   "outputs": [
    {
     "name": "stdout",
     "output_type": "stream",
     "text": [
      "<class 'pandas.core.frame.DataFrame'>\n",
      "Int64Index: 2224 entries, 1852 to 441\n",
      "Data columns (total 1 columns):\n",
      "date    2224 non-null datetime64[ns]\n",
      "dtypes: datetime64[ns](1)\n",
      "memory usage: 34.8 KB\n"
     ]
    }
   ],
   "source": [
    "df_comcast[['date']].info()"
   ]
  },
  {
   "cell_type": "code",
   "execution_count": null,
   "metadata": {},
   "outputs": [],
   "source": [
    "# adding helper column for count of tickets for aggregagtion"
   ]
  },
  {
   "cell_type": "code",
   "execution_count": 89,
   "metadata": {},
   "outputs": [
    {
     "data": {
      "text/html": [
       "<div>\n",
       "<style scoped>\n",
       "    .dataframe tbody tr th:only-of-type {\n",
       "        vertical-align: middle;\n",
       "    }\n",
       "\n",
       "    .dataframe tbody tr th {\n",
       "        vertical-align: top;\n",
       "    }\n",
       "\n",
       "    .dataframe thead th {\n",
       "        text-align: right;\n",
       "    }\n",
       "</style>\n",
       "<table border=\"1\" class=\"dataframe\">\n",
       "  <thead>\n",
       "    <tr style=\"text-align: right;\">\n",
       "      <th></th>\n",
       "      <th>Ticket #</th>\n",
       "      <th>Customer Complaint</th>\n",
       "      <th>Date</th>\n",
       "      <th>Date_month_year</th>\n",
       "      <th>Time</th>\n",
       "      <th>Received Via</th>\n",
       "      <th>City</th>\n",
       "      <th>State</th>\n",
       "      <th>Zip code</th>\n",
       "      <th>Status</th>\n",
       "      <th>Filing on Behalf of Someone</th>\n",
       "      <th>datetime</th>\n",
       "      <th>Year</th>\n",
       "      <th>Month</th>\n",
       "      <th>date</th>\n",
       "      <th>Ticket_count</th>\n",
       "    </tr>\n",
       "  </thead>\n",
       "  <tbody>\n",
       "    <tr>\n",
       "      <th>1852</th>\n",
       "      <td>211255</td>\n",
       "      <td>Comcast harassment</td>\n",
       "      <td>04-01-15</td>\n",
       "      <td>04-Jan-15</td>\n",
       "      <td>12:18:47 AM</td>\n",
       "      <td>Customer Care Call</td>\n",
       "      <td>Schaumburg</td>\n",
       "      <td>Illinois</td>\n",
       "      <td>60193</td>\n",
       "      <td>Closed</td>\n",
       "      <td>No</td>\n",
       "      <td>2015-01-04 00:18:47</td>\n",
       "      <td>2015</td>\n",
       "      <td>Jan</td>\n",
       "      <td>2015-01-04</td>\n",
       "      <td>1</td>\n",
       "    </tr>\n",
       "    <tr>\n",
       "      <th>1160</th>\n",
       "      <td>211472</td>\n",
       "      <td>comcast cable</td>\n",
       "      <td>04-01-15</td>\n",
       "      <td>04-Jan-15</td>\n",
       "      <td>10:43:20 AM</td>\n",
       "      <td>Customer Care Call</td>\n",
       "      <td>Lockport</td>\n",
       "      <td>Illinois</td>\n",
       "      <td>60441</td>\n",
       "      <td>Closed</td>\n",
       "      <td>No</td>\n",
       "      <td>2015-01-04 10:43:20</td>\n",
       "      <td>2015</td>\n",
       "      <td>Jan</td>\n",
       "      <td>2015-01-04</td>\n",
       "      <td>1</td>\n",
       "    </tr>\n",
       "  </tbody>\n",
       "</table>\n",
       "</div>"
      ],
      "text/plain": [
       "     Ticket #  Customer Complaint      Date Date_month_year         Time  \\\n",
       "1852   211255  Comcast harassment  04-01-15       04-Jan-15  12:18:47 AM   \n",
       "1160   211472       comcast cable  04-01-15       04-Jan-15  10:43:20 AM   \n",
       "\n",
       "            Received Via        City     State  Zip code  Status  \\\n",
       "1852  Customer Care Call  Schaumburg  Illinois     60193  Closed   \n",
       "1160  Customer Care Call    Lockport  Illinois     60441  Closed   \n",
       "\n",
       "     Filing on Behalf of Someone            datetime  Year Month       date  \\\n",
       "1852                          No 2015-01-04 00:18:47  2015   Jan 2015-01-04   \n",
       "1160                          No 2015-01-04 10:43:20  2015   Jan 2015-01-04   \n",
       "\n",
       "      Ticket_count  \n",
       "1852             1  \n",
       "1160             1  "
      ]
     },
     "execution_count": 89,
     "metadata": {},
     "output_type": "execute_result"
    }
   ],
   "source": [
    "df_comcast['Ticket_count']=1\n",
    "df_comcast.head(2)"
   ]
  },
  {
   "cell_type": "code",
   "execution_count": null,
   "metadata": {},
   "outputs": [],
   "source": []
  },
  {
   "cell_type": "markdown",
   "metadata": {},
   "source": [
    "### Q1.Provide the trend chart for the number of complaints at monthly and daily granularity levels."
   ]
  },
  {
   "cell_type": "code",
   "execution_count": 61,
   "metadata": {},
   "outputs": [],
   "source": [
    "# now that we have created a col with correct datetime format, we can use the col to plot the trend charts"
   ]
  },
  {
   "cell_type": "code",
   "execution_count": 90,
   "metadata": {},
   "outputs": [
    {
     "data": {
      "text/html": [
       "<div>\n",
       "<style scoped>\n",
       "    .dataframe tbody tr th:only-of-type {\n",
       "        vertical-align: middle;\n",
       "    }\n",
       "\n",
       "    .dataframe tbody tr th {\n",
       "        vertical-align: top;\n",
       "    }\n",
       "\n",
       "    .dataframe thead th {\n",
       "        text-align: right;\n",
       "    }\n",
       "</style>\n",
       "<table border=\"1\" class=\"dataframe\">\n",
       "  <thead>\n",
       "    <tr style=\"text-align: right;\">\n",
       "      <th></th>\n",
       "      <th>Month</th>\n",
       "      <th>Ticket_count</th>\n",
       "    </tr>\n",
       "  </thead>\n",
       "  <tbody>\n",
       "    <tr>\n",
       "      <th>0</th>\n",
       "      <td>Jan</td>\n",
       "      <td>55</td>\n",
       "    </tr>\n",
       "    <tr>\n",
       "      <th>1</th>\n",
       "      <td>Feb</td>\n",
       "      <td>59</td>\n",
       "    </tr>\n",
       "    <tr>\n",
       "      <th>2</th>\n",
       "      <td>Mar</td>\n",
       "      <td>45</td>\n",
       "    </tr>\n",
       "    <tr>\n",
       "      <th>3</th>\n",
       "      <td>Apr</td>\n",
       "      <td>375</td>\n",
       "    </tr>\n",
       "    <tr>\n",
       "      <th>4</th>\n",
       "      <td>May</td>\n",
       "      <td>317</td>\n",
       "    </tr>\n",
       "  </tbody>\n",
       "</table>\n",
       "</div>"
      ],
      "text/plain": [
       "  Month  Ticket_count\n",
       "0   Jan            55\n",
       "1   Feb            59\n",
       "2   Mar            45\n",
       "3   Apr           375\n",
       "4   May           317"
      ]
     },
     "execution_count": 90,
     "metadata": {},
     "output_type": "execute_result"
    }
   ],
   "source": [
    "monthly_tickets_df = df_comcast.groupby(['Month'])[['Ticket_count']].sum().reset_index()\n",
    "monthly_tickets_df.head()\n",
    "monthly_tickets_df.tail()\n",
    "\n",
    "# sorting the monthly_tickets_df in calendar months order\n",
    "from sorted_months_weekdays import *\n",
    "from sort_dataframeby_monthorweek import *\n",
    "monthly_tickets_df=Sort_Dataframeby_Month(df=monthly_tickets_df,monthcolumnname='Month')\n",
    "monthly_tickets_df.head()"
   ]
  },
  {
   "cell_type": "code",
   "execution_count": 91,
   "metadata": {},
   "outputs": [],
   "source": [
    "import matplotlib.pyplot as plt\n",
    "%matplotlib inline"
   ]
  },
  {
   "cell_type": "code",
   "execution_count": 92,
   "metadata": {},
   "outputs": [
    {
     "data": {
      "image/png": "[encoded data removed]",
      "text/plain": [
       "<Figure size 720x360 with 1 Axes>"
      ]
     },
     "metadata": {
      "needs_background": "light"
     },
     "output_type": "display_data"
    }
   ],
   "source": [
    "plt.figure(figsize=(10,5))\n",
    "plt.plot(monthly_tickets_df['Month'],monthly_tickets_df['Ticket_count'])\n",
    "plt.xticks(rotation=90)\n",
    "plt.margins(0.02)\n",
    "\n",
    "plt.title('Customer Complaints by Month')\n",
    "plt.xlabel('Months')\n",
    "plt.ylabel('Complaints')\n",
    "plt.show()\n"
   ]
  },
  {
   "cell_type": "code",
   "execution_count": 93,
   "metadata": {},
   "outputs": [
    {
     "data": {
      "text/html": [
       "<div>\n",
       "<style scoped>\n",
       "    .dataframe tbody tr th:only-of-type {\n",
       "        vertical-align: middle;\n",
       "    }\n",
       "\n",
       "    .dataframe tbody tr th {\n",
       "        vertical-align: top;\n",
       "    }\n",
       "\n",
       "    .dataframe thead th {\n",
       "        text-align: right;\n",
       "    }\n",
       "</style>\n",
       "<table border=\"1\" class=\"dataframe\">\n",
       "  <thead>\n",
       "    <tr style=\"text-align: right;\">\n",
       "      <th></th>\n",
       "      <th>date</th>\n",
       "      <th>Ticket_count</th>\n",
       "    </tr>\n",
       "  </thead>\n",
       "  <tbody>\n",
       "    <tr>\n",
       "      <th>86</th>\n",
       "      <td>2015-11-05</td>\n",
       "      <td>12</td>\n",
       "    </tr>\n",
       "    <tr>\n",
       "      <th>87</th>\n",
       "      <td>2015-11-06</td>\n",
       "      <td>21</td>\n",
       "    </tr>\n",
       "    <tr>\n",
       "      <th>88</th>\n",
       "      <td>2015-12-04</td>\n",
       "      <td>15</td>\n",
       "    </tr>\n",
       "    <tr>\n",
       "      <th>89</th>\n",
       "      <td>2015-12-05</td>\n",
       "      <td>7</td>\n",
       "    </tr>\n",
       "    <tr>\n",
       "      <th>90</th>\n",
       "      <td>2015-12-06</td>\n",
       "      <td>43</td>\n",
       "    </tr>\n",
       "  </tbody>\n",
       "</table>\n",
       "</div>"
      ],
      "text/plain": [
       "         date  Ticket_count\n",
       "86 2015-11-05            12\n",
       "87 2015-11-06            21\n",
       "88 2015-12-04            15\n",
       "89 2015-12-05             7\n",
       "90 2015-12-06            43"
      ]
     },
     "execution_count": 93,
     "metadata": {},
     "output_type": "execute_result"
    }
   ],
   "source": [
    "daily_tickets_df = df_comcast.groupby(['date'])[['Ticket_count']].sum().reset_index()\n",
    "daily_tickets_df.head()\n",
    "daily_tickets_df.tail()"
   ]
  },
  {
   "cell_type": "code",
   "execution_count": 94,
   "metadata": {},
   "outputs": [],
   "source": [
    "from datetime import datetime, timedelta\n",
    "from matplotlib import pyplot as plt\n",
    "from matplotlib import dates as mpl_dates\n",
    "plt.style.use('seaborn')"
   ]
  },
  {
   "cell_type": "code",
   "execution_count": 95,
   "metadata": {},
   "outputs": [
    {
     "data": {
      "image/png": "[encoded data removed]",
      "text/plain": [
       "<Figure size 1440x720 with 1 Axes>"
      ]
     },
     "metadata": {},
     "output_type": "display_data"
    }
   ],
   "source": [
    "plt.figure(figsize=(20,10))\n",
    "plt.plot_date(daily_tickets_df['date'], daily_tickets_df['Ticket_count'], linestyle='solid')\n",
    "plt.gcf().autofmt_xdate()\n",
    "plt.gca().xaxis.set_major_formatter(mpl_dates.DateFormatter('%d-%b-%Y'))\n",
    "plt.gca().xaxis.set_major_locator(mpl_dates.DayLocator(interval=7))\n",
    "plt.xticks(rotation=90)\n",
    "plt.margins(0.02)\n",
    "\n",
    "plt.title('Customer Complaints by day')\n",
    "plt.xlabel('Days')\n",
    "plt.ylabel('Complaints')\n",
    "\n",
    "plt.show()"
   ]
  },
  {
   "cell_type": "code",
   "execution_count": 213,
   "metadata": {},
   "outputs": [],
   "source": [
    "# using plotly charts to get the full view of the complainst by date"
   ]
  },
  {
   "cell_type": "code",
   "execution_count": 96,
   "metadata": {},
   "outputs": [],
   "source": [
    "import plotly.express as px\n",
    "import plotly.graph_objects as go"
   ]
  },
  {
   "cell_type": "code",
   "execution_count": 97,
   "metadata": {},
   "outputs": [
    {
     "data": {
      "application/vnd.plotly.v1+json": {
       "config": {
        "plotlyServerURL": "https://plot.ly"
       },
       "data": [
        {
         "hovertemplate": "date=%{x}<br>Ticket_count=%{y}<extra></extra>",
         "legendgroup": "",
         "line": {
          "color": "#636efa",
          "dash": "solid"
         },
         "mode": "lines",
         "name": "",
         "orientation": "v",
         "showlegend": false,
         "type": "scatter",
         "x": [
          "2015-01-04T00:00:00",
          "2015-01-05T00:00:00",
          "2015-01-06T00:00:00",
          "2015-02-04T00:00:00",
          "2015-02-05T00:00:00",
          "2015-02-06T00:00:00",
          "2015-03-04T00:00:00",
          "2015-03-05T00:00:00",
          "2015-03-06T00:00:00",
          "2015-04-04T00:00:00",
          "2015-04-05T00:00:00",
          "2015-04-06T00:00:00",
          "2015-04-13T00:00:00",
          "2015-04-14T00:00:00",
          "2015-04-15T00:00:00",
          "2015-04-16T00:00:00",
          "2015-04-17T00:00:00",
          "2015-04-18T00:00:00",
          "2015-04-19T00:00:00",
          "2015-04-20T00:00:00",
          "2015-04-21T00:00:00",
          "2015-04-22T00:00:00",
          "2015-04-23T00:00:00",
          "2015-04-24T00:00:00",
          "2015-04-25T00:00:00",
          "2015-04-26T00:00:00",
          "2015-04-27T00:00:00",
          "2015-04-28T00:00:00",
          "2015-04-29T00:00:00",
          "2015-04-30T00:00:00",
          "2015-05-04T00:00:00",
          "2015-05-05T00:00:00",
          "2015-05-06T00:00:00",
          "2015-05-13T00:00:00",
          "2015-05-14T00:00:00",
          "2015-05-15T00:00:00",
          "2015-05-16T00:00:00",
          "2015-05-17T00:00:00",
          "2015-05-18T00:00:00",
          "2015-05-19T00:00:00",
          "2015-05-20T00:00:00",
          "2015-05-21T00:00:00",
          "2015-05-22T00:00:00",
          "2015-05-23T00:00:00",
          "2015-05-24T00:00:00",
          "2015-05-25T00:00:00",
          "2015-05-26T00:00:00",
          "2015-05-27T00:00:00",
          "2015-05-28T00:00:00",
          "2015-05-29T00:00:00",
          "2015-05-30T00:00:00",
          "2015-05-31T00:00:00",
          "2015-06-04T00:00:00",
          "2015-06-05T00:00:00",
          "2015-06-06T00:00:00",
          "2015-06-13T00:00:00",
          "2015-06-14T00:00:00",
          "2015-06-15T00:00:00",
          "2015-06-16T00:00:00",
          "2015-06-17T00:00:00",
          "2015-06-18T00:00:00",
          "2015-06-19T00:00:00",
          "2015-06-20T00:00:00",
          "2015-06-21T00:00:00",
          "2015-06-22T00:00:00",
          "2015-06-23T00:00:00",
          "2015-06-24T00:00:00",
          "2015-06-25T00:00:00",
          "2015-06-26T00:00:00",
          "2015-06-27T00:00:00",
          "2015-06-28T00:00:00",
          "2015-06-29T00:00:00",
          "2015-06-30T00:00:00",
          "2015-07-04T00:00:00",
          "2015-07-05T00:00:00",
          "2015-07-06T00:00:00",
          "2015-08-04T00:00:00",
          "2015-08-05T00:00:00",
          "2015-08-06T00:00:00",
          "2015-09-04T00:00:00",
          "2015-09-05T00:00:00",
          "2015-09-06T00:00:00",
          "2015-10-04T00:00:00",
          "2015-10-05T00:00:00",
          "2015-10-06T00:00:00",
          "2015-11-04T00:00:00",
          "2015-11-05T00:00:00",
          "2015-11-06T00:00:00",
          "2015-12-04T00:00:00",
          "2015-12-05T00:00:00",
          "2015-12-06T00:00:00"
         ],
         "xaxis": "x",
         "y": [
          18,
          12,
          25,
          27,
          7,
          25,
          15,
          5,
          25,
          12,
          12,
          12,
          24,
          23,
          12,
          20,
          21,
          8,
          9,
          20,
          12,
          22,
          23,
          24,
          16,
          8,
          25,
          26,
          22,
          24,
          6,
          14,
          29,
          12,
          15,
          12,
          16,
          7,
          14,
          12,
          15,
          17,
          14,
          12,
          7,
          12,
          27,
          17,
          26,
          14,
          9,
          10,
          13,
          14,
          11,
          32,
          16,
          34,
          29,
          32,
          47,
          29,
          16,
          12,
          30,
          190,
          218,
          98,
          55,
          39,
          27,
          51,
          53,
          25,
          15,
          9,
          28,
          15,
          24,
          21,
          11,
          23,
          21,
          7,
          25,
          5,
          12,
          21,
          15,
          7,
          43
         ],
         "yaxis": "y"
        }
       ],
       "layout": {
        "legend": {
         "tracegroupgap": 0
        },
        "template": {
         "data": {
          "bar": [
           {
            "error_x": {
             "color": "#2a3f5f"
            },
            "error_y": {
             "color": "#2a3f5f"
            },
            "marker": {
             "line": {
              "color": "#E5ECF6",
              "width": 0.5
             }
            },
            "type": "bar"
           }
          ],
          "barpolar": [
           {
            "marker": {
             "line": {
              "color": "#E5ECF6",
              "width": 0.5
             }
            },
            "type": "barpolar"
           }
          ],
          "carpet": [
           {
            "aaxis": {
             "endlinecolor": "#2a3f5f",
             "gridcolor": "white",
             "linecolor": "white",
             "minorgridcolor": "white",
             "startlinecolor": "#2a3f5f"
            },
            "baxis": {
             "endlinecolor": "#2a3f5f",
             "gridcolor": "white",
             "linecolor": "white",
             "minorgridcolor": "white",
             "startlinecolor": "#2a3f5f"
            },
            "type": "carpet"
           }
          ],
          "choropleth": [
           {
            "colorbar": {
             "outlinewidth": 0,
             "ticks": ""
            },
            "type": "choropleth"
           }
          ],
          "contour": [
           {
            "colorbar": {
             "outlinewidth": 0,
             "ticks": ""
            },
            "colorscale": [
             [
              0,
              "#0d0887"
             ],
             [
              0.1111111111111111,
              "#46039f"
             ],
             [
              0.2222222222222222,
              "#7201a8"
             ],
             [
              0.3333333333333333,
              "#9c179e"
             ],
             [
              0.4444444444444444,
              "#bd3786"
             ],
             [
              0.5555555555555556,
              "#d8576b"
             ],
             [
              0.6666666666666666,
              "#ed7953"
             ],
             [
              0.7777777777777778,
              "#fb9f3a"
             ],
             [
              0.8888888888888888,
              "#fdca26"
             ],
             [
              1,
              "#f0f921"
             ]
            ],
            "type": "contour"
           }
          ],
          "contourcarpet": [
           {
            "colorbar": {
             "outlinewidth": 0,
             "ticks": ""
            },
            "type": "contourcarpet"
           }
          ],
          "heatmap": [
           {
            "colorbar": {
             "outlinewidth": 0,
             "ticks": ""
            },
            "colorscale": [
             [
              0,
              "#0d0887"
             ],
             [
              0.1111111111111111,
              "#46039f"
             ],
             [
              0.2222222222222222,
              "#7201a8"
             ],
             [
              0.3333333333333333,
              "#9c179e"
             ],
             [
              0.4444444444444444,
              "#bd3786"
             ],
             [
              0.5555555555555556,
              "#d8576b"
             ],
             [
              0.6666666666666666,
              "#ed7953"
             ],
             [
              0.7777777777777778,
              "#fb9f3a"
             ],
             [
              0.8888888888888888,
              "#fdca26"
             ],
             [
              1,
              "#f0f921"
             ]
            ],
            "type": "heatmap"
           }
          ],
          "heatmapgl": [
           {
            "colorbar": {
             "outlinewidth": 0,
             "ticks": ""
            },
            "colorscale": [
             [
              0,
              "#0d0887"
             ],
             [
              0.1111111111111111,
              "#46039f"
             ],
             [
              0.2222222222222222,
              "#7201a8"
             ],
             [
              0.3333333333333333,
              "#9c179e"
             ],
             [
              0.4444444444444444,
              "#bd3786"
             ],
             [
              0.5555555555555556,
              "#d8576b"
             ],
             [
              0.6666666666666666,
              "#ed7953"
             ],
             [
              0.7777777777777778,
              "#fb9f3a"
             ],
             [
              0.8888888888888888,
              "#fdca26"
             ],
             [
              1,
              "#f0f921"
             ]
            ],
            "type": "heatmapgl"
           }
          ],
          "histogram": [
           {
            "marker": {
             "colorbar": {
              "outlinewidth": 0,
              "ticks": ""
             }
            },
            "type": "histogram"
           }
          ],
          "histogram2d": [
           {
            "colorbar": {
             "outlinewidth": 0,
             "ticks": ""
            },
            "colorscale": [
             [
              0,
              "#0d0887"
             ],
             [
              0.1111111111111111,
              "#46039f"
             ],
             [
              0.2222222222222222,
              "#7201a8"
             ],
             [
              0.3333333333333333,
              "#9c179e"
             ],
             [
              0.4444444444444444,
              "#bd3786"
             ],
             [
              0.5555555555555556,
              "#d8576b"
             ],
             [
              0.6666666666666666,
              "#ed7953"
             ],
             [
              0.7777777777777778,
              "#fb9f3a"
             ],
             [
              0.8888888888888888,
              "#fdca26"
             ],
             [
              1,
              "#f0f921"
             ]
            ],
            "type": "histogram2d"
           }
          ],
          "histogram2dcontour": [
           {
            "colorbar": {
             "outlinewidth": 0,
             "ticks": ""
            },
            "colorscale": [
             [
              0,
              "#0d0887"
             ],
             [
              0.1111111111111111,
              "#46039f"
             ],
             [
              0.2222222222222222,
              "#7201a8"
             ],
             [
              0.3333333333333333,
              "#9c179e"
             ],
             [
              0.4444444444444444,
              "#bd3786"
             ],
             [
              0.5555555555555556,
              "#d8576b"
             ],
             [
              0.6666666666666666,
              "#ed7953"
             ],
             [
              0.7777777777777778,
              "#fb9f3a"
             ],
             [
              0.8888888888888888,
              "#fdca26"
             ],
             [
              1,
              "#f0f921"
             ]
            ],
            "type": "histogram2dcontour"
           }
          ],
          "mesh3d": [
           {
            "colorbar": {
             "outlinewidth": 0,
             "ticks": ""
            },
            "type": "mesh3d"
           }
          ],
          "parcoords": [
           {
            "line": {
             "colorbar": {
              "outlinewidth": 0,
              "ticks": ""
             }
            },
            "type": "parcoords"
           }
          ],
          "pie": [
           {
            "automargin": true,
            "type": "pie"
           }
          ],
          "scatter": [
           {
            "marker": {
             "colorbar": {
              "outlinewidth": 0,
              "ticks": ""
             }
            },
            "type": "scatter"
           }
          ],
          "scatter3d": [
           {
            "line": {
             "colorbar": {
              "outlinewidth": 0,
              "ticks": ""
             }
            },
            "marker": {
             "colorbar": {
              "outlinewidth": 0,
              "ticks": ""
             }
            },
            "type": "scatter3d"
           }
          ],
          "scattercarpet": [
           {
            "marker": {
             "colorbar": {
              "outlinewidth": 0,
              "ticks": ""
             }
            },
            "type": "scattercarpet"
           }
          ],
          "scattergeo": [
           {
            "marker": {
             "colorbar": {
              "outlinewidth": 0,
              "ticks": ""
             }
            },
            "type": "scattergeo"
           }
          ],
          "scattergl": [
           {
            "marker": {
             "colorbar": {
              "outlinewidth": 0,
              "ticks": ""
             }
            },
            "type": "scattergl"
           }
          ],
          "scattermapbox": [
           {
            "marker": {
             "colorbar": {
              "outlinewidth": 0,
              "ticks": ""
             }
            },
            "type": "scattermapbox"
           }
          ],
          "scatterpolar": [
           {
            "marker": {
             "colorbar": {
              "outlinewidth": 0,
              "ticks": ""
             }
            },
            "type": "scatterpolar"
           }
          ],
          "scatterpolargl": [
           {
            "marker": {
             "colorbar": {
              "outlinewidth": 0,
              "ticks": ""
             }
            },
            "type": "scatterpolargl"
           }
          ],
          "scatterternary": [
           {
            "marker": {
             "colorbar": {
              "outlinewidth": 0,
              "ticks": ""
             }
            },
            "type": "scatterternary"
           }
          ],
          "surface": [
           {
            "colorbar": {
             "outlinewidth": 0,
             "ticks": ""
            },
            "colorscale": [
             [
              0,
              "#0d0887"
             ],
             [
              0.1111111111111111,
              "#46039f"
             ],
             [
              0.2222222222222222,
              "#7201a8"
             ],
             [
              0.3333333333333333,
              "#9c179e"
             ],
             [
              0.4444444444444444,
              "#bd3786"
             ],
             [
              0.5555555555555556,
              "#d8576b"
             ],
             [
              0.6666666666666666,
              "#ed7953"
             ],
             [
              0.7777777777777778,
              "#fb9f3a"
             ],
             [
              0.8888888888888888,
              "#fdca26"
             ],
             [
              1,
              "#f0f921"
             ]
            ],
            "type": "surface"
           }
          ],
          "table": [
           {
            "cells": {
             "fill": {
              "color": "#EBF0F8"
             },
             "line": {
              "color": "white"
             }
            },
            "header": {
             "fill": {
              "color": "#C8D4E3"
             },
             "line": {
              "color": "white"
             }
            },
            "type": "table"
           }
          ]
         },
         "layout": {
          "annotationdefaults": {
           "arrowcolor": "#2a3f5f",
           "arrowhead": 0,
           "arrowwidth": 1
          },
          "autotypenumbers": "strict",
          "coloraxis": {
           "colorbar": {
            "outlinewidth": 0,
            "ticks": ""
           }
          },
          "colorscale": {
           "diverging": [
            [
             0,
             "#8e0152"
            ],
            [
             0.1,
             "#c51b7d"
            ],
            [
             0.2,
             "#de77ae"
            ],
            [
             0.3,
             "#f1b6da"
            ],
            [
             0.4,
             "#fde0ef"
            ],
            [
             0.5,
             "#f7f7f7"
            ],
            [
             0.6,
             "#e6f5d0"
            ],
            [
             0.7,
             "#b8e186"
            ],
            [
             0.8,
             "#7fbc41"
            ],
            [
             0.9,
             "#4d9221"
            ],
            [
             1,
             "#276419"
            ]
           ],
           "sequential": [
            [
             0,
             "#0d0887"
            ],
            [
             0.1111111111111111,
             "#46039f"
            ],
            [
             0.2222222222222222,
             "#7201a8"
            ],
            [
             0.3333333333333333,
             "#9c179e"
            ],
            [
             0.4444444444444444,
             "#bd3786"
            ],
            [
             0.5555555555555556,
             "#d8576b"
            ],
            [
             0.6666666666666666,
             "#ed7953"
            ],
            [
             0.7777777777777778,
             "#fb9f3a"
            ],
            [
             0.8888888888888888,
             "#fdca26"
            ],
            [
             1,
             "#f0f921"
            ]
           ],
           "sequentialminus": [
            [
             0,
             "#0d0887"
            ],
            [
             0.1111111111111111,
             "#46039f"
            ],
            [
             0.2222222222222222,
             "#7201a8"
            ],
            [
             0.3333333333333333,
             "#9c179e"
            ],
            [
             0.4444444444444444,
             "#bd3786"
            ],
            [
             0.5555555555555556,
             "#d8576b"
            ],
            [
             0.6666666666666666,
             "#ed7953"
            ],
            [
             0.7777777777777778,
             "#fb9f3a"
            ],
            [
             0.8888888888888888,
             "#fdca26"
            ],
            [
             1,
             "#f0f921"
            ]
           ]
          },
          "colorway": [
           "#636efa",
           "#EF553B",
           "#00cc96",
           "#ab63fa",
           "#FFA15A",
           "#19d3f3",
           "#FF6692",
           "#B6E880",
           "#FF97FF",
           "#FECB52"
          ],
          "font": {
           "color": "#2a3f5f"
          },
          "geo": {
           "bgcolor": "white",
           "lakecolor": "white",
           "landcolor": "#E5ECF6",
           "showlakes": true,
           "showland": true,
           "subunitcolor": "white"
          },
          "hoverlabel": {
           "align": "left"
          },
          "hovermode": "closest",
          "mapbox": {
           "style": "light"
          },
          "paper_bgcolor": "white",
          "plot_bgcolor": "#E5ECF6",
          "polar": {
           "angularaxis": {
            "gridcolor": "white",
            "linecolor": "white",
            "ticks": ""
           },
           "bgcolor": "#E5ECF6",
           "radialaxis": {
            "gridcolor": "white",
            "linecolor": "white",
            "ticks": ""
           }
          },
          "scene": {
           "xaxis": {
            "backgroundcolor": "#E5ECF6",
            "gridcolor": "white",
            "gridwidth": 2,
            "linecolor": "white",
            "showbackground": true,
            "ticks": "",
            "zerolinecolor": "white"
           },
           "yaxis": {
            "backgroundcolor": "#E5ECF6",
            "gridcolor": "white",
            "gridwidth": 2,
            "linecolor": "white",
            "showbackground": true,
            "ticks": "",
            "zerolinecolor": "white"
           },
           "zaxis": {
            "backgroundcolor": "#E5ECF6",
            "gridcolor": "white",
            "gridwidth": 2,
            "linecolor": "white",
            "showbackground": true,
            "ticks": "",
            "zerolinecolor": "white"
           }
          },
          "shapedefaults": {
           "line": {
            "color": "#2a3f5f"
           }
          },
          "ternary": {
           "aaxis": {
            "gridcolor": "white",
            "linecolor": "white",
            "ticks": ""
           },
           "baxis": {
            "gridcolor": "white",
            "linecolor": "white",
            "ticks": ""
           },
           "bgcolor": "#E5ECF6",
           "caxis": {
            "gridcolor": "white",
            "linecolor": "white",
            "ticks": ""
           }
          },
          "title": {
           "x": 0.05
          },
          "xaxis": {
           "automargin": true,
           "gridcolor": "white",
           "linecolor": "white",
           "ticks": "",
           "title": {
            "standoff": 15
           },
           "zerolinecolor": "white",
           "zerolinewidth": 2
          },
          "yaxis": {
           "automargin": true,
           "gridcolor": "white",
           "linecolor": "white",
           "ticks": "",
           "title": {
            "standoff": 15
           },
           "zerolinecolor": "white",
           "zerolinewidth": 2
          }
         }
        },
        "title": {
         "text": "Customer complaints by day"
        },
        "xaxis": {
         "anchor": "y",
         "domain": [
          0,
          1
         ],
         "dtick": 0,
         "rangeslider": {
          "visible": true
         },
         "tick0": 0.5,
         "tickangle": -45,
         "ticklabelmode": "period",
         "title": {
          "text": "date"
         }
        },
        "yaxis": {
         "anchor": "x",
         "domain": [
          0,
          1
         ],
         "title": {
          "text": "Ticket_count"
         }
        }
       }
      },
      "text/html": [
       "<div>                            <div id=\"244e107f-914d-43ad-a45a-fd9a6416bbd2\" class=\"plotly-graph-div\" style=\"height:525px; width:100%;\"></div>            <script type=\"text/javascript\">                require([\"plotly\"], function(Plotly) {                    window.PLOTLYENV=window.PLOTLYENV || {};                                    if (document.getElementById(\"244e107f-914d-43ad-a45a-fd9a6416bbd2\")) {                    Plotly.newPlot(                        \"244e107f-914d-43ad-a45a-fd9a6416bbd2\",                        [{\"hovertemplate\": \"date=%{x}<br>Ticket_count=%{y}<extra></extra>\", \"legendgroup\": \"\", \"line\": {\"color\": \"#636efa\", \"dash\": \"solid\"}, \"mode\": \"lines\", \"name\": \"\", \"orientation\": \"v\", \"showlegend\": false, \"type\": \"scatter\", \"x\": [\"2015-01-04T00:00:00\", \"2015-01-05T00:00:00\", \"2015-01-06T00:00:00\", \"2015-02-04T00:00:00\", \"2015-02-05T00:00:00\", \"2015-02-06T00:00:00\", \"2015-03-04T00:00:00\", \"2015-03-05T00:00:00\", \"2015-03-06T00:00:00\", \"2015-04-04T00:00:00\", \"2015-04-05T00:00:00\", \"2015-04-06T00:00:00\", \"2015-04-13T00:00:00\", \"2015-04-14T00:00:00\", \"2015-04-15T00:00:00\", \"2015-04-16T00:00:00\", \"2015-04-17T00:00:00\", \"2015-04-18T00:00:00\", \"2015-04-19T00:00:00\", \"2015-04-20T00:00:00\", \"2015-04-21T00:00:00\", \"2015-04-22T00:00:00\", \"2015-04-23T00:00:00\", \"2015-04-24T00:00:00\", \"2015-04-25T00:00:00\", \"2015-04-26T00:00:00\", \"2015-04-27T00:00:00\", \"2015-04-28T00:00:00\", \"2015-04-29T00:00:00\", \"2015-04-30T00:00:00\", \"2015-05-04T00:00:00\", \"2015-05-05T00:00:00\", \"2015-05-06T00:00:00\", \"2015-05-13T00:00:00\", \"2015-05-14T00:00:00\", \"2015-05-15T00:00:00\", \"2015-05-16T00:00:00\", \"2015-05-17T00:00:00\", \"2015-05-18T00:00:00\", \"2015-05-19T00:00:00\", \"2015-05-20T00:00:00\", \"2015-05-21T00:00:00\", \"2015-05-22T00:00:00\", \"2015-05-23T00:00:00\", \"2015-05-24T00:00:00\", \"2015-05-25T00:00:00\", \"2015-05-26T00:00:00\", \"2015-05-27T00:00:00\", \"2015-05-28T00:00:00\", \"2015-05-29T00:00:00\", \"2015-05-30T00:00:00\", \"2015-05-31T00:00:00\", \"2015-06-04T00:00:00\", \"2015-06-05T00:00:00\", \"2015-06-06T00:00:00\", \"2015-06-13T00:00:00\", \"2015-06-14T00:00:00\", \"2015-06-15T00:00:00\", \"2015-06-16T00:00:00\", \"2015-06-17T00:00:00\", \"2015-06-18T00:00:00\", \"2015-06-19T00:00:00\", \"2015-06-20T00:00:00\", \"2015-06-21T00:00:00\", \"2015-06-22T00:00:00\", \"2015-06-23T00:00:00\", \"2015-06-24T00:00:00\", \"2015-06-25T00:00:00\", \"2015-06-26T00:00:00\", \"2015-06-27T00:00:00\", \"2015-06-28T00:00:00\", \"2015-06-29T00:00:00\", \"2015-06-30T00:00:00\", \"2015-07-04T00:00:00\", \"2015-07-05T00:00:00\", \"2015-07-06T00:00:00\", \"2015-08-04T00:00:00\", \"2015-08-05T00:00:00\", \"2015-08-06T00:00:00\", \"2015-09-04T00:00:00\", \"2015-09-05T00:00:00\", \"2015-09-06T00:00:00\", \"2015-10-04T00:00:00\", \"2015-10-05T00:00:00\", \"2015-10-06T00:00:00\", \"2015-11-04T00:00:00\", \"2015-11-05T00:00:00\", \"2015-11-06T00:00:00\", \"2015-12-04T00:00:00\", \"2015-12-05T00:00:00\", \"2015-12-06T00:00:00\"], \"xaxis\": \"x\", \"y\": [18, 12, 25, 27, 7, 25, 15, 5, 25, 12, 12, 12, 24, 23, 12, 20, 21, 8, 9, 20, 12, 22, 23, 24, 16, 8, 25, 26, 22, 24, 6, 14, 29, 12, 15, 12, 16, 7, 14, 12, 15, 17, 14, 12, 7, 12, 27, 17, 26, 14, 9, 10, 13, 14, 11, 32, 16, 34, 29, 32, 47, 29, 16, 12, 30, 190, 218, 98, 55, 39, 27, 51, 53, 25, 15, 9, 28, 15, 24, 21, 11, 23, 21, 7, 25, 5, 12, 21, 15, 7, 43], \"yaxis\": \"y\"}],                        {\"legend\": {\"tracegroupgap\": 0}, \"template\": {\"data\": {\"bar\": [{\"error_x\": {\"color\": \"#2a3f5f\"}, \"error_y\": {\"color\": \"#2a3f5f\"}, \"marker\": {\"line\": {\"color\": \"#E5ECF6\", \"width\": 0.5}}, \"type\": \"bar\"}], \"barpolar\": [{\"marker\": {\"line\": {\"color\": \"#E5ECF6\", \"width\": 0.5}}, \"type\": \"barpolar\"}], \"carpet\": [{\"aaxis\": {\"endlinecolor\": \"#2a3f5f\", \"gridcolor\": \"white\", \"linecolor\": \"white\", \"minorgridcolor\": \"white\", \"startlinecolor\": \"#2a3f5f\"}, \"baxis\": {\"endlinecolor\": \"#2a3f5f\", \"gridcolor\": \"white\", \"linecolor\": \"white\", \"minorgridcolor\": \"white\", \"startlinecolor\": \"#2a3f5f\"}, \"type\": \"carpet\"}], \"choropleth\": [{\"colorbar\": {\"outlinewidth\": 0, \"ticks\": \"\"}, \"type\": \"choropleth\"}], \"contour\": [{\"colorbar\": {\"outlinewidth\": 0, \"ticks\": \"\"}, \"colorscale\": [[0.0, \"#0d0887\"], [0.1111111111111111, \"#46039f\"], [0.2222222222222222, \"#7201a8\"], [0.3333333333333333, \"#9c179e\"], [0.4444444444444444, \"#bd3786\"], [0.5555555555555556, \"#d8576b\"], [0.6666666666666666, \"#ed7953\"], [0.7777777777777778, \"#fb9f3a\"], [0.8888888888888888, \"#fdca26\"], [1.0, \"#f0f921\"]], \"type\": \"contour\"}], \"contourcarpet\": [{\"colorbar\": {\"outlinewidth\": 0, \"ticks\": \"\"}, \"type\": \"contourcarpet\"}], \"heatmap\": [{\"colorbar\": {\"outlinewidth\": 0, \"ticks\": \"\"}, \"colorscale\": [[0.0, \"#0d0887\"], [0.1111111111111111, \"#46039f\"], [0.2222222222222222, \"#7201a8\"], [0.3333333333333333, \"#9c179e\"], [0.4444444444444444, \"#bd3786\"], [0.5555555555555556, \"#d8576b\"], [0.6666666666666666, \"#ed7953\"], [0.7777777777777778, \"#fb9f3a\"], [0.8888888888888888, \"#fdca26\"], [1.0, \"#f0f921\"]], \"type\": \"heatmap\"}], \"heatmapgl\": [{\"colorbar\": {\"outlinewidth\": 0, \"ticks\": \"\"}, \"colorscale\": [[0.0, \"#0d0887\"], [0.1111111111111111, \"#46039f\"], [0.2222222222222222, \"#7201a8\"], [0.3333333333333333, \"#9c179e\"], [0.4444444444444444, \"#bd3786\"], [0.5555555555555556, \"#d8576b\"], [0.6666666666666666, \"#ed7953\"], [0.7777777777777778, \"#fb9f3a\"], [0.8888888888888888, \"#fdca26\"], [1.0, \"#f0f921\"]], \"type\": \"heatmapgl\"}], \"histogram\": [{\"marker\": {\"colorbar\": {\"outlinewidth\": 0, \"ticks\": \"\"}}, \"type\": \"histogram\"}], \"histogram2d\": [{\"colorbar\": {\"outlinewidth\": 0, \"ticks\": \"\"}, \"colorscale\": [[0.0, \"#0d0887\"], [0.1111111111111111, \"#46039f\"], [0.2222222222222222, \"#7201a8\"], [0.3333333333333333, \"#9c179e\"], [0.4444444444444444, \"#bd3786\"], [0.5555555555555556, \"#d8576b\"], [0.6666666666666666, \"#ed7953\"], [0.7777777777777778, \"#fb9f3a\"], [0.8888888888888888, \"#fdca26\"], [1.0, \"#f0f921\"]], \"type\": \"histogram2d\"}], \"histogram2dcontour\": [{\"colorbar\": {\"outlinewidth\": 0, \"ticks\": \"\"}, \"colorscale\": [[0.0, \"#0d0887\"], [0.1111111111111111, \"#46039f\"], [0.2222222222222222, \"#7201a8\"], [0.3333333333333333, \"#9c179e\"], [0.4444444444444444, \"#bd3786\"], [0.5555555555555556, \"#d8576b\"], [0.6666666666666666, \"#ed7953\"], [0.7777777777777778, \"#fb9f3a\"], [0.8888888888888888, \"#fdca26\"], [1.0, \"#f0f921\"]], \"type\": \"histogram2dcontour\"}], \"mesh3d\": [{\"colorbar\": {\"outlinewidth\": 0, \"ticks\": \"\"}, \"type\": \"mesh3d\"}], \"parcoords\": [{\"line\": {\"colorbar\": {\"outlinewidth\": 0, \"ticks\": \"\"}}, \"type\": \"parcoords\"}], \"pie\": [{\"automargin\": true, \"type\": \"pie\"}], \"scatter\": [{\"marker\": {\"colorbar\": {\"outlinewidth\": 0, \"ticks\": \"\"}}, \"type\": \"scatter\"}], \"scatter3d\": [{\"line\": {\"colorbar\": {\"outlinewidth\": 0, \"ticks\": \"\"}}, \"marker\": {\"colorbar\": {\"outlinewidth\": 0, \"ticks\": \"\"}}, \"type\": \"scatter3d\"}], \"scattercarpet\": [{\"marker\": {\"colorbar\": {\"outlinewidth\": 0, \"ticks\": \"\"}}, \"type\": \"scattercarpet\"}], \"scattergeo\": [{\"marker\": {\"colorbar\": {\"outlinewidth\": 0, \"ticks\": \"\"}}, \"type\": \"scattergeo\"}], \"scattergl\": [{\"marker\": {\"colorbar\": {\"outlinewidth\": 0, \"ticks\": \"\"}}, \"type\": \"scattergl\"}], \"scattermapbox\": [{\"marker\": {\"colorbar\": {\"outlinewidth\": 0, \"ticks\": \"\"}}, \"type\": \"scattermapbox\"}], \"scatterpolar\": [{\"marker\": {\"colorbar\": {\"outlinewidth\": 0, \"ticks\": \"\"}}, \"type\": \"scatterpolar\"}], \"scatterpolargl\": [{\"marker\": {\"colorbar\": {\"outlinewidth\": 0, \"ticks\": \"\"}}, \"type\": \"scatterpolargl\"}], \"scatterternary\": [{\"marker\": {\"colorbar\": {\"outlinewidth\": 0, \"ticks\": \"\"}}, \"type\": \"scatterternary\"}], \"surface\": [{\"colorbar\": {\"outlinewidth\": 0, \"ticks\": \"\"}, \"colorscale\": [[0.0, \"#0d0887\"], [0.1111111111111111, \"#46039f\"], [0.2222222222222222, \"#7201a8\"], [0.3333333333333333, \"#9c179e\"], [0.4444444444444444, \"#bd3786\"], [0.5555555555555556, \"#d8576b\"], [0.6666666666666666, \"#ed7953\"], [0.7777777777777778, \"#fb9f3a\"], [0.8888888888888888, \"#fdca26\"], [1.0, \"#f0f921\"]], \"type\": \"surface\"}], \"table\": [{\"cells\": {\"fill\": {\"color\": \"#EBF0F8\"}, \"line\": {\"color\": \"white\"}}, \"header\": {\"fill\": {\"color\": \"#C8D4E3\"}, \"line\": {\"color\": \"white\"}}, \"type\": \"table\"}]}, \"layout\": {\"annotationdefaults\": {\"arrowcolor\": \"#2a3f5f\", \"arrowhead\": 0, \"arrowwidth\": 1}, \"autotypenumbers\": \"strict\", \"coloraxis\": {\"colorbar\": {\"outlinewidth\": 0, \"ticks\": \"\"}}, \"colorscale\": {\"diverging\": [[0, \"#8e0152\"], [0.1, \"#c51b7d\"], [0.2, \"#de77ae\"], [0.3, \"#f1b6da\"], [0.4, \"#fde0ef\"], [0.5, \"#f7f7f7\"], [0.6, \"#e6f5d0\"], [0.7, \"#b8e186\"], [0.8, \"#7fbc41\"], [0.9, \"#4d9221\"], [1, \"#276419\"]], \"sequential\": [[0.0, \"#0d0887\"], [0.1111111111111111, \"#46039f\"], [0.2222222222222222, \"#7201a8\"], [0.3333333333333333, \"#9c179e\"], [0.4444444444444444, \"#bd3786\"], [0.5555555555555556, \"#d8576b\"], [0.6666666666666666, \"#ed7953\"], [0.7777777777777778, \"#fb9f3a\"], [0.8888888888888888, \"#fdca26\"], [1.0, \"#f0f921\"]], \"sequentialminus\": [[0.0, \"#0d0887\"], [0.1111111111111111, \"#46039f\"], [0.2222222222222222, \"#7201a8\"], [0.3333333333333333, \"#9c179e\"], [0.4444444444444444, \"#bd3786\"], [0.5555555555555556, \"#d8576b\"], [0.6666666666666666, \"#ed7953\"], [0.7777777777777778, \"#fb9f3a\"], [0.8888888888888888, \"#fdca26\"], [1.0, \"#f0f921\"]]}, \"colorway\": [\"#636efa\", \"#EF553B\", \"#00cc96\", \"#ab63fa\", \"#FFA15A\", \"#19d3f3\", \"#FF6692\", \"#B6E880\", \"#FF97FF\", \"#FECB52\"], \"font\": {\"color\": \"#2a3f5f\"}, \"geo\": {\"bgcolor\": \"white\", \"lakecolor\": \"white\", \"landcolor\": \"#E5ECF6\", \"showlakes\": true, \"showland\": true, \"subunitcolor\": \"white\"}, \"hoverlabel\": {\"align\": \"left\"}, \"hovermode\": \"closest\", \"mapbox\": {\"style\": \"light\"}, \"paper_bgcolor\": \"white\", \"plot_bgcolor\": \"#E5ECF6\", \"polar\": {\"angularaxis\": {\"gridcolor\": \"white\", \"linecolor\": \"white\", \"ticks\": \"\"}, \"bgcolor\": \"#E5ECF6\", \"radialaxis\": {\"gridcolor\": \"white\", \"linecolor\": \"white\", \"ticks\": \"\"}}, \"scene\": {\"xaxis\": {\"backgroundcolor\": \"#E5ECF6\", \"gridcolor\": \"white\", \"gridwidth\": 2, \"linecolor\": \"white\", \"showbackground\": true, \"ticks\": \"\", \"zerolinecolor\": \"white\"}, \"yaxis\": {\"backgroundcolor\": \"#E5ECF6\", \"gridcolor\": \"white\", \"gridwidth\": 2, \"linecolor\": \"white\", \"showbackground\": true, \"ticks\": \"\", \"zerolinecolor\": \"white\"}, \"zaxis\": {\"backgroundcolor\": \"#E5ECF6\", \"gridcolor\": \"white\", \"gridwidth\": 2, \"linecolor\": \"white\", \"showbackground\": true, \"ticks\": \"\", \"zerolinecolor\": \"white\"}}, \"shapedefaults\": {\"line\": {\"color\": \"#2a3f5f\"}}, \"ternary\": {\"aaxis\": {\"gridcolor\": \"white\", \"linecolor\": \"white\", \"ticks\": \"\"}, \"baxis\": {\"gridcolor\": \"white\", \"linecolor\": \"white\", \"ticks\": \"\"}, \"bgcolor\": \"#E5ECF6\", \"caxis\": {\"gridcolor\": \"white\", \"linecolor\": \"white\", \"ticks\": \"\"}}, \"title\": {\"x\": 0.05}, \"xaxis\": {\"automargin\": true, \"gridcolor\": \"white\", \"linecolor\": \"white\", \"ticks\": \"\", \"title\": {\"standoff\": 15}, \"zerolinecolor\": \"white\", \"zerolinewidth\": 2}, \"yaxis\": {\"automargin\": true, \"gridcolor\": \"white\", \"linecolor\": \"white\", \"ticks\": \"\", \"title\": {\"standoff\": 15}, \"zerolinecolor\": \"white\", \"zerolinewidth\": 2}}}, \"title\": {\"text\": \"Customer complaints by day\"}, \"xaxis\": {\"anchor\": \"y\", \"domain\": [0.0, 1.0], \"dtick\": 0, \"rangeslider\": {\"visible\": true}, \"tick0\": 0.5, \"tickangle\": -45, \"ticklabelmode\": \"period\", \"title\": {\"text\": \"date\"}}, \"yaxis\": {\"anchor\": \"x\", \"domain\": [0.0, 1.0], \"title\": {\"text\": \"Ticket_count\"}}},                        {\"responsive\": true}                    ).then(function(){\n",
       "                            \n",
       "var gd = document.getElementById('244e107f-914d-43ad-a45a-fd9a6416bbd2');\n",
       "var x = new MutationObserver(function (mutations, observer) {{\n",
       "        var display = window.getComputedStyle(gd).display;\n",
       "        if (!display || display === 'none') {{\n",
       "            console.log([gd, 'removed!']);\n",
       "            Plotly.purge(gd);\n",
       "            observer.disconnect();\n",
       "        }}\n",
       "}});\n",
       "\n",
       "// Listen for the removal of the full notebook cells\n",
       "var notebookContainer = gd.closest('#notebook-container');\n",
       "if (notebookContainer) {{\n",
       "    x.observe(notebookContainer, {childList: true});\n",
       "}}\n",
       "\n",
       "// Listen for the clearing of the current output cell\n",
       "var outputEl = gd.closest('.output');\n",
       "if (outputEl) {{\n",
       "    x.observe(outputEl, {childList: true});\n",
       "}}\n",
       "\n",
       "                        })                };                });            </script>        </div>"
      ]
     },
     "metadata": {},
     "output_type": "display_data"
    }
   ],
   "source": [
    "fig = px.line(daily_tickets_df, x=\"date\", y=\"Ticket_count\", title='Customer complaints by day') \n",
    "fig.update_xaxes(ticklabelmode=\"period\",tickangle = -45,tick0 = 0.5,dtick = 0,rangeslider_visible=True)\n",
    "fig.show()"
   ]
  },
  {
   "cell_type": "markdown",
   "metadata": {},
   "source": [
    "## Observations 2:\n",
    "    * By looking at the Monthly chart and daily trend of customer complains tickets, we see a steep rise in the month of           \n",
    "      May, Jun and July,in the number of tickets\n",
    "    * we see that highest number of complaints tickets are being handled in the month of June\n",
    "    * On June 24 2015, we have handled 218 complaints tickets, highest compared to any other days in the year\n",
    "    * We need to do further analysis to check why there is a sudden raise of ticekts, especially in Jun"
   ]
  },
  {
   "cell_type": "code",
   "execution_count": 226,
   "metadata": {},
   "outputs": [],
   "source": [
    "# Lets check number of tickets by status"
   ]
  },
  {
   "cell_type": "code",
   "execution_count": 98,
   "metadata": {},
   "outputs": [
    {
     "data": {
      "text/plain": [
       "Solved     973\n",
       "Closed     734\n",
       "Open       363\n",
       "Pending    154\n",
       "Name: Status, dtype: int64"
      ]
     },
     "execution_count": 98,
     "metadata": {},
     "output_type": "execute_result"
    }
   ],
   "source": [
    "df_comcast['Status'].value_counts()"
   ]
  },
  {
   "cell_type": "code",
   "execution_count": 99,
   "metadata": {},
   "outputs": [
    {
     "data": {
      "text/html": [
       "<div>\n",
       "<style scoped>\n",
       "    .dataframe tbody tr th:only-of-type {\n",
       "        vertical-align: middle;\n",
       "    }\n",
       "\n",
       "    .dataframe tbody tr th {\n",
       "        vertical-align: top;\n",
       "    }\n",
       "\n",
       "    .dataframe thead th {\n",
       "        text-align: right;\n",
       "    }\n",
       "</style>\n",
       "<table border=\"1\" class=\"dataframe\">\n",
       "  <thead>\n",
       "    <tr style=\"text-align: right;\">\n",
       "      <th></th>\n",
       "      <th>Month</th>\n",
       "      <th>Status</th>\n",
       "      <th>Ticket_count</th>\n",
       "    </tr>\n",
       "  </thead>\n",
       "  <tbody>\n",
       "    <tr>\n",
       "      <th>0</th>\n",
       "      <td>Jan</td>\n",
       "      <td>Closed</td>\n",
       "      <td>39</td>\n",
       "    </tr>\n",
       "    <tr>\n",
       "      <th>1</th>\n",
       "      <td>Jan</td>\n",
       "      <td>Open</td>\n",
       "      <td>5</td>\n",
       "    </tr>\n",
       "    <tr>\n",
       "      <th>2</th>\n",
       "      <td>Jan</td>\n",
       "      <td>Solved</td>\n",
       "      <td>11</td>\n",
       "    </tr>\n",
       "    <tr>\n",
       "      <th>3</th>\n",
       "      <td>Feb</td>\n",
       "      <td>Closed</td>\n",
       "      <td>46</td>\n",
       "    </tr>\n",
       "    <tr>\n",
       "      <th>4</th>\n",
       "      <td>Feb</td>\n",
       "      <td>Open</td>\n",
       "      <td>4</td>\n",
       "    </tr>\n",
       "  </tbody>\n",
       "</table>\n",
       "</div>"
      ],
      "text/plain": [
       "  Month  Status  Ticket_count\n",
       "0   Jan  Closed            39\n",
       "1   Jan    Open             5\n",
       "2   Jan  Solved            11\n",
       "3   Feb  Closed            46\n",
       "4   Feb    Open             4"
      ]
     },
     "execution_count": 99,
     "metadata": {},
     "output_type": "execute_result"
    }
   ],
   "source": [
    "monthly_tickets_status_df = df_comcast.groupby(['Month','Status'])[['Ticket_count']].sum().reset_index()\n",
    "monthly_tickets_status_df.head()\n",
    "monthly_tickets_status_df.tail()\n",
    "\n",
    "# sorting the monthly_tickets_df in calendar months order\n",
    "from sorted_months_weekdays import *\n",
    "from sort_dataframeby_monthorweek import *\n",
    "monthly_tickets_status_df=Sort_Dataframeby_Month(df=monthly_tickets_status_df,monthcolumnname='Month')\n",
    "monthly_tickets_status_df.head()"
   ]
  },
  {
   "cell_type": "code",
   "execution_count": 408,
   "metadata": {},
   "outputs": [
    {
     "data": {
      "image/png": "[encoded data removed]",
      "text/plain": [
       "<Figure size 1080x360 with 1 Axes>"
      ]
     },
     "metadata": {},
     "output_type": "display_data"
    }
   ],
   "source": [
    "df1=monthly_tickets_status_df[monthly_tickets_status_df['Status']=='Closed']\n",
    "df2=monthly_tickets_status_df[monthly_tickets_status_df['Status']=='Open']\n",
    "df3=monthly_tickets_status_df[monthly_tickets_status_df['Status']=='Solved']\n",
    "df4=monthly_tickets_status_df[monthly_tickets_status_df['Status']=='Pending']\n",
    "\n",
    "plt.figure(figsize=(15,5))\n",
    "plt.plot(df1['Month'], df1['Ticket_count'],label='Closed')\n",
    "plt.plot(df2['Month'], df2['Ticket_count'],label='Open')\n",
    "plt.plot(df3['Month'], df3['Ticket_count'],label='Solved')\n",
    "plt.plot(df4['Month'], df4['Ticket_count'],label='Pending')\n",
    "plt.legend()\n",
    "\n",
    "plt.title('Customer complaints by Month & Status')\n",
    "plt.xlabel('Months')\n",
    "plt.ylabel('Complaints')\n",
    "\n",
    "plt.show()"
   ]
  },
  {
   "cell_type": "code",
   "execution_count": null,
   "metadata": {},
   "outputs": [],
   "source": []
  },
  {
   "cell_type": "code",
   "execution_count": 410,
   "metadata": {},
   "outputs": [],
   "source": [
    "#fig = px.line(monthly_tickets_status_df, x=\"Month\", y=\"Ticket_count\",color='Status',\n",
    "              #title='Customer complaints by Month & Status') \n",
    "#fig.update_xaxes(tickangle = -45)\n",
    "#fig.show()"
   ]
  },
  {
   "cell_type": "markdown",
   "metadata": {},
   "source": [
    "### Observations 3:\n",
    "    * We can see that in the month of Jun, we received most number of ticekts and also most of the tickets were solved\n",
    "    * this kind of explains the spkie of tickets being handled in Jun\n",
    "    * It will be interesting to how was the trend of tickets handled by status month on month"
   ]
  },
  {
   "cell_type": "code",
   "execution_count": 233,
   "metadata": {},
   "outputs": [],
   "source": [
    "# Creating a table with the monthly_tickets_status_df"
   ]
  },
  {
   "cell_type": "code",
   "execution_count": 191,
   "metadata": {},
   "outputs": [
    {
     "data": {
      "text/html": [
       "<style  type=\"text/css\" >\n",
       "    #T_4b0aa7b6_cf7f_11eb_b8e5_1c1bb5dd724arow0_col8 {\n",
       "            color:  black;\n",
       "        }    #T_4b0aa7b6_cf7f_11eb_b8e5_1c1bb5dd724arow1_col8 {\n",
       "            color:  black;\n",
       "        }    #T_4b0aa7b6_cf7f_11eb_b8e5_1c1bb5dd724arow2_col8 {\n",
       "            color:  red;\n",
       "        }    #T_4b0aa7b6_cf7f_11eb_b8e5_1c1bb5dd724arow3_col8 {\n",
       "            color:  black;\n",
       "        }    #T_4b0aa7b6_cf7f_11eb_b8e5_1c1bb5dd724arow4_col8 {\n",
       "            color:  red;\n",
       "        }    #T_4b0aa7b6_cf7f_11eb_b8e5_1c1bb5dd724arow5_col8 {\n",
       "            color:  red;\n",
       "        }    #T_4b0aa7b6_cf7f_11eb_b8e5_1c1bb5dd724arow6_col8 {\n",
       "            color:  red;\n",
       "        }    #T_4b0aa7b6_cf7f_11eb_b8e5_1c1bb5dd724arow7_col8 {\n",
       "            color:  black;\n",
       "        }    #T_4b0aa7b6_cf7f_11eb_b8e5_1c1bb5dd724arow8_col8 {\n",
       "            color:  black;\n",
       "        }    #T_4b0aa7b6_cf7f_11eb_b8e5_1c1bb5dd724arow9_col8 {\n",
       "            color:  black;\n",
       "        }    #T_4b0aa7b6_cf7f_11eb_b8e5_1c1bb5dd724arow10_col8 {\n",
       "            color:  black;\n",
       "        }    #T_4b0aa7b6_cf7f_11eb_b8e5_1c1bb5dd724arow11_col8 {\n",
       "            color:  black;\n",
       "        }</style><table id=\"T_4b0aa7b6_cf7f_11eb_b8e5_1c1bb5dd724a\" ><thead>    <tr>        <th class=\"blank level0\" ></th>        <th class=\"col_heading level0 col0\" >Month</th>        <th class=\"col_heading level0 col1\" >Closed</th>        <th class=\"col_heading level0 col2\" >Open</th>        <th class=\"col_heading level0 col3\" >Pending</th>        <th class=\"col_heading level0 col4\" >Solved</th>        <th class=\"col_heading level0 col5\" >Closed+Solved</th>        <th class=\"col_heading level0 col6\" >Open+pending</th>        <th class=\"col_heading level0 col7\" >Total</th>        <th class=\"col_heading level0 col8\" >Open_pct</th>        <th class=\"col_heading level0 col9\" >Closed_pct</th>    </tr></thead><tbody>\n",
       "                <tr>\n",
       "                        <th id=\"T_4b0aa7b6_cf7f_11eb_b8e5_1c1bb5dd724alevel0_row0\" class=\"row_heading level0 row0\" >0</th>\n",
       "                        <td id=\"T_4b0aa7b6_cf7f_11eb_b8e5_1c1bb5dd724arow0_col0\" class=\"data row0 col0\" >Jan</td>\n",
       "                        <td id=\"T_4b0aa7b6_cf7f_11eb_b8e5_1c1bb5dd724arow0_col1\" class=\"data row0 col1\" >39</td>\n",
       "                        <td id=\"T_4b0aa7b6_cf7f_11eb_b8e5_1c1bb5dd724arow0_col2\" class=\"data row0 col2\" >5</td>\n",
       "                        <td id=\"T_4b0aa7b6_cf7f_11eb_b8e5_1c1bb5dd724arow0_col3\" class=\"data row0 col3\" >0</td>\n",
       "                        <td id=\"T_4b0aa7b6_cf7f_11eb_b8e5_1c1bb5dd724arow0_col4\" class=\"data row0 col4\" >11</td>\n",
       "                        <td id=\"T_4b0aa7b6_cf7f_11eb_b8e5_1c1bb5dd724arow0_col5\" class=\"data row0 col5\" >50</td>\n",
       "                        <td id=\"T_4b0aa7b6_cf7f_11eb_b8e5_1c1bb5dd724arow0_col6\" class=\"data row0 col6\" >5</td>\n",
       "                        <td id=\"T_4b0aa7b6_cf7f_11eb_b8e5_1c1bb5dd724arow0_col7\" class=\"data row0 col7\" >55</td>\n",
       "                        <td id=\"T_4b0aa7b6_cf7f_11eb_b8e5_1c1bb5dd724arow0_col8\" class=\"data row0 col8\" >9.09%</td>\n",
       "                        <td id=\"T_4b0aa7b6_cf7f_11eb_b8e5_1c1bb5dd724arow0_col9\" class=\"data row0 col9\" >90.91%</td>\n",
       "            </tr>\n",
       "            <tr>\n",
       "                        <th id=\"T_4b0aa7b6_cf7f_11eb_b8e5_1c1bb5dd724alevel0_row1\" class=\"row_heading level0 row1\" >1</th>\n",
       "                        <td id=\"T_4b0aa7b6_cf7f_11eb_b8e5_1c1bb5dd724arow1_col0\" class=\"data row1 col0\" >Feb</td>\n",
       "                        <td id=\"T_4b0aa7b6_cf7f_11eb_b8e5_1c1bb5dd724arow1_col1\" class=\"data row1 col1\" >46</td>\n",
       "                        <td id=\"T_4b0aa7b6_cf7f_11eb_b8e5_1c1bb5dd724arow1_col2\" class=\"data row1 col2\" >4</td>\n",
       "                        <td id=\"T_4b0aa7b6_cf7f_11eb_b8e5_1c1bb5dd724arow1_col3\" class=\"data row1 col3\" >0</td>\n",
       "                        <td id=\"T_4b0aa7b6_cf7f_11eb_b8e5_1c1bb5dd724arow1_col4\" class=\"data row1 col4\" >9</td>\n",
       "                        <td id=\"T_4b0aa7b6_cf7f_11eb_b8e5_1c1bb5dd724arow1_col5\" class=\"data row1 col5\" >55</td>\n",
       "                        <td id=\"T_4b0aa7b6_cf7f_11eb_b8e5_1c1bb5dd724arow1_col6\" class=\"data row1 col6\" >4</td>\n",
       "                        <td id=\"T_4b0aa7b6_cf7f_11eb_b8e5_1c1bb5dd724arow1_col7\" class=\"data row1 col7\" >59</td>\n",
       "                        <td id=\"T_4b0aa7b6_cf7f_11eb_b8e5_1c1bb5dd724arow1_col8\" class=\"data row1 col8\" >6.78%</td>\n",
       "                        <td id=\"T_4b0aa7b6_cf7f_11eb_b8e5_1c1bb5dd724arow1_col9\" class=\"data row1 col9\" >93.22%</td>\n",
       "            </tr>\n",
       "            <tr>\n",
       "                        <th id=\"T_4b0aa7b6_cf7f_11eb_b8e5_1c1bb5dd724alevel0_row2\" class=\"row_heading level0 row2\" >2</th>\n",
       "                        <td id=\"T_4b0aa7b6_cf7f_11eb_b8e5_1c1bb5dd724arow2_col0\" class=\"data row2 col0\" >Mar</td>\n",
       "                        <td id=\"T_4b0aa7b6_cf7f_11eb_b8e5_1c1bb5dd724arow2_col1\" class=\"data row2 col1\" >24</td>\n",
       "                        <td id=\"T_4b0aa7b6_cf7f_11eb_b8e5_1c1bb5dd724arow2_col2\" class=\"data row2 col2\" >7</td>\n",
       "                        <td id=\"T_4b0aa7b6_cf7f_11eb_b8e5_1c1bb5dd724arow2_col3\" class=\"data row2 col3\" >0</td>\n",
       "                        <td id=\"T_4b0aa7b6_cf7f_11eb_b8e5_1c1bb5dd724arow2_col4\" class=\"data row2 col4\" >14</td>\n",
       "                        <td id=\"T_4b0aa7b6_cf7f_11eb_b8e5_1c1bb5dd724arow2_col5\" class=\"data row2 col5\" >38</td>\n",
       "                        <td id=\"T_4b0aa7b6_cf7f_11eb_b8e5_1c1bb5dd724arow2_col6\" class=\"data row2 col6\" >7</td>\n",
       "                        <td id=\"T_4b0aa7b6_cf7f_11eb_b8e5_1c1bb5dd724arow2_col7\" class=\"data row2 col7\" >45</td>\n",
       "                        <td id=\"T_4b0aa7b6_cf7f_11eb_b8e5_1c1bb5dd724arow2_col8\" class=\"data row2 col8\" >15.56%</td>\n",
       "                        <td id=\"T_4b0aa7b6_cf7f_11eb_b8e5_1c1bb5dd724arow2_col9\" class=\"data row2 col9\" >84.44%</td>\n",
       "            </tr>\n",
       "            <tr>\n",
       "                        <th id=\"T_4b0aa7b6_cf7f_11eb_b8e5_1c1bb5dd724alevel0_row3\" class=\"row_heading level0 row3\" >3</th>\n",
       "                        <td id=\"T_4b0aa7b6_cf7f_11eb_b8e5_1c1bb5dd724arow3_col0\" class=\"data row3 col0\" >Apr</td>\n",
       "                        <td id=\"T_4b0aa7b6_cf7f_11eb_b8e5_1c1bb5dd724arow3_col1\" class=\"data row3 col1\" >348</td>\n",
       "                        <td id=\"T_4b0aa7b6_cf7f_11eb_b8e5_1c1bb5dd724arow3_col2\" class=\"data row3 col2\" >10</td>\n",
       "                        <td id=\"T_4b0aa7b6_cf7f_11eb_b8e5_1c1bb5dd724arow3_col3\" class=\"data row3 col3\" >0</td>\n",
       "                        <td id=\"T_4b0aa7b6_cf7f_11eb_b8e5_1c1bb5dd724arow3_col4\" class=\"data row3 col4\" >17</td>\n",
       "                        <td id=\"T_4b0aa7b6_cf7f_11eb_b8e5_1c1bb5dd724arow3_col5\" class=\"data row3 col5\" >365</td>\n",
       "                        <td id=\"T_4b0aa7b6_cf7f_11eb_b8e5_1c1bb5dd724arow3_col6\" class=\"data row3 col6\" >10</td>\n",
       "                        <td id=\"T_4b0aa7b6_cf7f_11eb_b8e5_1c1bb5dd724arow3_col7\" class=\"data row3 col7\" >375</td>\n",
       "                        <td id=\"T_4b0aa7b6_cf7f_11eb_b8e5_1c1bb5dd724arow3_col8\" class=\"data row3 col8\" >2.67%</td>\n",
       "                        <td id=\"T_4b0aa7b6_cf7f_11eb_b8e5_1c1bb5dd724arow3_col9\" class=\"data row3 col9\" >97.33%</td>\n",
       "            </tr>\n",
       "            <tr>\n",
       "                        <th id=\"T_4b0aa7b6_cf7f_11eb_b8e5_1c1bb5dd724alevel0_row4\" class=\"row_heading level0 row4\" >4</th>\n",
       "                        <td id=\"T_4b0aa7b6_cf7f_11eb_b8e5_1c1bb5dd724arow4_col0\" class=\"data row4 col0\" >May</td>\n",
       "                        <td id=\"T_4b0aa7b6_cf7f_11eb_b8e5_1c1bb5dd724arow4_col1\" class=\"data row4 col1\" >47</td>\n",
       "                        <td id=\"T_4b0aa7b6_cf7f_11eb_b8e5_1c1bb5dd724arow4_col2\" class=\"data row4 col2\" >63</td>\n",
       "                        <td id=\"T_4b0aa7b6_cf7f_11eb_b8e5_1c1bb5dd724arow4_col3\" class=\"data row4 col3\" >26</td>\n",
       "                        <td id=\"T_4b0aa7b6_cf7f_11eb_b8e5_1c1bb5dd724arow4_col4\" class=\"data row4 col4\" >181</td>\n",
       "                        <td id=\"T_4b0aa7b6_cf7f_11eb_b8e5_1c1bb5dd724arow4_col5\" class=\"data row4 col5\" >228</td>\n",
       "                        <td id=\"T_4b0aa7b6_cf7f_11eb_b8e5_1c1bb5dd724arow4_col6\" class=\"data row4 col6\" >89</td>\n",
       "                        <td id=\"T_4b0aa7b6_cf7f_11eb_b8e5_1c1bb5dd724arow4_col7\" class=\"data row4 col7\" >317</td>\n",
       "                        <td id=\"T_4b0aa7b6_cf7f_11eb_b8e5_1c1bb5dd724arow4_col8\" class=\"data row4 col8\" >28.08%</td>\n",
       "                        <td id=\"T_4b0aa7b6_cf7f_11eb_b8e5_1c1bb5dd724arow4_col9\" class=\"data row4 col9\" >71.92%</td>\n",
       "            </tr>\n",
       "            <tr>\n",
       "                        <th id=\"T_4b0aa7b6_cf7f_11eb_b8e5_1c1bb5dd724alevel0_row5\" class=\"row_heading level0 row5\" >5</th>\n",
       "                        <td id=\"T_4b0aa7b6_cf7f_11eb_b8e5_1c1bb5dd724arow5_col0\" class=\"data row5 col0\" >Jun</td>\n",
       "                        <td id=\"T_4b0aa7b6_cf7f_11eb_b8e5_1c1bb5dd724arow5_col1\" class=\"data row5 col1\" >74</td>\n",
       "                        <td id=\"T_4b0aa7b6_cf7f_11eb_b8e5_1c1bb5dd724arow5_col2\" class=\"data row5 col2\" >249</td>\n",
       "                        <td id=\"T_4b0aa7b6_cf7f_11eb_b8e5_1c1bb5dd724arow5_col3\" class=\"data row5 col3\" >127</td>\n",
       "                        <td id=\"T_4b0aa7b6_cf7f_11eb_b8e5_1c1bb5dd724arow5_col4\" class=\"data row5 col4\" >596</td>\n",
       "                        <td id=\"T_4b0aa7b6_cf7f_11eb_b8e5_1c1bb5dd724arow5_col5\" class=\"data row5 col5\" >670</td>\n",
       "                        <td id=\"T_4b0aa7b6_cf7f_11eb_b8e5_1c1bb5dd724arow5_col6\" class=\"data row5 col6\" >376</td>\n",
       "                        <td id=\"T_4b0aa7b6_cf7f_11eb_b8e5_1c1bb5dd724arow5_col7\" class=\"data row5 col7\" >1046</td>\n",
       "                        <td id=\"T_4b0aa7b6_cf7f_11eb_b8e5_1c1bb5dd724arow5_col8\" class=\"data row5 col8\" >35.95%</td>\n",
       "                        <td id=\"T_4b0aa7b6_cf7f_11eb_b8e5_1c1bb5dd724arow5_col9\" class=\"data row5 col9\" >64.05%</td>\n",
       "            </tr>\n",
       "            <tr>\n",
       "                        <th id=\"T_4b0aa7b6_cf7f_11eb_b8e5_1c1bb5dd724alevel0_row6\" class=\"row_heading level0 row6\" >6</th>\n",
       "                        <td id=\"T_4b0aa7b6_cf7f_11eb_b8e5_1c1bb5dd724arow6_col0\" class=\"data row6 col0\" >Jul</td>\n",
       "                        <td id=\"T_4b0aa7b6_cf7f_11eb_b8e5_1c1bb5dd724arow6_col1\" class=\"data row6 col1\" >31</td>\n",
       "                        <td id=\"T_4b0aa7b6_cf7f_11eb_b8e5_1c1bb5dd724arow6_col2\" class=\"data row6 col2\" >6</td>\n",
       "                        <td id=\"T_4b0aa7b6_cf7f_11eb_b8e5_1c1bb5dd724arow6_col3\" class=\"data row6 col3\" >0</td>\n",
       "                        <td id=\"T_4b0aa7b6_cf7f_11eb_b8e5_1c1bb5dd724arow6_col4\" class=\"data row6 col4\" >12</td>\n",
       "                        <td id=\"T_4b0aa7b6_cf7f_11eb_b8e5_1c1bb5dd724arow6_col5\" class=\"data row6 col5\" >43</td>\n",
       "                        <td id=\"T_4b0aa7b6_cf7f_11eb_b8e5_1c1bb5dd724arow6_col6\" class=\"data row6 col6\" >6</td>\n",
       "                        <td id=\"T_4b0aa7b6_cf7f_11eb_b8e5_1c1bb5dd724arow6_col7\" class=\"data row6 col7\" >49</td>\n",
       "                        <td id=\"T_4b0aa7b6_cf7f_11eb_b8e5_1c1bb5dd724arow6_col8\" class=\"data row6 col8\" >12.24%</td>\n",
       "                        <td id=\"T_4b0aa7b6_cf7f_11eb_b8e5_1c1bb5dd724arow6_col9\" class=\"data row6 col9\" >87.76%</td>\n",
       "            </tr>\n",
       "            <tr>\n",
       "                        <th id=\"T_4b0aa7b6_cf7f_11eb_b8e5_1c1bb5dd724alevel0_row7\" class=\"row_heading level0 row7\" >7</th>\n",
       "                        <td id=\"T_4b0aa7b6_cf7f_11eb_b8e5_1c1bb5dd724arow7_col0\" class=\"data row7 col0\" >Aug</td>\n",
       "                        <td id=\"T_4b0aa7b6_cf7f_11eb_b8e5_1c1bb5dd724arow7_col1\" class=\"data row7 col1\" >40</td>\n",
       "                        <td id=\"T_4b0aa7b6_cf7f_11eb_b8e5_1c1bb5dd724arow7_col2\" class=\"data row7 col2\" >4</td>\n",
       "                        <td id=\"T_4b0aa7b6_cf7f_11eb_b8e5_1c1bb5dd724arow7_col3\" class=\"data row7 col3\" >0</td>\n",
       "                        <td id=\"T_4b0aa7b6_cf7f_11eb_b8e5_1c1bb5dd724arow7_col4\" class=\"data row7 col4\" >23</td>\n",
       "                        <td id=\"T_4b0aa7b6_cf7f_11eb_b8e5_1c1bb5dd724arow7_col5\" class=\"data row7 col5\" >63</td>\n",
       "                        <td id=\"T_4b0aa7b6_cf7f_11eb_b8e5_1c1bb5dd724arow7_col6\" class=\"data row7 col6\" >4</td>\n",
       "                        <td id=\"T_4b0aa7b6_cf7f_11eb_b8e5_1c1bb5dd724arow7_col7\" class=\"data row7 col7\" >67</td>\n",
       "                        <td id=\"T_4b0aa7b6_cf7f_11eb_b8e5_1c1bb5dd724arow7_col8\" class=\"data row7 col8\" >5.97%</td>\n",
       "                        <td id=\"T_4b0aa7b6_cf7f_11eb_b8e5_1c1bb5dd724arow7_col9\" class=\"data row7 col9\" >94.03%</td>\n",
       "            </tr>\n",
       "            <tr>\n",
       "                        <th id=\"T_4b0aa7b6_cf7f_11eb_b8e5_1c1bb5dd724alevel0_row8\" class=\"row_heading level0 row8\" >8</th>\n",
       "                        <td id=\"T_4b0aa7b6_cf7f_11eb_b8e5_1c1bb5dd724arow8_col0\" class=\"data row8 col0\" >Sep</td>\n",
       "                        <td id=\"T_4b0aa7b6_cf7f_11eb_b8e5_1c1bb5dd724arow8_col1\" class=\"data row8 col1\" >28</td>\n",
       "                        <td id=\"T_4b0aa7b6_cf7f_11eb_b8e5_1c1bb5dd724arow8_col2\" class=\"data row8 col2\" >5</td>\n",
       "                        <td id=\"T_4b0aa7b6_cf7f_11eb_b8e5_1c1bb5dd724arow8_col3\" class=\"data row8 col3\" >0</td>\n",
       "                        <td id=\"T_4b0aa7b6_cf7f_11eb_b8e5_1c1bb5dd724arow8_col4\" class=\"data row8 col4\" >22</td>\n",
       "                        <td id=\"T_4b0aa7b6_cf7f_11eb_b8e5_1c1bb5dd724arow8_col5\" class=\"data row8 col5\" >50</td>\n",
       "                        <td id=\"T_4b0aa7b6_cf7f_11eb_b8e5_1c1bb5dd724arow8_col6\" class=\"data row8 col6\" >5</td>\n",
       "                        <td id=\"T_4b0aa7b6_cf7f_11eb_b8e5_1c1bb5dd724arow8_col7\" class=\"data row8 col7\" >55</td>\n",
       "                        <td id=\"T_4b0aa7b6_cf7f_11eb_b8e5_1c1bb5dd724arow8_col8\" class=\"data row8 col8\" >9.09%</td>\n",
       "                        <td id=\"T_4b0aa7b6_cf7f_11eb_b8e5_1c1bb5dd724arow8_col9\" class=\"data row8 col9\" >90.91%</td>\n",
       "            </tr>\n",
       "            <tr>\n",
       "                        <th id=\"T_4b0aa7b6_cf7f_11eb_b8e5_1c1bb5dd724alevel0_row9\" class=\"row_heading level0 row9\" >9</th>\n",
       "                        <td id=\"T_4b0aa7b6_cf7f_11eb_b8e5_1c1bb5dd724arow9_col0\" class=\"data row9 col0\" >Oct</td>\n",
       "                        <td id=\"T_4b0aa7b6_cf7f_11eb_b8e5_1c1bb5dd724arow9_col1\" class=\"data row9 col1\" >25</td>\n",
       "                        <td id=\"T_4b0aa7b6_cf7f_11eb_b8e5_1c1bb5dd724arow9_col2\" class=\"data row9 col2\" >3</td>\n",
       "                        <td id=\"T_4b0aa7b6_cf7f_11eb_b8e5_1c1bb5dd724arow9_col3\" class=\"data row9 col3\" >0</td>\n",
       "                        <td id=\"T_4b0aa7b6_cf7f_11eb_b8e5_1c1bb5dd724arow9_col4\" class=\"data row9 col4\" >25</td>\n",
       "                        <td id=\"T_4b0aa7b6_cf7f_11eb_b8e5_1c1bb5dd724arow9_col5\" class=\"data row9 col5\" >50</td>\n",
       "                        <td id=\"T_4b0aa7b6_cf7f_11eb_b8e5_1c1bb5dd724arow9_col6\" class=\"data row9 col6\" >3</td>\n",
       "                        <td id=\"T_4b0aa7b6_cf7f_11eb_b8e5_1c1bb5dd724arow9_col7\" class=\"data row9 col7\" >53</td>\n",
       "                        <td id=\"T_4b0aa7b6_cf7f_11eb_b8e5_1c1bb5dd724arow9_col8\" class=\"data row9 col8\" >5.66%</td>\n",
       "                        <td id=\"T_4b0aa7b6_cf7f_11eb_b8e5_1c1bb5dd724arow9_col9\" class=\"data row9 col9\" >94.34%</td>\n",
       "            </tr>\n",
       "            <tr>\n",
       "                        <th id=\"T_4b0aa7b6_cf7f_11eb_b8e5_1c1bb5dd724alevel0_row10\" class=\"row_heading level0 row10\" >10</th>\n",
       "                        <td id=\"T_4b0aa7b6_cf7f_11eb_b8e5_1c1bb5dd724arow10_col0\" class=\"data row10 col0\" >Nov</td>\n",
       "                        <td id=\"T_4b0aa7b6_cf7f_11eb_b8e5_1c1bb5dd724arow10_col1\" class=\"data row10 col1\" >10</td>\n",
       "                        <td id=\"T_4b0aa7b6_cf7f_11eb_b8e5_1c1bb5dd724arow10_col2\" class=\"data row10 col2\" >2</td>\n",
       "                        <td id=\"T_4b0aa7b6_cf7f_11eb_b8e5_1c1bb5dd724arow10_col3\" class=\"data row10 col3\" >0</td>\n",
       "                        <td id=\"T_4b0aa7b6_cf7f_11eb_b8e5_1c1bb5dd724arow10_col4\" class=\"data row10 col4\" >26</td>\n",
       "                        <td id=\"T_4b0aa7b6_cf7f_11eb_b8e5_1c1bb5dd724arow10_col5\" class=\"data row10 col5\" >36</td>\n",
       "                        <td id=\"T_4b0aa7b6_cf7f_11eb_b8e5_1c1bb5dd724arow10_col6\" class=\"data row10 col6\" >2</td>\n",
       "                        <td id=\"T_4b0aa7b6_cf7f_11eb_b8e5_1c1bb5dd724arow10_col7\" class=\"data row10 col7\" >38</td>\n",
       "                        <td id=\"T_4b0aa7b6_cf7f_11eb_b8e5_1c1bb5dd724arow10_col8\" class=\"data row10 col8\" >5.26%</td>\n",
       "                        <td id=\"T_4b0aa7b6_cf7f_11eb_b8e5_1c1bb5dd724arow10_col9\" class=\"data row10 col9\" >94.74%</td>\n",
       "            </tr>\n",
       "            <tr>\n",
       "                        <th id=\"T_4b0aa7b6_cf7f_11eb_b8e5_1c1bb5dd724alevel0_row11\" class=\"row_heading level0 row11\" >11</th>\n",
       "                        <td id=\"T_4b0aa7b6_cf7f_11eb_b8e5_1c1bb5dd724arow11_col0\" class=\"data row11 col0\" >Dec</td>\n",
       "                        <td id=\"T_4b0aa7b6_cf7f_11eb_b8e5_1c1bb5dd724arow11_col1\" class=\"data row11 col1\" >22</td>\n",
       "                        <td id=\"T_4b0aa7b6_cf7f_11eb_b8e5_1c1bb5dd724arow11_col2\" class=\"data row11 col2\" >5</td>\n",
       "                        <td id=\"T_4b0aa7b6_cf7f_11eb_b8e5_1c1bb5dd724arow11_col3\" class=\"data row11 col3\" >1</td>\n",
       "                        <td id=\"T_4b0aa7b6_cf7f_11eb_b8e5_1c1bb5dd724arow11_col4\" class=\"data row11 col4\" >37</td>\n",
       "                        <td id=\"T_4b0aa7b6_cf7f_11eb_b8e5_1c1bb5dd724arow11_col5\" class=\"data row11 col5\" >59</td>\n",
       "                        <td id=\"T_4b0aa7b6_cf7f_11eb_b8e5_1c1bb5dd724arow11_col6\" class=\"data row11 col6\" >6</td>\n",
       "                        <td id=\"T_4b0aa7b6_cf7f_11eb_b8e5_1c1bb5dd724arow11_col7\" class=\"data row11 col7\" >65</td>\n",
       "                        <td id=\"T_4b0aa7b6_cf7f_11eb_b8e5_1c1bb5dd724arow11_col8\" class=\"data row11 col8\" >9.23%</td>\n",
       "                        <td id=\"T_4b0aa7b6_cf7f_11eb_b8e5_1c1bb5dd724arow11_col9\" class=\"data row11 col9\" >90.77%</td>\n",
       "            </tr>\n",
       "    </tbody></table>"
      ],
      "text/plain": [
       "<pandas.io.formats.style.Styler at 0x12c310a6198>"
      ]
     },
     "execution_count": 191,
     "metadata": {},
     "output_type": "execute_result"
    }
   ],
   "source": [
    "#groupng a df by Month and status\n",
    "df_status = df_comcast.groupby(['Month','Status'])['Ticket_count'].sum().unstack().fillna(0)\n",
    "df_status.reset_index(inplace=True)\n",
    "\n",
    "\n",
    "# sorting the mont column in correct month order\n",
    "from sorted_months_weekdays import *\n",
    "from sort_dataframeby_monthorweek import *\n",
    "df_status=Sort_Dataframeby_Month(df=df_status,monthcolumnname='Month')\n",
    "\n",
    "# cacluation to see total open ticekts % and Closed tickets % by month\n",
    "df_status['Closed+Solved'] = df_status['Closed'] + df_status['Solved']\n",
    "df_status['Open+pending'] = df_status['Open'] + df_status['Pending']\n",
    "df_status['Total'] = df_status['Closed+Solved']  + df_status['Open+pending']\n",
    "df_status['Open_pct'] = df_status['Open+pending']/df_status['Total']\n",
    "df_status['Closed_pct'] = df_status['Closed+Solved']/df_status['Total']\n",
    "\n",
    "#def highlightvalue(s):\n",
    "    #if s.Open_pct > 0.10:\n",
    "        #return ['background-color: yellow']*10\n",
    "    #else:\n",
    "        #return ['background-color: white']*10\n",
    "\n",
    "#df_status=df_status.style.apply(highlightvalue, axis=1)\n",
    "\n",
    "#df_status[['Open%']].style.applymap(lambda x: 'background-color : yellow' if x>0.10 else '')\n",
    "# formating the Open% and Closed %columns to display the values in %\n",
    "#df_status['Open_pct'] = df_status[['Open_pct']].applymap(lambda x: \"{0:.2f}%\".format(x*100))\n",
    "#df_status['Closed_pct'] = df_status[['Closed_pct']].applymap(lambda x: \"{0:.2f}%\".format(x*100))\n",
    "\n",
    "def color_negative_red(value):\n",
    "  \"\"\"\n",
    "  Colors elements in a dateframe\n",
    "  green if positive and red if\n",
    "  negative. Does not color NaN\n",
    "  values.\n",
    "  \"\"\"\n",
    "\n",
    "  if value > 0.10:\n",
    "    color = 'red'\n",
    "  else:\n",
    "    color = 'black'\n",
    "\n",
    "  return 'color: %s' % color\n",
    "df_status=df_status.style.applymap(color_negative_red, subset=['Open_pct']).format({'Open_pct': \"{:.2%}\",'Closed_pct': \"{:.2%}\"})\n",
    "\n",
    "df_status"
   ]
  },
  {
   "cell_type": "markdown",
   "metadata": {},
   "source": [
    "### Observations 4:\n",
    "   * It appears that, there has been  sudden jump in the customer complaints in may and jun\n",
    "   * mar, may, jul, and jul we seem to have highest open tickets compared to any other months"
   ]
  },
  {
   "cell_type": "markdown",
   "metadata": {},
   "source": [
    "## Q2 - Provide a table with the frequency of complaint types.\n",
    "* Which complaint types are maximum i.e., around internet, network issues, or across any other domains."
   ]
  },
  {
   "cell_type": "code",
   "execution_count": 202,
   "metadata": {},
   "outputs": [
    {
     "data": {
      "text/html": [
       "<div>\n",
       "<style scoped>\n",
       "    .dataframe tbody tr th:only-of-type {\n",
       "        vertical-align: middle;\n",
       "    }\n",
       "\n",
       "    .dataframe tbody tr th {\n",
       "        vertical-align: top;\n",
       "    }\n",
       "\n",
       "    .dataframe thead th {\n",
       "        text-align: right;\n",
       "    }\n",
       "</style>\n",
       "<table border=\"1\" class=\"dataframe\">\n",
       "  <thead>\n",
       "    <tr style=\"text-align: right;\">\n",
       "      <th></th>\n",
       "      <th>Ticket_count</th>\n",
       "    </tr>\n",
       "    <tr>\n",
       "      <th>Customer Complaint</th>\n",
       "      <th></th>\n",
       "    </tr>\n",
       "  </thead>\n",
       "  <tbody>\n",
       "    <tr>\n",
       "      <th>Comcast</th>\n",
       "      <td>83</td>\n",
       "    </tr>\n",
       "    <tr>\n",
       "      <th>Comcast Internet</th>\n",
       "      <td>18</td>\n",
       "    </tr>\n",
       "    <tr>\n",
       "      <th>Comcast Data Cap</th>\n",
       "      <td>17</td>\n",
       "    </tr>\n",
       "    <tr>\n",
       "      <th>comcast</th>\n",
       "      <td>13</td>\n",
       "    </tr>\n",
       "    <tr>\n",
       "      <th>Comcast Billing</th>\n",
       "      <td>11</td>\n",
       "    </tr>\n",
       "    <tr>\n",
       "      <th>Comcast Data Caps</th>\n",
       "      <td>11</td>\n",
       "    </tr>\n",
       "    <tr>\n",
       "      <th>Data Caps</th>\n",
       "      <td>11</td>\n",
       "    </tr>\n",
       "    <tr>\n",
       "      <th>Unfair Billing Practices</th>\n",
       "      <td>9</td>\n",
       "    </tr>\n",
       "    <tr>\n",
       "      <th>Comcast data cap</th>\n",
       "      <td>8</td>\n",
       "    </tr>\n",
       "    <tr>\n",
       "      <th>Comcast data caps</th>\n",
       "      <td>8</td>\n",
       "    </tr>\n",
       "  </tbody>\n",
       "</table>\n",
       "</div>"
      ],
      "text/plain": [
       "                          Ticket_count\n",
       "Customer Complaint                    \n",
       "Comcast                             83\n",
       "Comcast Internet                    18\n",
       "Comcast Data Cap                    17\n",
       "comcast                             13\n",
       "Comcast Billing                     11\n",
       "Comcast Data Caps                   11\n",
       "Data Caps                           11\n",
       "Unfair Billing Practices             9\n",
       "Comcast data cap                     8\n",
       "Comcast data caps                    8"
      ]
     },
     "execution_count": 202,
     "metadata": {},
     "output_type": "execute_result"
    }
   ],
   "source": [
    "df_comcast_Complaints =df_comcast.groupby('Customer Complaint')[['Ticket_count']].sum().sort_values(by='Ticket_count',ascending=False)\n",
    "df_comcast_Complaints.head(10)"
   ]
  },
  {
   "cell_type": "markdown",
   "metadata": {},
   "source": [
    "Creating a frequency of complaints using the Customer Complaints column, doe snot give us much infromation\n",
    "\n",
    "* firstly these Customer complaints provided are the full complaints information and not a category of complaints\n",
    "  to demonstrate which type of Customer complaints are more than other.\n",
    "* secondly, we do not have a pre defined Complaint Types to group these list of Customer complaints"
   ]
  },
  {
   "cell_type": "markdown",
   "metadata": {},
   "source": [
    "To find out the complaint types, we need to create a custom Complaint Types category based on the customer complaints\n",
    "\n",
    "Since there is no complaint types or category provided, we can use pandas methods to find the key word frequency ( example, internet, billing, etc) using the Customer Complaints data to get the general sense on what type of issues/complaints are being reported using these key word frequency, we can create a customer category of Customer complaints\n"
   ]
  },
  {
   "cell_type": "code",
   "execution_count": 204,
   "metadata": {},
   "outputs": [],
   "source": [
    "# finding the frequency of the words appear in the Customer Complaints Column and visualing using wordcloud"
   ]
  },
  {
   "cell_type": "code",
   "execution_count": 210,
   "metadata": {},
   "outputs": [],
   "source": [
    "from wordcloud import WordCloud, STOPWORDS"
   ]
  },
  {
   "cell_type": "code",
   "execution_count": 212,
   "metadata": {},
   "outputs": [],
   "source": [
    "# converting the Custome Complaints col to list\n",
    "complaints_list= df_comcast['Customer Complaint']\n",
    "\n",
    "# capitalizing every word i the list\n",
    "new_complaints_list=[]\n",
    "for complaints in complaints_list:\n",
    "    new_complaints_list.append(complaints.title())\n",
    "    \n",
    "\n",
    "#Creeating final list of words by removing undwated words\n",
    "words = new_complaints_list\n",
    "words = set(words)\n",
    "stopwords = ['Comcast','And','To','For','My','Comcast','The','Of','Not','With']\n",
    "stopwords = set(stopwords)\n",
    "final_Complaint_list = words - stopwords\n",
    "final_Complaint_list = list(final_Complaint_list)"
   ]
  },
  {
   "cell_type": "code",
   "execution_count": 213,
   "metadata": {},
   "outputs": [
    {
     "data": {
      "image/png": "[encoded data removed]",
      "text/plain": [
       "<Figure size 1080x576 with 1 Axes>"
      ]
     },
     "metadata": {},
     "output_type": "display_data"
    }
   ],
   "source": [
    "from collections import Counter\n",
    "word_could_dict=Counter(final_Complaint_list)\n",
    "wordcloud = WordCloud(width = 1000, height = 500).generate_from_frequencies(word_could_dict)\n",
    "\n",
    "plt.figure(figsize=(15,8))\n",
    "plt.imshow(wordcloud)\n",
    "plt.axis(\"off\")\n",
    "plt.show()"
   ]
  },
  {
   "cell_type": "code",
   "execution_count": 214,
   "metadata": {},
   "outputs": [],
   "source": [
    "# from the word cloud we could see that Internet and Billing seems to be more prominent types of issues\n",
    "# we can explore more to see if there are any other group or types"
   ]
  },
  {
   "cell_type": "code",
   "execution_count": null,
   "metadata": {},
   "outputs": [],
   "source": []
  },
  {
   "cell_type": "code",
   "execution_count": 217,
   "metadata": {},
   "outputs": [
    {
     "data": {
      "text/plain": [
       "Comcast       1031\n",
       "Internet       317\n",
       "and            269\n",
       "service        251\n",
       "internet       182\n",
       "to             175\n",
       "for            173\n",
       "Billing        156\n",
       "Service        153\n",
       "Data           151\n",
       "of             111\n",
       "billing        111\n",
       "comcast         90\n",
       "my              75\n",
       "not             75\n",
       "with            72\n",
       "Cap             63\n",
       "speed           63\n",
       "data            63\n",
       "on              56\n",
       "-               53\n",
       "Unfair          48\n",
       "me              47\n",
       "in              47\n",
       "Speed           47\n",
       "customer        45\n",
       "a               45\n",
       "Caps            44\n",
       "is              44\n",
       "Xfinity         43\n",
       "Practices       43\n",
       "issues          43\n",
       "bill            43\n",
       "Issues          40\n",
       "by              40\n",
       "the             39\n",
       "speeds          39\n",
       "Complaint       39\n",
       "I               38\n",
       "Customer        38\n",
       "no              37\n",
       "from            37\n",
       "cap             37\n",
       "charges         36\n",
       "services        35\n",
       "COMCAST         35\n",
       "Throttling      33\n",
       "&               32\n",
       "caps            31\n",
       "Slow            30\n",
       "dtype: int64"
      ]
     },
     "execution_count": 217,
     "metadata": {},
     "output_type": "execute_result"
    }
   ],
   "source": [
    "complaints = df_comcast['Customer Complaint'].str.split(expand=True).stack().value_counts()\n",
    "complaints.head(50)"
   ]
  },
  {
   "cell_type": "markdown",
   "metadata": {},
   "source": [
    "#### looking at the word cloud and the details of complaints, we can probably create a Complaint Type category under\n",
    "•\tInternet # issues related to internet connectivity, speed, network\n",
    "•\tBilling # issues related to Billing, charges, etc\n",
    "•\tData # issues related to data, data cap, etc\n",
    "•\tService # customer service issues\n",
    "•\tOthers # others\n",
    "This is just a best guess and map Complaint type category based on the frequency of words being found in the Customer Complaints details\n"
   ]
  },
  {
   "cell_type": "code",
   "execution_count": 218,
   "metadata": {},
   "outputs": [],
   "source": [
    "# creating an additional column to df_comcast with Complaint_Types"
   ]
  },
  {
   "cell_type": "code",
   "execution_count": 238,
   "metadata": {},
   "outputs": [],
   "source": [
    "masks = [df_comcast['Customer Complaint'].str.lower().str.contains('internet'),\n",
    "    df_comcast['Customer Complaint'].str.lower().str.contains('speed'),\n",
    "    df_comcast['Customer Complaint'].str.lower().str.contains('connection'),\n",
    "    df_comcast['Customer Complaint'].str.lower().str.contains('billing'),\n",
    "    df_comcast['Customer Complaint'].str.lower().str.contains('bil'),\n",
    "    df_comcast['Customer Complaint'].str.lower().str.contains('fee'),\n",
    "    df_comcast['Customer Complaint'].str.lower().str.contains('charge'),\n",
    "    df_comcast['Customer Complaint'].str.lower().str.contains('pric'),\n",
    "    df_comcast['Customer Complaint'].str.lower().str.contains('data'),\n",
    "    df_comcast['Customer Complaint'].str.lower().str.contains('cap'),\n",
    "    df_comcast['Customer Complaint'].str.lower().str.contains('service'),\n",
    "\n",
    "]\n",
    "\n",
    "values = [\n",
    "    'Internet',\n",
    "    'Internet',  \n",
    "    'Internet', \n",
    "    'Billing',\n",
    "    'Billing',\n",
    "    'Billing',\n",
    "    'Billing',\n",
    "    'Billing',\n",
    "    'Data',\n",
    "    'Data',\n",
    "    'Service'\n",
    "\n",
    "]\n",
    "\n",
    "import numpy as np\n",
    "\n",
    "df_comcast['Complaint_Types'] = np.select(masks, values, default='Others')"
   ]
  },
  {
   "cell_type": "code",
   "execution_count": 239,
   "metadata": {},
   "outputs": [
    {
     "data": {
      "text/html": [
       "<div>\n",
       "<style scoped>\n",
       "    .dataframe tbody tr th:only-of-type {\n",
       "        vertical-align: middle;\n",
       "    }\n",
       "\n",
       "    .dataframe tbody tr th {\n",
       "        vertical-align: top;\n",
       "    }\n",
       "\n",
       "    .dataframe thead th {\n",
       "        text-align: right;\n",
       "    }\n",
       "</style>\n",
       "<table border=\"1\" class=\"dataframe\">\n",
       "  <thead>\n",
       "    <tr style=\"text-align: right;\">\n",
       "      <th></th>\n",
       "      <th>Ticket #</th>\n",
       "      <th>Customer Complaint</th>\n",
       "      <th>Date</th>\n",
       "      <th>Date_month_year</th>\n",
       "      <th>Time</th>\n",
       "      <th>Received Via</th>\n",
       "      <th>City</th>\n",
       "      <th>State</th>\n",
       "      <th>Zip code</th>\n",
       "      <th>Status</th>\n",
       "      <th>Filing on Behalf of Someone</th>\n",
       "      <th>datetime</th>\n",
       "      <th>Year</th>\n",
       "      <th>Month</th>\n",
       "      <th>date</th>\n",
       "      <th>Ticket_count</th>\n",
       "      <th>Complaint_Types</th>\n",
       "    </tr>\n",
       "  </thead>\n",
       "  <tbody>\n",
       "    <tr>\n",
       "      <th>1852</th>\n",
       "      <td>211255</td>\n",
       "      <td>Comcast harassment</td>\n",
       "      <td>04-01-15</td>\n",
       "      <td>04-Jan-15</td>\n",
       "      <td>12:18:47 AM</td>\n",
       "      <td>Customer Care Call</td>\n",
       "      <td>Schaumburg</td>\n",
       "      <td>Illinois</td>\n",
       "      <td>60193</td>\n",
       "      <td>Closed</td>\n",
       "      <td>No</td>\n",
       "      <td>2015-01-04 00:18:47</td>\n",
       "      <td>2015</td>\n",
       "      <td>Jan</td>\n",
       "      <td>2015-01-04</td>\n",
       "      <td>1</td>\n",
       "      <td>Others</td>\n",
       "    </tr>\n",
       "    <tr>\n",
       "      <th>1160</th>\n",
       "      <td>211472</td>\n",
       "      <td>comcast cable</td>\n",
       "      <td>04-01-15</td>\n",
       "      <td>04-Jan-15</td>\n",
       "      <td>10:43:20 AM</td>\n",
       "      <td>Customer Care Call</td>\n",
       "      <td>Lockport</td>\n",
       "      <td>Illinois</td>\n",
       "      <td>60441</td>\n",
       "      <td>Closed</td>\n",
       "      <td>No</td>\n",
       "      <td>2015-01-04 10:43:20</td>\n",
       "      <td>2015</td>\n",
       "      <td>Jan</td>\n",
       "      <td>2015-01-04</td>\n",
       "      <td>1</td>\n",
       "      <td>Others</td>\n",
       "    </tr>\n",
       "    <tr>\n",
       "      <th>1430</th>\n",
       "      <td>211478</td>\n",
       "      <td>Comcast</td>\n",
       "      <td>04-01-15</td>\n",
       "      <td>04-Jan-15</td>\n",
       "      <td>10:47:35 AM</td>\n",
       "      <td>Internet</td>\n",
       "      <td>North Huntingdon</td>\n",
       "      <td>Pennsylvania</td>\n",
       "      <td>15642</td>\n",
       "      <td>Closed</td>\n",
       "      <td>No</td>\n",
       "      <td>2015-01-04 10:47:35</td>\n",
       "      <td>2015</td>\n",
       "      <td>Jan</td>\n",
       "      <td>2015-01-04</td>\n",
       "      <td>1</td>\n",
       "      <td>Others</td>\n",
       "    </tr>\n",
       "    <tr>\n",
       "      <th>2144</th>\n",
       "      <td>211677</td>\n",
       "      <td>Comcast refusal of service</td>\n",
       "      <td>04-01-15</td>\n",
       "      <td>04-Jan-15</td>\n",
       "      <td>12:01:06 PM</td>\n",
       "      <td>Customer Care Call</td>\n",
       "      <td>Wayne</td>\n",
       "      <td>Pennsylvania</td>\n",
       "      <td>19087</td>\n",
       "      <td>Closed</td>\n",
       "      <td>No</td>\n",
       "      <td>2015-01-04 12:01:06</td>\n",
       "      <td>2015</td>\n",
       "      <td>Jan</td>\n",
       "      <td>2015-01-04</td>\n",
       "      <td>1</td>\n",
       "      <td>Service</td>\n",
       "    </tr>\n",
       "    <tr>\n",
       "      <th>1237</th>\n",
       "      <td>211775</td>\n",
       "      <td>Horrible Service</td>\n",
       "      <td>04-01-15</td>\n",
       "      <td>04-Jan-15</td>\n",
       "      <td>12:28:58 PM</td>\n",
       "      <td>Customer Care Call</td>\n",
       "      <td>Mckeesport</td>\n",
       "      <td>Pennsylvania</td>\n",
       "      <td>15132</td>\n",
       "      <td>Closed</td>\n",
       "      <td>No</td>\n",
       "      <td>2015-01-04 12:28:58</td>\n",
       "      <td>2015</td>\n",
       "      <td>Jan</td>\n",
       "      <td>2015-01-04</td>\n",
       "      <td>1</td>\n",
       "      <td>Service</td>\n",
       "    </tr>\n",
       "  </tbody>\n",
       "</table>\n",
       "</div>"
      ],
      "text/plain": [
       "     Ticket #          Customer Complaint      Date Date_month_year  \\\n",
       "1852   211255          Comcast harassment  04-01-15       04-Jan-15   \n",
       "1160   211472               comcast cable  04-01-15       04-Jan-15   \n",
       "1430   211478                     Comcast  04-01-15       04-Jan-15   \n",
       "2144   211677  Comcast refusal of service  04-01-15       04-Jan-15   \n",
       "1237   211775            Horrible Service  04-01-15       04-Jan-15   \n",
       "\n",
       "             Time        Received Via              City         State  \\\n",
       "1852  12:18:47 AM  Customer Care Call        Schaumburg      Illinois   \n",
       "1160  10:43:20 AM  Customer Care Call          Lockport      Illinois   \n",
       "1430  10:47:35 AM            Internet  North Huntingdon  Pennsylvania   \n",
       "2144  12:01:06 PM  Customer Care Call             Wayne  Pennsylvania   \n",
       "1237  12:28:58 PM  Customer Care Call        Mckeesport  Pennsylvania   \n",
       "\n",
       "      Zip code  Status Filing on Behalf of Someone            datetime  Year  \\\n",
       "1852     60193  Closed                          No 2015-01-04 00:18:47  2015   \n",
       "1160     60441  Closed                          No 2015-01-04 10:43:20  2015   \n",
       "1430     15642  Closed                          No 2015-01-04 10:47:35  2015   \n",
       "2144     19087  Closed                          No 2015-01-04 12:01:06  2015   \n",
       "1237     15132  Closed                          No 2015-01-04 12:28:58  2015   \n",
       "\n",
       "     Month       date  Ticket_count Complaint_Types  \n",
       "1852   Jan 2015-01-04             1          Others  \n",
       "1160   Jan 2015-01-04             1          Others  \n",
       "1430   Jan 2015-01-04             1          Others  \n",
       "2144   Jan 2015-01-04             1         Service  \n",
       "1237   Jan 2015-01-04             1         Service  "
      ]
     },
     "execution_count": 239,
     "metadata": {},
     "output_type": "execute_result"
    }
   ],
   "source": [
    "df_comcast.head()"
   ]
  },
  {
   "cell_type": "code",
   "execution_count": 240,
   "metadata": {},
   "outputs": [
    {
     "data": {
      "text/html": [
       "<div>\n",
       "<style scoped>\n",
       "    .dataframe tbody tr th:only-of-type {\n",
       "        vertical-align: middle;\n",
       "    }\n",
       "\n",
       "    .dataframe tbody tr th {\n",
       "        vertical-align: top;\n",
       "    }\n",
       "\n",
       "    .dataframe thead th {\n",
       "        text-align: right;\n",
       "    }\n",
       "</style>\n",
       "<table border=\"1\" class=\"dataframe\">\n",
       "  <thead>\n",
       "    <tr style=\"text-align: right;\">\n",
       "      <th></th>\n",
       "      <th>Ticket_count</th>\n",
       "    </tr>\n",
       "    <tr>\n",
       "      <th>Complaint_Types</th>\n",
       "      <th></th>\n",
       "    </tr>\n",
       "  </thead>\n",
       "  <tbody>\n",
       "    <tr>\n",
       "      <th>Internet</th>\n",
       "      <td>636</td>\n",
       "    </tr>\n",
       "    <tr>\n",
       "      <th>Others</th>\n",
       "      <td>612</td>\n",
       "    </tr>\n",
       "    <tr>\n",
       "      <th>Billing</th>\n",
       "      <td>542</td>\n",
       "    </tr>\n",
       "    <tr>\n",
       "      <th>Service</th>\n",
       "      <td>239</td>\n",
       "    </tr>\n",
       "    <tr>\n",
       "      <th>Data</th>\n",
       "      <td>195</td>\n",
       "    </tr>\n",
       "  </tbody>\n",
       "</table>\n",
       "</div>"
      ],
      "text/plain": [
       "                 Ticket_count\n",
       "Complaint_Types              \n",
       "Internet                  636\n",
       "Others                    612\n",
       "Billing                   542\n",
       "Service                   239\n",
       "Data                      195"
      ]
     },
     "execution_count": 240,
     "metadata": {},
     "output_type": "execute_result"
    }
   ],
   "source": [
    "#creating a table with the frequency of the newly created complaint Types\n",
    "df_comcast.groupby(['Complaint_Types'])[['Ticket_count']].sum().sort_values(by='Ticket_count', ascending=False)"
   ]
  },
  {
   "cell_type": "markdown",
   "metadata": {},
   "source": [
    "* as per the data we can say that Internet, Billing and others are the three areas where we can see most of the complaints being recorded\n",
    "* We can probably look more deeper into these complaints to understand more on the issues\n"
   ]
  },
  {
   "cell_type": "markdown",
   "metadata": {},
   "source": [
    "# Q3. Create a new categorical variable with value as Open and Closed. Open & Pending is to be categorized as Open and Closed & Solved is to be categorized as Closed."
   ]
  },
  {
   "cell_type": "code",
   "execution_count": 243,
   "metadata": {},
   "outputs": [
    {
     "data": {
      "text/html": [
       "<div>\n",
       "<style scoped>\n",
       "    .dataframe tbody tr th:only-of-type {\n",
       "        vertical-align: middle;\n",
       "    }\n",
       "\n",
       "    .dataframe tbody tr th {\n",
       "        vertical-align: top;\n",
       "    }\n",
       "\n",
       "    .dataframe thead th {\n",
       "        text-align: right;\n",
       "    }\n",
       "</style>\n",
       "<table border=\"1\" class=\"dataframe\">\n",
       "  <thead>\n",
       "    <tr style=\"text-align: right;\">\n",
       "      <th></th>\n",
       "      <th>Ticket #</th>\n",
       "      <th>Customer Complaint</th>\n",
       "      <th>Date</th>\n",
       "      <th>Date_month_year</th>\n",
       "      <th>Time</th>\n",
       "      <th>Received Via</th>\n",
       "      <th>City</th>\n",
       "      <th>State</th>\n",
       "      <th>Zip code</th>\n",
       "      <th>Status</th>\n",
       "      <th>Filing on Behalf of Someone</th>\n",
       "      <th>datetime</th>\n",
       "      <th>Year</th>\n",
       "      <th>Month</th>\n",
       "      <th>date</th>\n",
       "      <th>Ticket_count</th>\n",
       "      <th>Complaint_Types</th>\n",
       "      <th>Ticket_Status</th>\n",
       "    </tr>\n",
       "  </thead>\n",
       "  <tbody>\n",
       "    <tr>\n",
       "      <th>1852</th>\n",
       "      <td>211255</td>\n",
       "      <td>Comcast harassment</td>\n",
       "      <td>04-01-15</td>\n",
       "      <td>04-Jan-15</td>\n",
       "      <td>12:18:47 AM</td>\n",
       "      <td>Customer Care Call</td>\n",
       "      <td>Schaumburg</td>\n",
       "      <td>Illinois</td>\n",
       "      <td>60193</td>\n",
       "      <td>Closed</td>\n",
       "      <td>No</td>\n",
       "      <td>2015-01-04 00:18:47</td>\n",
       "      <td>2015</td>\n",
       "      <td>Jan</td>\n",
       "      <td>2015-01-04</td>\n",
       "      <td>1</td>\n",
       "      <td>Others</td>\n",
       "      <td>Closed</td>\n",
       "    </tr>\n",
       "    <tr>\n",
       "      <th>1160</th>\n",
       "      <td>211472</td>\n",
       "      <td>comcast cable</td>\n",
       "      <td>04-01-15</td>\n",
       "      <td>04-Jan-15</td>\n",
       "      <td>10:43:20 AM</td>\n",
       "      <td>Customer Care Call</td>\n",
       "      <td>Lockport</td>\n",
       "      <td>Illinois</td>\n",
       "      <td>60441</td>\n",
       "      <td>Closed</td>\n",
       "      <td>No</td>\n",
       "      <td>2015-01-04 10:43:20</td>\n",
       "      <td>2015</td>\n",
       "      <td>Jan</td>\n",
       "      <td>2015-01-04</td>\n",
       "      <td>1</td>\n",
       "      <td>Others</td>\n",
       "      <td>Closed</td>\n",
       "    </tr>\n",
       "    <tr>\n",
       "      <th>1430</th>\n",
       "      <td>211478</td>\n",
       "      <td>Comcast</td>\n",
       "      <td>04-01-15</td>\n",
       "      <td>04-Jan-15</td>\n",
       "      <td>10:47:35 AM</td>\n",
       "      <td>Internet</td>\n",
       "      <td>North Huntingdon</td>\n",
       "      <td>Pennsylvania</td>\n",
       "      <td>15642</td>\n",
       "      <td>Closed</td>\n",
       "      <td>No</td>\n",
       "      <td>2015-01-04 10:47:35</td>\n",
       "      <td>2015</td>\n",
       "      <td>Jan</td>\n",
       "      <td>2015-01-04</td>\n",
       "      <td>1</td>\n",
       "      <td>Others</td>\n",
       "      <td>Closed</td>\n",
       "    </tr>\n",
       "    <tr>\n",
       "      <th>2144</th>\n",
       "      <td>211677</td>\n",
       "      <td>Comcast refusal of service</td>\n",
       "      <td>04-01-15</td>\n",
       "      <td>04-Jan-15</td>\n",
       "      <td>12:01:06 PM</td>\n",
       "      <td>Customer Care Call</td>\n",
       "      <td>Wayne</td>\n",
       "      <td>Pennsylvania</td>\n",
       "      <td>19087</td>\n",
       "      <td>Closed</td>\n",
       "      <td>No</td>\n",
       "      <td>2015-01-04 12:01:06</td>\n",
       "      <td>2015</td>\n",
       "      <td>Jan</td>\n",
       "      <td>2015-01-04</td>\n",
       "      <td>1</td>\n",
       "      <td>Service</td>\n",
       "      <td>Closed</td>\n",
       "    </tr>\n",
       "    <tr>\n",
       "      <th>1237</th>\n",
       "      <td>211775</td>\n",
       "      <td>Horrible Service</td>\n",
       "      <td>04-01-15</td>\n",
       "      <td>04-Jan-15</td>\n",
       "      <td>12:28:58 PM</td>\n",
       "      <td>Customer Care Call</td>\n",
       "      <td>Mckeesport</td>\n",
       "      <td>Pennsylvania</td>\n",
       "      <td>15132</td>\n",
       "      <td>Closed</td>\n",
       "      <td>No</td>\n",
       "      <td>2015-01-04 12:28:58</td>\n",
       "      <td>2015</td>\n",
       "      <td>Jan</td>\n",
       "      <td>2015-01-04</td>\n",
       "      <td>1</td>\n",
       "      <td>Service</td>\n",
       "      <td>Closed</td>\n",
       "    </tr>\n",
       "  </tbody>\n",
       "</table>\n",
       "</div>"
      ],
      "text/plain": [
       "     Ticket #          Customer Complaint      Date Date_month_year  \\\n",
       "1852   211255          Comcast harassment  04-01-15       04-Jan-15   \n",
       "1160   211472               comcast cable  04-01-15       04-Jan-15   \n",
       "1430   211478                     Comcast  04-01-15       04-Jan-15   \n",
       "2144   211677  Comcast refusal of service  04-01-15       04-Jan-15   \n",
       "1237   211775            Horrible Service  04-01-15       04-Jan-15   \n",
       "\n",
       "             Time        Received Via              City         State  \\\n",
       "1852  12:18:47 AM  Customer Care Call        Schaumburg      Illinois   \n",
       "1160  10:43:20 AM  Customer Care Call          Lockport      Illinois   \n",
       "1430  10:47:35 AM            Internet  North Huntingdon  Pennsylvania   \n",
       "2144  12:01:06 PM  Customer Care Call             Wayne  Pennsylvania   \n",
       "1237  12:28:58 PM  Customer Care Call        Mckeesport  Pennsylvania   \n",
       "\n",
       "      Zip code  Status Filing on Behalf of Someone            datetime  Year  \\\n",
       "1852     60193  Closed                          No 2015-01-04 00:18:47  2015   \n",
       "1160     60441  Closed                          No 2015-01-04 10:43:20  2015   \n",
       "1430     15642  Closed                          No 2015-01-04 10:47:35  2015   \n",
       "2144     19087  Closed                          No 2015-01-04 12:01:06  2015   \n",
       "1237     15132  Closed                          No 2015-01-04 12:28:58  2015   \n",
       "\n",
       "     Month       date  Ticket_count Complaint_Types Ticket_Status  \n",
       "1852   Jan 2015-01-04             1          Others        Closed  \n",
       "1160   Jan 2015-01-04             1          Others        Closed  \n",
       "1430   Jan 2015-01-04             1          Others        Closed  \n",
       "2144   Jan 2015-01-04             1         Service        Closed  \n",
       "1237   Jan 2015-01-04             1         Service        Closed  "
      ]
     },
     "execution_count": 243,
     "metadata": {},
     "output_type": "execute_result"
    }
   ],
   "source": [
    "conditions= [df_comcast['Status']=='Closed',df_comcast['Status']=='Solved',\n",
    "             df_comcast['Status']=='Open',df_comcast['Status']=='Pending']\n",
    "\n",
    "values=['Closed','Closed','Open','Open']\n",
    "\n",
    "df_comcast['Ticket_Status'] = np.select(conditions,values)\n",
    "df_comcast.head()"
   ]
  },
  {
   "cell_type": "markdown",
   "metadata": {},
   "source": [
    "# Q4. Provide state wise status of complaints in a stacked bar chart. Use the categorized variable from Q3. Provide insights on:\n",
    "\n",
    "    Which state has the maximum complaints\n",
    "    Which state has the highest percentage of unresolved complaints\n",
    "\n"
   ]
  },
  {
   "cell_type": "code",
   "execution_count": 244,
   "metadata": {},
   "outputs": [
    {
     "data": {
      "text/html": [
       "<div>\n",
       "<style scoped>\n",
       "    .dataframe tbody tr th:only-of-type {\n",
       "        vertical-align: middle;\n",
       "    }\n",
       "\n",
       "    .dataframe tbody tr th {\n",
       "        vertical-align: top;\n",
       "    }\n",
       "\n",
       "    .dataframe thead th {\n",
       "        text-align: right;\n",
       "    }\n",
       "</style>\n",
       "<table border=\"1\" class=\"dataframe\">\n",
       "  <thead>\n",
       "    <tr style=\"text-align: right;\">\n",
       "      <th></th>\n",
       "      <th>State</th>\n",
       "      <th>Ticket_Status</th>\n",
       "      <th>Ticket #</th>\n",
       "    </tr>\n",
       "  </thead>\n",
       "  <tbody>\n",
       "    <tr>\n",
       "      <th>0</th>\n",
       "      <td>Alabama</td>\n",
       "      <td>Closed</td>\n",
       "      <td>17</td>\n",
       "    </tr>\n",
       "    <tr>\n",
       "      <th>1</th>\n",
       "      <td>Alabama</td>\n",
       "      <td>Open</td>\n",
       "      <td>9</td>\n",
       "    </tr>\n",
       "    <tr>\n",
       "      <th>2</th>\n",
       "      <td>Arizona</td>\n",
       "      <td>Closed</td>\n",
       "      <td>14</td>\n",
       "    </tr>\n",
       "    <tr>\n",
       "      <th>3</th>\n",
       "      <td>Arizona</td>\n",
       "      <td>Open</td>\n",
       "      <td>6</td>\n",
       "    </tr>\n",
       "    <tr>\n",
       "      <th>4</th>\n",
       "      <td>Arkansas</td>\n",
       "      <td>Closed</td>\n",
       "      <td>6</td>\n",
       "    </tr>\n",
       "  </tbody>\n",
       "</table>\n",
       "</div>"
      ],
      "text/plain": [
       "      State Ticket_Status  Ticket #\n",
       "0   Alabama        Closed        17\n",
       "1   Alabama          Open         9\n",
       "2   Arizona        Closed        14\n",
       "3   Arizona          Open         6\n",
       "4  Arkansas        Closed         6"
      ]
     },
     "execution_count": 244,
     "metadata": {},
     "output_type": "execute_result"
    }
   ],
   "source": [
    "df_state=df_comcast.groupby(['State','Ticket_Status'])[['Ticket #']].count().reset_index()\n",
    "df_state.head()"
   ]
  },
  {
   "cell_type": "code",
   "execution_count": 250,
   "metadata": {},
   "outputs": [],
   "source": [
    "#plt.figure(figsize=(15,5))\n",
    "#plt.bar(x=df_state[df_state['Ticket_Status']=='Closed']['State'],height=df_state[df_state['Ticket_Status']=='Closed']['Ticket #'],label ='Closed')\n",
    "#plt.bar(x=df_state[df_state['Ticket_Status']=='Open']['State'],height=df_state[df_state['Ticket_Status']=='Open']['Ticket #'],label ='Open')\n",
    "#plt.title('State wise status of complaints')\n",
    "#plt.xlabel('State')\n",
    "#plt.ylabel('# of Customer complaints')\n",
    "#plt.xticks(rotation=90)\n",
    "#plt.legend()\n",
    "#plt.show()"
   ]
  },
  {
   "cell_type": "code",
   "execution_count": 251,
   "metadata": {},
   "outputs": [
    {
     "data": {
      "application/vnd.plotly.v1+json": {
       "config": {
        "plotlyServerURL": "https://plot.ly"
       },
       "data": [
        {
         "alignmentgroup": "True",
         "hovertemplate": "Ticket_Status=Closed<br>State=%{x}<br>Ticket #=%{y}<extra></extra>",
         "legendgroup": "Closed",
         "marker": {
          "color": "#636efa"
         },
         "name": "Closed",
         "offsetgroup": "Closed",
         "orientation": "v",
         "showlegend": true,
         "textposition": "auto",
         "type": "bar",
         "x": [
          "Alabama",
          "Arizona",
          "Arkansas",
          "California",
          "Colorado",
          "Connecticut",
          "Delaware",
          "District Of Columbia",
          "District of Columbia",
          "Florida",
          "Georgia",
          "Illinois",
          "Indiana",
          "Iowa",
          "Kansas",
          "Kentucky",
          "Louisiana",
          "Maine",
          "Maryland",
          "Massachusetts",
          "Michigan",
          "Minnesota",
          "Mississippi",
          "Missouri",
          "Montana",
          "Nevada",
          "New Hampshire",
          "New Jersey",
          "New Mexico",
          "New York",
          "North Carolina",
          "Ohio",
          "Oregon",
          "Pennsylvania",
          "Rhode Island",
          "South Carolina",
          "Tennessee",
          "Texas",
          "Utah",
          "Vermont",
          "Virginia",
          "Washington",
          "West Virginia"
         ],
         "xaxis": "x",
         "y": [
          17,
          14,
          6,
          159,
          58,
          9,
          8,
          14,
          1,
          201,
          208,
          135,
          50,
          1,
          1,
          4,
          12,
          3,
          63,
          50,
          92,
          29,
          23,
          3,
          1,
          1,
          8,
          56,
          11,
          6,
          3,
          3,
          36,
          110,
          1,
          15,
          96,
          49,
          16,
          2,
          49,
          75,
          8
         ],
         "yaxis": "y"
        },
        {
         "alignmentgroup": "True",
         "hovertemplate": "Ticket_Status=Open<br>State=%{x}<br>Ticket #=%{y}<extra></extra>",
         "legendgroup": "Open",
         "marker": {
          "color": "#EF553B"
         },
         "name": "Open",
         "offsetgroup": "Open",
         "orientation": "v",
         "showlegend": true,
         "textposition": "auto",
         "type": "bar",
         "x": [
          "Alabama",
          "Arizona",
          "California",
          "Colorado",
          "Connecticut",
          "Delaware",
          "District Of Columbia",
          "Florida",
          "Georgia",
          "Illinois",
          "Indiana",
          "Kansas",
          "Kentucky",
          "Louisiana",
          "Maine",
          "Maryland",
          "Massachusetts",
          "Michigan",
          "Minnesota",
          "Mississippi",
          "Missouri",
          "New Hampshire",
          "New Jersey",
          "New Mexico",
          "Oregon",
          "Pennsylvania",
          "South Carolina",
          "Tennessee",
          "Texas",
          "Utah",
          "Vermont",
          "Virginia",
          "Washington",
          "West Virginia"
         ],
         "xaxis": "x",
         "y": [
          9,
          6,
          61,
          22,
          3,
          4,
          2,
          39,
          80,
          29,
          9,
          1,
          3,
          1,
          2,
          15,
          11,
          23,
          4,
          16,
          1,
          4,
          19,
          4,
          13,
          20,
          3,
          47,
          22,
          6,
          1,
          11,
          23,
          3
         ],
         "yaxis": "y"
        }
       ],
       "layout": {
        "barmode": "relative",
        "legend": {
         "title": {
          "text": "Ticket_Status"
         },
         "tracegroupgap": 0
        },
        "template": {
         "data": {
          "bar": [
           {
            "error_x": {
             "color": "#2a3f5f"
            },
            "error_y": {
             "color": "#2a3f5f"
            },
            "marker": {
             "line": {
              "color": "#E5ECF6",
              "width": 0.5
             }
            },
            "type": "bar"
           }
          ],
          "barpolar": [
           {
            "marker": {
             "line": {
              "color": "#E5ECF6",
              "width": 0.5
             }
            },
            "type": "barpolar"
           }
          ],
          "carpet": [
           {
            "aaxis": {
             "endlinecolor": "#2a3f5f",
             "gridcolor": "white",
             "linecolor": "white",
             "minorgridcolor": "white",
             "startlinecolor": "#2a3f5f"
            },
            "baxis": {
             "endlinecolor": "#2a3f5f",
             "gridcolor": "white",
             "linecolor": "white",
             "minorgridcolor": "white",
             "startlinecolor": "#2a3f5f"
            },
            "type": "carpet"
           }
          ],
          "choropleth": [
           {
            "colorbar": {
             "outlinewidth": 0,
             "ticks": ""
            },
            "type": "choropleth"
           }
          ],
          "contour": [
           {
            "colorbar": {
             "outlinewidth": 0,
             "ticks": ""
            },
            "colorscale": [
             [
              0,
              "#0d0887"
             ],
             [
              0.1111111111111111,
              "#46039f"
             ],
             [
              0.2222222222222222,
              "#7201a8"
             ],
             [
              0.3333333333333333,
              "#9c179e"
             ],
             [
              0.4444444444444444,
              "#bd3786"
             ],
             [
              0.5555555555555556,
              "#d8576b"
             ],
             [
              0.6666666666666666,
              "#ed7953"
             ],
             [
              0.7777777777777778,
              "#fb9f3a"
             ],
             [
              0.8888888888888888,
              "#fdca26"
             ],
             [
              1,
              "#f0f921"
             ]
            ],
            "type": "contour"
           }
          ],
          "contourcarpet": [
           {
            "colorbar": {
             "outlinewidth": 0,
             "ticks": ""
            },
            "type": "contourcarpet"
           }
          ],
          "heatmap": [
           {
            "colorbar": {
             "outlinewidth": 0,
             "ticks": ""
            },
            "colorscale": [
             [
              0,
              "#0d0887"
             ],
             [
              0.1111111111111111,
              "#46039f"
             ],
             [
              0.2222222222222222,
              "#7201a8"
             ],
             [
              0.3333333333333333,
              "#9c179e"
             ],
             [
              0.4444444444444444,
              "#bd3786"
             ],
             [
              0.5555555555555556,
              "#d8576b"
             ],
             [
              0.6666666666666666,
              "#ed7953"
             ],
             [
              0.7777777777777778,
              "#fb9f3a"
             ],
             [
              0.8888888888888888,
              "#fdca26"
             ],
             [
              1,
              "#f0f921"
             ]
            ],
            "type": "heatmap"
           }
          ],
          "heatmapgl": [
           {
            "colorbar": {
             "outlinewidth": 0,
             "ticks": ""
            },
            "colorscale": [
             [
              0,
              "#0d0887"
             ],
             [
              0.1111111111111111,
              "#46039f"
             ],
             [
              0.2222222222222222,
              "#7201a8"
             ],
             [
              0.3333333333333333,
              "#9c179e"
             ],
             [
              0.4444444444444444,
              "#bd3786"
             ],
             [
              0.5555555555555556,
              "#d8576b"
             ],
             [
              0.6666666666666666,
              "#ed7953"
             ],
             [
              0.7777777777777778,
              "#fb9f3a"
             ],
             [
              0.8888888888888888,
              "#fdca26"
             ],
             [
              1,
              "#f0f921"
             ]
            ],
            "type": "heatmapgl"
           }
          ],
          "histogram": [
           {
            "marker": {
             "colorbar": {
              "outlinewidth": 0,
              "ticks": ""
             }
            },
            "type": "histogram"
           }
          ],
          "histogram2d": [
           {
            "colorbar": {
             "outlinewidth": 0,
             "ticks": ""
            },
            "colorscale": [
             [
              0,
              "#0d0887"
             ],
             [
              0.1111111111111111,
              "#46039f"
             ],
             [
              0.2222222222222222,
              "#7201a8"
             ],
             [
              0.3333333333333333,
              "#9c179e"
             ],
             [
              0.4444444444444444,
              "#bd3786"
             ],
             [
              0.5555555555555556,
              "#d8576b"
             ],
             [
              0.6666666666666666,
              "#ed7953"
             ],
             [
              0.7777777777777778,
              "#fb9f3a"
             ],
             [
              0.8888888888888888,
              "#fdca26"
             ],
             [
              1,
              "#f0f921"
             ]
            ],
            "type": "histogram2d"
           }
          ],
          "histogram2dcontour": [
           {
            "colorbar": {
             "outlinewidth": 0,
             "ticks": ""
            },
            "colorscale": [
             [
              0,
              "#0d0887"
             ],
             [
              0.1111111111111111,
              "#46039f"
             ],
             [
              0.2222222222222222,
              "#7201a8"
             ],
             [
              0.3333333333333333,
              "#9c179e"
             ],
             [
              0.4444444444444444,
              "#bd3786"
             ],
             [
              0.5555555555555556,
              "#d8576b"
             ],
             [
              0.6666666666666666,
              "#ed7953"
             ],
             [
              0.7777777777777778,
              "#fb9f3a"
             ],
             [
              0.8888888888888888,
              "#fdca26"
             ],
             [
              1,
              "#f0f921"
             ]
            ],
            "type": "histogram2dcontour"
           }
          ],
          "mesh3d": [
           {
            "colorbar": {
             "outlinewidth": 0,
             "ticks": ""
            },
            "type": "mesh3d"
           }
          ],
          "parcoords": [
           {
            "line": {
             "colorbar": {
              "outlinewidth": 0,
              "ticks": ""
             }
            },
            "type": "parcoords"
           }
          ],
          "pie": [
           {
            "automargin": true,
            "type": "pie"
           }
          ],
          "scatter": [
           {
            "marker": {
             "colorbar": {
              "outlinewidth": 0,
              "ticks": ""
             }
            },
            "type": "scatter"
           }
          ],
          "scatter3d": [
           {
            "line": {
             "colorbar": {
              "outlinewidth": 0,
              "ticks": ""
             }
            },
            "marker": {
             "colorbar": {
              "outlinewidth": 0,
              "ticks": ""
             }
            },
            "type": "scatter3d"
           }
          ],
          "scattercarpet": [
           {
            "marker": {
             "colorbar": {
              "outlinewidth": 0,
              "ticks": ""
             }
            },
            "type": "scattercarpet"
           }
          ],
          "scattergeo": [
           {
            "marker": {
             "colorbar": {
              "outlinewidth": 0,
              "ticks": ""
             }
            },
            "type": "scattergeo"
           }
          ],
          "scattergl": [
           {
            "marker": {
             "colorbar": {
              "outlinewidth": 0,
              "ticks": ""
             }
            },
            "type": "scattergl"
           }
          ],
          "scattermapbox": [
           {
            "marker": {
             "colorbar": {
              "outlinewidth": 0,
              "ticks": ""
             }
            },
            "type": "scattermapbox"
           }
          ],
          "scatterpolar": [
           {
            "marker": {
             "colorbar": {
              "outlinewidth": 0,
              "ticks": ""
             }
            },
            "type": "scatterpolar"
           }
          ],
          "scatterpolargl": [
           {
            "marker": {
             "colorbar": {
              "outlinewidth": 0,
              "ticks": ""
             }
            },
            "type": "scatterpolargl"
           }
          ],
          "scatterternary": [
           {
            "marker": {
             "colorbar": {
              "outlinewidth": 0,
              "ticks": ""
             }
            },
            "type": "scatterternary"
           }
          ],
          "surface": [
           {
            "colorbar": {
             "outlinewidth": 0,
             "ticks": ""
            },
            "colorscale": [
             [
              0,
              "#0d0887"
             ],
             [
              0.1111111111111111,
              "#46039f"
             ],
             [
              0.2222222222222222,
              "#7201a8"
             ],
             [
              0.3333333333333333,
              "#9c179e"
             ],
             [
              0.4444444444444444,
              "#bd3786"
             ],
             [
              0.5555555555555556,
              "#d8576b"
             ],
             [
              0.6666666666666666,
              "#ed7953"
             ],
             [
              0.7777777777777778,
              "#fb9f3a"
             ],
             [
              0.8888888888888888,
              "#fdca26"
             ],
             [
              1,
              "#f0f921"
             ]
            ],
            "type": "surface"
           }
          ],
          "table": [
           {
            "cells": {
             "fill": {
              "color": "#EBF0F8"
             },
             "line": {
              "color": "white"
             }
            },
            "header": {
             "fill": {
              "color": "#C8D4E3"
             },
             "line": {
              "color": "white"
             }
            },
            "type": "table"
           }
          ]
         },
         "layout": {
          "annotationdefaults": {
           "arrowcolor": "#2a3f5f",
           "arrowhead": 0,
           "arrowwidth": 1
          },
          "autotypenumbers": "strict",
          "coloraxis": {
           "colorbar": {
            "outlinewidth": 0,
            "ticks": ""
           }
          },
          "colorscale": {
           "diverging": [
            [
             0,
             "#8e0152"
            ],
            [
             0.1,
             "#c51b7d"
            ],
            [
             0.2,
             "#de77ae"
            ],
            [
             0.3,
             "#f1b6da"
            ],
            [
             0.4,
             "#fde0ef"
            ],
            [
             0.5,
             "#f7f7f7"
            ],
            [
             0.6,
             "#e6f5d0"
            ],
            [
             0.7,
             "#b8e186"
            ],
            [
             0.8,
             "#7fbc41"
            ],
            [
             0.9,
             "#4d9221"
            ],
            [
             1,
             "#276419"
            ]
           ],
           "sequential": [
            [
             0,
             "#0d0887"
            ],
            [
             0.1111111111111111,
             "#46039f"
            ],
            [
             0.2222222222222222,
             "#7201a8"
            ],
            [
             0.3333333333333333,
             "#9c179e"
            ],
            [
             0.4444444444444444,
             "#bd3786"
            ],
            [
             0.5555555555555556,
             "#d8576b"
            ],
            [
             0.6666666666666666,
             "#ed7953"
            ],
            [
             0.7777777777777778,
             "#fb9f3a"
            ],
            [
             0.8888888888888888,
             "#fdca26"
            ],
            [
             1,
             "#f0f921"
            ]
           ],
           "sequentialminus": [
            [
             0,
             "#0d0887"
            ],
            [
             0.1111111111111111,
             "#46039f"
            ],
            [
             0.2222222222222222,
             "#7201a8"
            ],
            [
             0.3333333333333333,
             "#9c179e"
            ],
            [
             0.4444444444444444,
             "#bd3786"
            ],
            [
             0.5555555555555556,
             "#d8576b"
            ],
            [
             0.6666666666666666,
             "#ed7953"
            ],
            [
             0.7777777777777778,
             "#fb9f3a"
            ],
            [
             0.8888888888888888,
             "#fdca26"
            ],
            [
             1,
             "#f0f921"
            ]
           ]
          },
          "colorway": [
           "#636efa",
           "#EF553B",
           "#00cc96",
           "#ab63fa",
           "#FFA15A",
           "#19d3f3",
           "#FF6692",
           "#B6E880",
           "#FF97FF",
           "#FECB52"
          ],
          "font": {
           "color": "#2a3f5f"
          },
          "geo": {
           "bgcolor": "white",
           "lakecolor": "white",
           "landcolor": "#E5ECF6",
           "showlakes": true,
           "showland": true,
           "subunitcolor": "white"
          },
          "hoverlabel": {
           "align": "left"
          },
          "hovermode": "closest",
          "mapbox": {
           "style": "light"
          },
          "paper_bgcolor": "white",
          "plot_bgcolor": "#E5ECF6",
          "polar": {
           "angularaxis": {
            "gridcolor": "white",
            "linecolor": "white",
            "ticks": ""
           },
           "bgcolor": "#E5ECF6",
           "radialaxis": {
            "gridcolor": "white",
            "linecolor": "white",
            "ticks": ""
           }
          },
          "scene": {
           "xaxis": {
            "backgroundcolor": "#E5ECF6",
            "gridcolor": "white",
            "gridwidth": 2,
            "linecolor": "white",
            "showbackground": true,
            "ticks": "",
            "zerolinecolor": "white"
           },
           "yaxis": {
            "backgroundcolor": "#E5ECF6",
            "gridcolor": "white",
            "gridwidth": 2,
            "linecolor": "white",
            "showbackground": true,
            "ticks": "",
            "zerolinecolor": "white"
           },
           "zaxis": {
            "backgroundcolor": "#E5ECF6",
            "gridcolor": "white",
            "gridwidth": 2,
            "linecolor": "white",
            "showbackground": true,
            "ticks": "",
            "zerolinecolor": "white"
           }
          },
          "shapedefaults": {
           "line": {
            "color": "#2a3f5f"
           }
          },
          "ternary": {
           "aaxis": {
            "gridcolor": "white",
            "linecolor": "white",
            "ticks": ""
           },
           "baxis": {
            "gridcolor": "white",
            "linecolor": "white",
            "ticks": ""
           },
           "bgcolor": "#E5ECF6",
           "caxis": {
            "gridcolor": "white",
            "linecolor": "white",
            "ticks": ""
           }
          },
          "title": {
           "x": 0.05
          },
          "xaxis": {
           "automargin": true,
           "gridcolor": "white",
           "linecolor": "white",
           "ticks": "",
           "title": {
            "standoff": 15
           },
           "zerolinecolor": "white",
           "zerolinewidth": 2
          },
          "yaxis": {
           "automargin": true,
           "gridcolor": "white",
           "linecolor": "white",
           "ticks": "",
           "title": {
            "standoff": 15
           },
           "zerolinecolor": "white",
           "zerolinewidth": 2
          }
         }
        },
        "title": {
         "text": "state wise status of complaints"
        },
        "xaxis": {
         "anchor": "y",
         "domain": [
          0,
          1
         ],
         "title": {
          "text": "State"
         }
        },
        "yaxis": {
         "anchor": "x",
         "domain": [
          0,
          1
         ],
         "title": {
          "text": "Ticket #"
         }
        }
       }
      },
      "text/html": [
       "<div>                            <div id=\"efe8afee-9715-4b8e-96dc-0be174eec946\" class=\"plotly-graph-div\" style=\"height:525px; width:100%;\"></div>            <script type=\"text/javascript\">                require([\"plotly\"], function(Plotly) {                    window.PLOTLYENV=window.PLOTLYENV || {};                                    if (document.getElementById(\"efe8afee-9715-4b8e-96dc-0be174eec946\")) {                    Plotly.newPlot(                        \"efe8afee-9715-4b8e-96dc-0be174eec946\",                        [{\"alignmentgroup\": \"True\", \"hovertemplate\": \"Ticket_Status=Closed<br>State=%{x}<br>Ticket #=%{y}<extra></extra>\", \"legendgroup\": \"Closed\", \"marker\": {\"color\": \"#636efa\"}, \"name\": \"Closed\", \"offsetgroup\": \"Closed\", \"orientation\": \"v\", \"showlegend\": true, \"textposition\": \"auto\", \"type\": \"bar\", \"x\": [\"Alabama\", \"Arizona\", \"Arkansas\", \"California\", \"Colorado\", \"Connecticut\", \"Delaware\", \"District Of Columbia\", \"District of Columbia\", \"Florida\", \"Georgia\", \"Illinois\", \"Indiana\", \"Iowa\", \"Kansas\", \"Kentucky\", \"Louisiana\", \"Maine\", \"Maryland\", \"Massachusetts\", \"Michigan\", \"Minnesota\", \"Mississippi\", \"Missouri\", \"Montana\", \"Nevada\", \"New Hampshire\", \"New Jersey\", \"New Mexico\", \"New York\", \"North Carolina\", \"Ohio\", \"Oregon\", \"Pennsylvania\", \"Rhode Island\", \"South Carolina\", \"Tennessee\", \"Texas\", \"Utah\", \"Vermont\", \"Virginia\", \"Washington\", \"West Virginia\"], \"xaxis\": \"x\", \"y\": [17, 14, 6, 159, 58, 9, 8, 14, 1, 201, 208, 135, 50, 1, 1, 4, 12, 3, 63, 50, 92, 29, 23, 3, 1, 1, 8, 56, 11, 6, 3, 3, 36, 110, 1, 15, 96, 49, 16, 2, 49, 75, 8], \"yaxis\": \"y\"}, {\"alignmentgroup\": \"True\", \"hovertemplate\": \"Ticket_Status=Open<br>State=%{x}<br>Ticket #=%{y}<extra></extra>\", \"legendgroup\": \"Open\", \"marker\": {\"color\": \"#EF553B\"}, \"name\": \"Open\", \"offsetgroup\": \"Open\", \"orientation\": \"v\", \"showlegend\": true, \"textposition\": \"auto\", \"type\": \"bar\", \"x\": [\"Alabama\", \"Arizona\", \"California\", \"Colorado\", \"Connecticut\", \"Delaware\", \"District Of Columbia\", \"Florida\", \"Georgia\", \"Illinois\", \"Indiana\", \"Kansas\", \"Kentucky\", \"Louisiana\", \"Maine\", \"Maryland\", \"Massachusetts\", \"Michigan\", \"Minnesota\", \"Mississippi\", \"Missouri\", \"New Hampshire\", \"New Jersey\", \"New Mexico\", \"Oregon\", \"Pennsylvania\", \"South Carolina\", \"Tennessee\", \"Texas\", \"Utah\", \"Vermont\", \"Virginia\", \"Washington\", \"West Virginia\"], \"xaxis\": \"x\", \"y\": [9, 6, 61, 22, 3, 4, 2, 39, 80, 29, 9, 1, 3, 1, 2, 15, 11, 23, 4, 16, 1, 4, 19, 4, 13, 20, 3, 47, 22, 6, 1, 11, 23, 3], \"yaxis\": \"y\"}],                        {\"barmode\": \"relative\", \"legend\": {\"title\": {\"text\": \"Ticket_Status\"}, \"tracegroupgap\": 0}, \"template\": {\"data\": {\"bar\": [{\"error_x\": {\"color\": \"#2a3f5f\"}, \"error_y\": {\"color\": \"#2a3f5f\"}, \"marker\": {\"line\": {\"color\": \"#E5ECF6\", \"width\": 0.5}}, \"type\": \"bar\"}], \"barpolar\": [{\"marker\": {\"line\": {\"color\": \"#E5ECF6\", \"width\": 0.5}}, \"type\": \"barpolar\"}], \"carpet\": [{\"aaxis\": {\"endlinecolor\": \"#2a3f5f\", \"gridcolor\": \"white\", \"linecolor\": \"white\", \"minorgridcolor\": \"white\", \"startlinecolor\": \"#2a3f5f\"}, \"baxis\": {\"endlinecolor\": \"#2a3f5f\", \"gridcolor\": \"white\", \"linecolor\": \"white\", \"minorgridcolor\": \"white\", \"startlinecolor\": \"#2a3f5f\"}, \"type\": \"carpet\"}], \"choropleth\": [{\"colorbar\": {\"outlinewidth\": 0, \"ticks\": \"\"}, \"type\": \"choropleth\"}], \"contour\": [{\"colorbar\": {\"outlinewidth\": 0, \"ticks\": \"\"}, \"colorscale\": [[0.0, \"#0d0887\"], [0.1111111111111111, \"#46039f\"], [0.2222222222222222, \"#7201a8\"], [0.3333333333333333, \"#9c179e\"], [0.4444444444444444, \"#bd3786\"], [0.5555555555555556, \"#d8576b\"], [0.6666666666666666, \"#ed7953\"], [0.7777777777777778, \"#fb9f3a\"], [0.8888888888888888, \"#fdca26\"], [1.0, \"#f0f921\"]], \"type\": \"contour\"}], \"contourcarpet\": [{\"colorbar\": {\"outlinewidth\": 0, \"ticks\": \"\"}, \"type\": \"contourcarpet\"}], \"heatmap\": [{\"colorbar\": {\"outlinewidth\": 0, \"ticks\": \"\"}, \"colorscale\": [[0.0, \"#0d0887\"], [0.1111111111111111, \"#46039f\"], [0.2222222222222222, \"#7201a8\"], [0.3333333333333333, \"#9c179e\"], [0.4444444444444444, \"#bd3786\"], [0.5555555555555556, \"#d8576b\"], [0.6666666666666666, \"#ed7953\"], [0.7777777777777778, \"#fb9f3a\"], [0.8888888888888888, \"#fdca26\"], [1.0, \"#f0f921\"]], \"type\": \"heatmap\"}], \"heatmapgl\": [{\"colorbar\": {\"outlinewidth\": 0, \"ticks\": \"\"}, \"colorscale\": [[0.0, \"#0d0887\"], [0.1111111111111111, \"#46039f\"], [0.2222222222222222, \"#7201a8\"], [0.3333333333333333, \"#9c179e\"], [0.4444444444444444, \"#bd3786\"], [0.5555555555555556, \"#d8576b\"], [0.6666666666666666, \"#ed7953\"], [0.7777777777777778, \"#fb9f3a\"], [0.8888888888888888, \"#fdca26\"], [1.0, \"#f0f921\"]], \"type\": \"heatmapgl\"}], \"histogram\": [{\"marker\": {\"colorbar\": {\"outlinewidth\": 0, \"ticks\": \"\"}}, \"type\": \"histogram\"}], \"histogram2d\": [{\"colorbar\": {\"outlinewidth\": 0, \"ticks\": \"\"}, \"colorscale\": [[0.0, \"#0d0887\"], [0.1111111111111111, \"#46039f\"], [0.2222222222222222, \"#7201a8\"], [0.3333333333333333, \"#9c179e\"], [0.4444444444444444, \"#bd3786\"], [0.5555555555555556, \"#d8576b\"], [0.6666666666666666, \"#ed7953\"], [0.7777777777777778, \"#fb9f3a\"], [0.8888888888888888, \"#fdca26\"], [1.0, \"#f0f921\"]], \"type\": \"histogram2d\"}], \"histogram2dcontour\": [{\"colorbar\": {\"outlinewidth\": 0, \"ticks\": \"\"}, \"colorscale\": [[0.0, \"#0d0887\"], [0.1111111111111111, \"#46039f\"], [0.2222222222222222, \"#7201a8\"], [0.3333333333333333, \"#9c179e\"], [0.4444444444444444, \"#bd3786\"], [0.5555555555555556, \"#d8576b\"], [0.6666666666666666, \"#ed7953\"], [0.7777777777777778, \"#fb9f3a\"], [0.8888888888888888, \"#fdca26\"], [1.0, \"#f0f921\"]], \"type\": \"histogram2dcontour\"}], \"mesh3d\": [{\"colorbar\": {\"outlinewidth\": 0, \"ticks\": \"\"}, \"type\": \"mesh3d\"}], \"parcoords\": [{\"line\": {\"colorbar\": {\"outlinewidth\": 0, \"ticks\": \"\"}}, \"type\": \"parcoords\"}], \"pie\": [{\"automargin\": true, \"type\": \"pie\"}], \"scatter\": [{\"marker\": {\"colorbar\": {\"outlinewidth\": 0, \"ticks\": \"\"}}, \"type\": \"scatter\"}], \"scatter3d\": [{\"line\": {\"colorbar\": {\"outlinewidth\": 0, \"ticks\": \"\"}}, \"marker\": {\"colorbar\": {\"outlinewidth\": 0, \"ticks\": \"\"}}, \"type\": \"scatter3d\"}], \"scattercarpet\": [{\"marker\": {\"colorbar\": {\"outlinewidth\": 0, \"ticks\": \"\"}}, \"type\": \"scattercarpet\"}], \"scattergeo\": [{\"marker\": {\"colorbar\": {\"outlinewidth\": 0, \"ticks\": \"\"}}, \"type\": \"scattergeo\"}], \"scattergl\": [{\"marker\": {\"colorbar\": {\"outlinewidth\": 0, \"ticks\": \"\"}}, \"type\": \"scattergl\"}], \"scattermapbox\": [{\"marker\": {\"colorbar\": {\"outlinewidth\": 0, \"ticks\": \"\"}}, \"type\": \"scattermapbox\"}], \"scatterpolar\": [{\"marker\": {\"colorbar\": {\"outlinewidth\": 0, \"ticks\": \"\"}}, \"type\": \"scatterpolar\"}], \"scatterpolargl\": [{\"marker\": {\"colorbar\": {\"outlinewidth\": 0, \"ticks\": \"\"}}, \"type\": \"scatterpolargl\"}], \"scatterternary\": [{\"marker\": {\"colorbar\": {\"outlinewidth\": 0, \"ticks\": \"\"}}, \"type\": \"scatterternary\"}], \"surface\": [{\"colorbar\": {\"outlinewidth\": 0, \"ticks\": \"\"}, \"colorscale\": [[0.0, \"#0d0887\"], [0.1111111111111111, \"#46039f\"], [0.2222222222222222, \"#7201a8\"], [0.3333333333333333, \"#9c179e\"], [0.4444444444444444, \"#bd3786\"], [0.5555555555555556, \"#d8576b\"], [0.6666666666666666, \"#ed7953\"], [0.7777777777777778, \"#fb9f3a\"], [0.8888888888888888, \"#fdca26\"], [1.0, \"#f0f921\"]], \"type\": \"surface\"}], \"table\": [{\"cells\": {\"fill\": {\"color\": \"#EBF0F8\"}, \"line\": {\"color\": \"white\"}}, \"header\": {\"fill\": {\"color\": \"#C8D4E3\"}, \"line\": {\"color\": \"white\"}}, \"type\": \"table\"}]}, \"layout\": {\"annotationdefaults\": {\"arrowcolor\": \"#2a3f5f\", \"arrowhead\": 0, \"arrowwidth\": 1}, \"autotypenumbers\": \"strict\", \"coloraxis\": {\"colorbar\": {\"outlinewidth\": 0, \"ticks\": \"\"}}, \"colorscale\": {\"diverging\": [[0, \"#8e0152\"], [0.1, \"#c51b7d\"], [0.2, \"#de77ae\"], [0.3, \"#f1b6da\"], [0.4, \"#fde0ef\"], [0.5, \"#f7f7f7\"], [0.6, \"#e6f5d0\"], [0.7, \"#b8e186\"], [0.8, \"#7fbc41\"], [0.9, \"#4d9221\"], [1, \"#276419\"]], \"sequential\": [[0.0, \"#0d0887\"], [0.1111111111111111, \"#46039f\"], [0.2222222222222222, \"#7201a8\"], [0.3333333333333333, \"#9c179e\"], [0.4444444444444444, \"#bd3786\"], [0.5555555555555556, \"#d8576b\"], [0.6666666666666666, \"#ed7953\"], [0.7777777777777778, \"#fb9f3a\"], [0.8888888888888888, \"#fdca26\"], [1.0, \"#f0f921\"]], \"sequentialminus\": [[0.0, \"#0d0887\"], [0.1111111111111111, \"#46039f\"], [0.2222222222222222, \"#7201a8\"], [0.3333333333333333, \"#9c179e\"], [0.4444444444444444, \"#bd3786\"], [0.5555555555555556, \"#d8576b\"], [0.6666666666666666, \"#ed7953\"], [0.7777777777777778, \"#fb9f3a\"], [0.8888888888888888, \"#fdca26\"], [1.0, \"#f0f921\"]]}, \"colorway\": [\"#636efa\", \"#EF553B\", \"#00cc96\", \"#ab63fa\", \"#FFA15A\", \"#19d3f3\", \"#FF6692\", \"#B6E880\", \"#FF97FF\", \"#FECB52\"], \"font\": {\"color\": \"#2a3f5f\"}, \"geo\": {\"bgcolor\": \"white\", \"lakecolor\": \"white\", \"landcolor\": \"#E5ECF6\", \"showlakes\": true, \"showland\": true, \"subunitcolor\": \"white\"}, \"hoverlabel\": {\"align\": \"left\"}, \"hovermode\": \"closest\", \"mapbox\": {\"style\": \"light\"}, \"paper_bgcolor\": \"white\", \"plot_bgcolor\": \"#E5ECF6\", \"polar\": {\"angularaxis\": {\"gridcolor\": \"white\", \"linecolor\": \"white\", \"ticks\": \"\"}, \"bgcolor\": \"#E5ECF6\", \"radialaxis\": {\"gridcolor\": \"white\", \"linecolor\": \"white\", \"ticks\": \"\"}}, \"scene\": {\"xaxis\": {\"backgroundcolor\": \"#E5ECF6\", \"gridcolor\": \"white\", \"gridwidth\": 2, \"linecolor\": \"white\", \"showbackground\": true, \"ticks\": \"\", \"zerolinecolor\": \"white\"}, \"yaxis\": {\"backgroundcolor\": \"#E5ECF6\", \"gridcolor\": \"white\", \"gridwidth\": 2, \"linecolor\": \"white\", \"showbackground\": true, \"ticks\": \"\", \"zerolinecolor\": \"white\"}, \"zaxis\": {\"backgroundcolor\": \"#E5ECF6\", \"gridcolor\": \"white\", \"gridwidth\": 2, \"linecolor\": \"white\", \"showbackground\": true, \"ticks\": \"\", \"zerolinecolor\": \"white\"}}, \"shapedefaults\": {\"line\": {\"color\": \"#2a3f5f\"}}, \"ternary\": {\"aaxis\": {\"gridcolor\": \"white\", \"linecolor\": \"white\", \"ticks\": \"\"}, \"baxis\": {\"gridcolor\": \"white\", \"linecolor\": \"white\", \"ticks\": \"\"}, \"bgcolor\": \"#E5ECF6\", \"caxis\": {\"gridcolor\": \"white\", \"linecolor\": \"white\", \"ticks\": \"\"}}, \"title\": {\"x\": 0.05}, \"xaxis\": {\"automargin\": true, \"gridcolor\": \"white\", \"linecolor\": \"white\", \"ticks\": \"\", \"title\": {\"standoff\": 15}, \"zerolinecolor\": \"white\", \"zerolinewidth\": 2}, \"yaxis\": {\"automargin\": true, \"gridcolor\": \"white\", \"linecolor\": \"white\", \"ticks\": \"\", \"title\": {\"standoff\": 15}, \"zerolinecolor\": \"white\", \"zerolinewidth\": 2}}}, \"title\": {\"text\": \"state wise status of complaints\"}, \"xaxis\": {\"anchor\": \"y\", \"domain\": [0.0, 1.0], \"title\": {\"text\": \"State\"}}, \"yaxis\": {\"anchor\": \"x\", \"domain\": [0.0, 1.0], \"title\": {\"text\": \"Ticket #\"}}},                        {\"responsive\": true}                    ).then(function(){\n",
       "                            \n",
       "var gd = document.getElementById('efe8afee-9715-4b8e-96dc-0be174eec946');\n",
       "var x = new MutationObserver(function (mutations, observer) {{\n",
       "        var display = window.getComputedStyle(gd).display;\n",
       "        if (!display || display === 'none') {{\n",
       "            console.log([gd, 'removed!']);\n",
       "            Plotly.purge(gd);\n",
       "            observer.disconnect();\n",
       "        }}\n",
       "}});\n",
       "\n",
       "// Listen for the removal of the full notebook cells\n",
       "var notebookContainer = gd.closest('#notebook-container');\n",
       "if (notebookContainer) {{\n",
       "    x.observe(notebookContainer, {childList: true});\n",
       "}}\n",
       "\n",
       "// Listen for the clearing of the current output cell\n",
       "var outputEl = gd.closest('.output');\n",
       "if (outputEl) {{\n",
       "    x.observe(outputEl, {childList: true});\n",
       "}}\n",
       "\n",
       "                        })                };                });            </script>        </div>"
      ]
     },
     "metadata": {},
     "output_type": "display_data"
    }
   ],
   "source": [
    "fig = px.bar(df_state, x=\"State\", y='Ticket #', color=\"Ticket_Status\", title=\"state wise status of complaints\")\n",
    "fig.show()"
   ]
  },
  {
   "cell_type": "markdown",
   "metadata": {},
   "source": [
    "#### Which state has the maximum complaints\n",
    "* from the above bar chart it is clear that Georgia has the Maxinum number of complaints"
   ]
  },
  {
   "cell_type": "code",
   "execution_count": 270,
   "metadata": {},
   "outputs": [
    {
     "data": {
      "text/html": [
       "<div>\n",
       "<style scoped>\n",
       "    .dataframe tbody tr th:only-of-type {\n",
       "        vertical-align: middle;\n",
       "    }\n",
       "\n",
       "    .dataframe tbody tr th {\n",
       "        vertical-align: top;\n",
       "    }\n",
       "\n",
       "    .dataframe thead th {\n",
       "        text-align: right;\n",
       "    }\n",
       "</style>\n",
       "<table border=\"1\" class=\"dataframe\">\n",
       "  <thead>\n",
       "    <tr style=\"text-align: right;\">\n",
       "      <th></th>\n",
       "      <th>Ticket_count</th>\n",
       "    </tr>\n",
       "    <tr>\n",
       "      <th>State</th>\n",
       "      <th></th>\n",
       "    </tr>\n",
       "  </thead>\n",
       "  <tbody>\n",
       "    <tr>\n",
       "      <th>Georgia</th>\n",
       "      <td>288</td>\n",
       "    </tr>\n",
       "  </tbody>\n",
       "</table>\n",
       "</div>"
      ],
      "text/plain": [
       "         Ticket_count\n",
       "State                \n",
       "Georgia           288"
      ]
     },
     "execution_count": 270,
     "metadata": {},
     "output_type": "execute_result"
    }
   ],
   "source": [
    "#State Group\n",
    "df_state_grp = df_comcast.groupby(['State'])[['Ticket_count']].sum()\n",
    "df_state_grp.loc[df_state_grp['Ticket_count']== df_state_grp['Ticket_count'].max()]"
   ]
  },
  {
   "cell_type": "code",
   "execution_count": null,
   "metadata": {},
   "outputs": [],
   "source": [
    "df_state_grp.loc[df_state_grp['Ticket count']== df_state_grp['Ticket count'].max()]"
   ]
  },
  {
   "cell_type": "code",
   "execution_count": 271,
   "metadata": {},
   "outputs": [
    {
     "data": {
      "image/png": "[encoded data removed]",
      "text/plain": [
       "<Figure size 1080x432 with 1 Axes>"
      ]
     },
     "metadata": {},
     "output_type": "display_data"
    }
   ],
   "source": [
    "ax=df_state_grp.plot(kind='bar',figsize=(15,6),rot=90,color='b',width=0.5)\n",
    "plt.title('Customer Complaints by State')\n",
    "plt.ylabel('Customer Complaints')\n",
    "plt.show()"
   ]
  },
  {
   "cell_type": "markdown",
   "metadata": {},
   "source": [
    "#### Which state has the highest percentage of unresolved complaints"
   ]
  },
  {
   "cell_type": "code",
   "execution_count": 285,
   "metadata": {},
   "outputs": [
    {
     "data": {
      "text/html": [
       "<div>\n",
       "<style scoped>\n",
       "    .dataframe tbody tr th:only-of-type {\n",
       "        vertical-align: middle;\n",
       "    }\n",
       "\n",
       "    .dataframe tbody tr th {\n",
       "        vertical-align: top;\n",
       "    }\n",
       "\n",
       "    .dataframe thead th {\n",
       "        text-align: right;\n",
       "    }\n",
       "</style>\n",
       "<table border=\"1\" class=\"dataframe\">\n",
       "  <thead>\n",
       "    <tr style=\"text-align: right;\">\n",
       "      <th>Ticket_Status</th>\n",
       "      <th>Closed</th>\n",
       "      <th>Open</th>\n",
       "      <th>Open%</th>\n",
       "    </tr>\n",
       "    <tr>\n",
       "      <th>State</th>\n",
       "      <th></th>\n",
       "      <th></th>\n",
       "      <th></th>\n",
       "    </tr>\n",
       "  </thead>\n",
       "  <tbody>\n",
       "    <tr>\n",
       "      <th>Georgia</th>\n",
       "      <td>208.0</td>\n",
       "      <td>80.0</td>\n",
       "      <td>0.154739</td>\n",
       "    </tr>\n",
       "    <tr>\n",
       "      <th>California</th>\n",
       "      <td>159.0</td>\n",
       "      <td>61.0</td>\n",
       "      <td>0.117988</td>\n",
       "    </tr>\n",
       "    <tr>\n",
       "      <th>Tennessee</th>\n",
       "      <td>96.0</td>\n",
       "      <td>47.0</td>\n",
       "      <td>0.090909</td>\n",
       "    </tr>\n",
       "  </tbody>\n",
       "</table>\n",
       "</div>"
      ],
      "text/plain": [
       "Ticket_Status  Closed  Open     Open%\n",
       "State                                \n",
       "Georgia         208.0  80.0  0.154739\n",
       "California      159.0  61.0  0.117988\n",
       "Tennessee        96.0  47.0  0.090909"
      ]
     },
     "execution_count": 285,
     "metadata": {},
     "output_type": "execute_result"
    }
   ],
   "source": [
    "df_Open = df_comcast.groupby(['State','Ticket_Status'])['Ticket_count'].sum().unstack().fillna(0)\n",
    "df_Open['Open%']=df_Open['Open']/df_Open['Open'].sum()\n",
    "df_Open.sort_values(by='Open%',ascending=False).head(3)"
   ]
  },
  {
   "cell_type": "code",
   "execution_count": 378,
   "metadata": {},
   "outputs": [
    {
     "data": {
      "text/html": [
       "<style  type=\"text/css\" >\n",
       "</style><table id=\"T_1cf92f8c_d034_11eb_9329_1c1bb5dd724a\" ><thead>    <tr>        <th class=\"index_name level0\" >Ticket_Status</th>        <th class=\"col_heading level0 col0\" >Closed</th>        <th class=\"col_heading level0 col1\" >Open</th>        <th class=\"col_heading level0 col2\" >Open%</th>    </tr>    <tr>        <th class=\"index_name level0\" >State</th>        <th class=\"blank\" ></th>        <th class=\"blank\" ></th>        <th class=\"blank\" ></th>    </tr></thead><tbody>\n",
       "                <tr>\n",
       "                        <th id=\"T_1cf92f8c_d034_11eb_9329_1c1bb5dd724alevel0_row0\" class=\"row_heading level0 row0\" >Georgia</th>\n",
       "                        <td id=\"T_1cf92f8c_d034_11eb_9329_1c1bb5dd724arow0_col0\" class=\"data row0 col0\" >208</td>\n",
       "                        <td id=\"T_1cf92f8c_d034_11eb_9329_1c1bb5dd724arow0_col1\" class=\"data row0 col1\" >80</td>\n",
       "                        <td id=\"T_1cf92f8c_d034_11eb_9329_1c1bb5dd724arow0_col2\" class=\"data row0 col2\" >15.47%</td>\n",
       "            </tr>\n",
       "    </tbody></table>"
      ],
      "text/plain": [
       "<pandas.io.formats.style.Styler at 0x12c31c98470>"
      ]
     },
     "execution_count": 378,
     "metadata": {},
     "output_type": "execute_result"
    }
   ],
   "source": [
    "df_Open.loc[df_Open['Open%']== df_Open['Open%'].max()].style.format({'Open%': \"{:.2%}\"})"
   ]
  },
  {
   "cell_type": "code",
   "execution_count": 284,
   "metadata": {},
   "outputs": [
    {
     "data": {
      "text/plain": [
       "<matplotlib.axes._subplots.AxesSubplot at 0x12c321a3518>"
      ]
     },
     "execution_count": 284,
     "metadata": {},
     "output_type": "execute_result"
    },
    {
     "data": {
      "image/png": "[encoded data removed]",
      "text/plain": [
       "<Figure size 1080x432 with 1 Axes>"
      ]
     },
     "metadata": {},
     "output_type": "display_data"
    }
   ],
   "source": [
    "df_Open.plot.bar(y='Open%',figsize=(15,6), color='red')"
   ]
  },
  {
   "cell_type": "markdown",
   "metadata": {},
   "source": [
    "# Provide the percentage of complaints resolved till date, which were received through the Internet and customer care calls."
   ]
  },
  {
   "cell_type": "code",
   "execution_count": 365,
   "metadata": {},
   "outputs": [
    {
     "data": {
      "text/html": [
       "<div>\n",
       "<style scoped>\n",
       "    .dataframe tbody tr th:only-of-type {\n",
       "        vertical-align: middle;\n",
       "    }\n",
       "\n",
       "    .dataframe tbody tr th {\n",
       "        vertical-align: top;\n",
       "    }\n",
       "\n",
       "    .dataframe thead th {\n",
       "        text-align: right;\n",
       "    }\n",
       "</style>\n",
       "<table border=\"1\" class=\"dataframe\">\n",
       "  <thead>\n",
       "    <tr style=\"text-align: right;\">\n",
       "      <th>Received Via</th>\n",
       "      <th>Customer Care Call</th>\n",
       "      <th>Internet</th>\n",
       "      <th>Total</th>\n",
       "    </tr>\n",
       "    <tr>\n",
       "      <th>Ticket_Status</th>\n",
       "      <th></th>\n",
       "      <th></th>\n",
       "      <th></th>\n",
       "    </tr>\n",
       "  </thead>\n",
       "  <tbody>\n",
       "    <tr>\n",
       "      <th>Closed</th>\n",
       "      <td>864</td>\n",
       "      <td>843</td>\n",
       "      <td>1707</td>\n",
       "    </tr>\n",
       "    <tr>\n",
       "      <th>Open</th>\n",
       "      <td>255</td>\n",
       "      <td>262</td>\n",
       "      <td>517</td>\n",
       "    </tr>\n",
       "  </tbody>\n",
       "</table>\n",
       "</div>"
      ],
      "text/plain": [
       "Received Via   Customer Care Call  Internet  Total\n",
       "Ticket_Status                                     \n",
       "Closed                        864       843   1707\n",
       "Open                          255       262    517"
      ]
     },
     "execution_count": 365,
     "metadata": {},
     "output_type": "execute_result"
    }
   ],
   "source": [
    "df_resolved =df_comcast.groupby(['Ticket_Status','Received Via'])['Ticket_count'].sum().unstack().fillna(0)\n",
    "df_resolved['Total']=df_resolved['Customer Care Call'] +df_resolved['Internet']\n",
    "#df_resolved['Closed%'] = df_resolved['Closed']/df_resolved['Total']\n",
    "df_resolved\n",
    "#df_resolved.style.format({'Closed%': \"{:.2%}\"})"
   ]
  },
  {
   "cell_type": "code",
   "execution_count": 366,
   "metadata": {},
   "outputs": [
    {
     "data": {
      "text/html": [
       "<div>\n",
       "<style scoped>\n",
       "    .dataframe tbody tr th:only-of-type {\n",
       "        vertical-align: middle;\n",
       "    }\n",
       "\n",
       "    .dataframe tbody tr th {\n",
       "        vertical-align: top;\n",
       "    }\n",
       "\n",
       "    .dataframe thead th {\n",
       "        text-align: right;\n",
       "    }\n",
       "</style>\n",
       "<table border=\"1\" class=\"dataframe\">\n",
       "  <thead>\n",
       "    <tr style=\"text-align: right;\">\n",
       "      <th>Received Via</th>\n",
       "      <th>Customer Care Call</th>\n",
       "      <th>Internet</th>\n",
       "      <th>Total</th>\n",
       "    </tr>\n",
       "    <tr>\n",
       "      <th>Ticket_Status</th>\n",
       "      <th></th>\n",
       "      <th></th>\n",
       "      <th></th>\n",
       "    </tr>\n",
       "  </thead>\n",
       "  <tbody>\n",
       "    <tr>\n",
       "      <th>Closed</th>\n",
       "      <td>864</td>\n",
       "      <td>843</td>\n",
       "      <td>1707</td>\n",
       "    </tr>\n",
       "    <tr>\n",
       "      <th>Open</th>\n",
       "      <td>255</td>\n",
       "      <td>262</td>\n",
       "      <td>517</td>\n",
       "    </tr>\n",
       "    <tr>\n",
       "      <th>Grand Total</th>\n",
       "      <td>1119</td>\n",
       "      <td>1105</td>\n",
       "      <td>2224</td>\n",
       "    </tr>\n",
       "  </tbody>\n",
       "</table>\n",
       "</div>"
      ],
      "text/plain": [
       "Received Via   Customer Care Call  Internet  Total\n",
       "Ticket_Status                                     \n",
       "Closed                        864       843   1707\n",
       "Open                          255       262    517\n",
       "Grand Total                  1119      1105   2224"
      ]
     },
     "execution_count": 366,
     "metadata": {},
     "output_type": "execute_result"
    }
   ],
   "source": [
    "df_resolved.loc['Grand Total'] = df_resolved.sum()\n",
    "df_resolved"
   ]
  },
  {
   "cell_type": "code",
   "execution_count": 370,
   "metadata": {},
   "outputs": [
    {
     "data": {
      "text/html": [
       "<div>\n",
       "<style scoped>\n",
       "    .dataframe tbody tr th:only-of-type {\n",
       "        vertical-align: middle;\n",
       "    }\n",
       "\n",
       "    .dataframe tbody tr th {\n",
       "        vertical-align: top;\n",
       "    }\n",
       "\n",
       "    .dataframe thead th {\n",
       "        text-align: right;\n",
       "    }\n",
       "</style>\n",
       "<table border=\"1\" class=\"dataframe\">\n",
       "  <thead>\n",
       "    <tr style=\"text-align: right;\">\n",
       "      <th>Received Via</th>\n",
       "      <th>Customer Care Call</th>\n",
       "      <th>Internet</th>\n",
       "      <th>Total</th>\n",
       "    </tr>\n",
       "    <tr>\n",
       "      <th>Ticket_Status</th>\n",
       "      <th></th>\n",
       "      <th></th>\n",
       "      <th></th>\n",
       "    </tr>\n",
       "  </thead>\n",
       "  <tbody>\n",
       "    <tr>\n",
       "      <th>Closed</th>\n",
       "      <td>38.85%</td>\n",
       "      <td>37.9%</td>\n",
       "      <td>76.75%</td>\n",
       "    </tr>\n",
       "    <tr>\n",
       "      <th>Open</th>\n",
       "      <td>11.47%</td>\n",
       "      <td>11.78%</td>\n",
       "      <td>23.25%</td>\n",
       "    </tr>\n",
       "    <tr>\n",
       "      <th>Grand Total</th>\n",
       "      <td>50.31%</td>\n",
       "      <td>49.69%</td>\n",
       "      <td>100.0%</td>\n",
       "    </tr>\n",
       "  </tbody>\n",
       "</table>\n",
       "</div>"
      ],
      "text/plain": [
       "Received Via  Customer Care Call Internet   Total\n",
       "Ticket_Status                                    \n",
       "Closed                    38.85%    37.9%  76.75%\n",
       "Open                      11.47%   11.78%  23.25%\n",
       "Grand Total               50.31%   49.69%  100.0%"
      ]
     },
     "execution_count": 370,
     "metadata": {},
     "output_type": "execute_result"
    }
   ],
   "source": [
    "df_resolved_pct = df_resolved.div(df_resolved['Total'][-1]).mul(100).round(2).astype(str) + '%'\n",
    "df_resolved_pct"
   ]
  },
  {
   "cell_type": "code",
   "execution_count": 371,
   "metadata": {},
   "outputs": [],
   "source": [
    "# approximately 77% of the tickets were closed till date and out of which\n",
    "# 39% is from Customer care call and 38% is via Internet"
   ]
  },
  {
   "cell_type": "markdown",
   "metadata": {},
   "source": [
    "######################################################################################"
   ]
  },
  {
   "cell_type": "code",
   "execution_count": null,
   "metadata": {},
   "outputs": [],
   "source": []
  }
 ],
 "metadata": {
  "kernelspec": {
   "display_name": "Python 3 (ipykernel)",
   "language": "python",
   "name": "python3"
  },
  "language_info": {
   "codemirror_mode": {
    "name": "ipython",
    "version": 3
   },
   "file_extension": ".py",
   "mimetype": "text/x-python",
   "name": "python",
   "nbconvert_exporter": "python",
   "pygments_lexer": "ipython3",
   "version": "3.9.7"
  }
 },
 "nbformat": 4,
 "nbformat_minor": 2
}
